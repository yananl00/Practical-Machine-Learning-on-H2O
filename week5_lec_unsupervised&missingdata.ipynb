{
 "cells": [
  {
   "cell_type": "markdown",
   "metadata": {},
   "source": [
    "## Autoencoders"
   ]
  },
  {
   "cell_type": "code",
   "execution_count": 1,
   "metadata": {},
   "outputs": [],
   "source": [
    "import h2o"
   ]
  },
  {
   "cell_type": "code",
   "execution_count": 2,
   "metadata": {},
   "outputs": [],
   "source": [
    "import matplotlib.pyplot as plt\n",
    "%matplotlib inline"
   ]
  },
  {
   "cell_type": "code",
   "execution_count": 3,
   "metadata": {},
   "outputs": [
    {
     "name": "stdout",
     "output_type": "stream",
     "text": [
      "Checking whether there is an H2O instance running at http://localhost:54321 . connected.\n"
     ]
    },
    {
     "data": {
      "text/html": [
       "<div style=\"overflow:auto\"><table style=\"width:50%\"><tr><td>H2O cluster uptime:</td>\n",
       "<td>7 days 2 hours 9 mins</td></tr>\n",
       "<tr><td>H2O cluster timezone:</td>\n",
       "<td>America/Los_Angeles</td></tr>\n",
       "<tr><td>H2O data parsing timezone:</td>\n",
       "<td>UTC</td></tr>\n",
       "<tr><td>H2O cluster version:</td>\n",
       "<td>3.28.0.1</td></tr>\n",
       "<tr><td>H2O cluster version age:</td>\n",
       "<td>26 days </td></tr>\n",
       "<tr><td>H2O cluster name:</td>\n",
       "<td>H2O_from_python_yananli_b8uqhw</td></tr>\n",
       "<tr><td>H2O cluster total nodes:</td>\n",
       "<td>1</td></tr>\n",
       "<tr><td>H2O cluster free memory:</td>\n",
       "<td>1.215 Gb</td></tr>\n",
       "<tr><td>H2O cluster total cores:</td>\n",
       "<td>4</td></tr>\n",
       "<tr><td>H2O cluster allowed cores:</td>\n",
       "<td>4</td></tr>\n",
       "<tr><td>H2O cluster status:</td>\n",
       "<td>locked, healthy</td></tr>\n",
       "<tr><td>H2O connection url:</td>\n",
       "<td>http://localhost:54321</td></tr>\n",
       "<tr><td>H2O connection proxy:</td>\n",
       "<td>{u'http': None, u'https': None}</td></tr>\n",
       "<tr><td>H2O internal security:</td>\n",
       "<td>False</td></tr>\n",
       "<tr><td>H2O API Extensions:</td>\n",
       "<td>Amazon S3, XGBoost, Algos, AutoML, Core V3, TargetEncoder, Core V4</td></tr>\n",
       "<tr><td>Python version:</td>\n",
       "<td>2.7.15 final</td></tr></table></div>"
      ],
      "text/plain": [
       "--------------------------  ------------------------------------------------------------------\n",
       "H2O cluster uptime:         7 days 2 hours 9 mins\n",
       "H2O cluster timezone:       America/Los_Angeles\n",
       "H2O data parsing timezone:  UTC\n",
       "H2O cluster version:        3.28.0.1\n",
       "H2O cluster version age:    26 days\n",
       "H2O cluster name:           H2O_from_python_yananli_b8uqhw\n",
       "H2O cluster total nodes:    1\n",
       "H2O cluster free memory:    1.215 Gb\n",
       "H2O cluster total cores:    4\n",
       "H2O cluster allowed cores:  4\n",
       "H2O cluster status:         locked, healthy\n",
       "H2O connection url:         http://localhost:54321\n",
       "H2O connection proxy:       {u'http': None, u'https': None}\n",
       "H2O internal security:      False\n",
       "H2O API Extensions:         Amazon S3, XGBoost, Algos, AutoML, Core V3, TargetEncoder, Core V4\n",
       "Python version:             2.7.15 final\n",
       "--------------------------  ------------------------------------------------------------------"
      ]
     },
     "metadata": {},
     "output_type": "display_data"
    }
   ],
   "source": [
    "h2o.init()"
   ]
  },
  {
   "cell_type": "code",
   "execution_count": 4,
   "metadata": {},
   "outputs": [
    {
     "name": "stdout",
     "output_type": "stream",
     "text": [
      "Parse progress: |█████████████████████████████████████████████████████████| 100%\n"
     ]
    }
   ],
   "source": [
    "url = \"http://h2o-public-test-data.s3.amazonaws.com/smalldata/iris/iris_wheader.csv\"\n",
    "iris = h2o.import_file(url)"
   ]
  },
  {
   "cell_type": "code",
   "execution_count": 5,
   "metadata": {},
   "outputs": [],
   "source": [
    "train, test = iris.split_frame([0.8], seed = 123)"
   ]
  },
  {
   "cell_type": "code",
   "execution_count": 6,
   "metadata": {},
   "outputs": [],
   "source": [
    "x = [\"sepal_len\", \"sepal_wid\", \"petal_len\", \"petal_wid\"]"
   ]
  },
  {
   "cell_type": "code",
   "execution_count": 7,
   "metadata": {},
   "outputs": [],
   "source": [
    "from h2o.estimators.deeplearning import H2OAutoEncoderEstimator"
   ]
  },
  {
   "cell_type": "code",
   "execution_count": 8,
   "metadata": {},
   "outputs": [
    {
     "name": "stdout",
     "output_type": "stream",
     "text": [
      "deeplearning Model Build progress: |██████████████████████████████████████| 100%\n",
      "CPU times: user 46.7 ms, sys: 8.79 ms, total: 55.4 ms\n",
      "Wall time: 522 ms\n"
     ]
    }
   ],
   "source": [
    "m_AE_4 = H2OAutoEncoderEstimator(\n",
    "    hidden = [4],\n",
    "    activation = \"Tanh\",\n",
    "    epochs = 300,\n",
    "    model_id = \"m_AE_4\",\n",
    "    \n",
    "    train_samples_per_iteration = train.nrow,\n",
    "    score_interval = 0,\n",
    "    score_duty_cycle = 1.0\n",
    ")\n",
    "\n",
    "%time m_AE_4.train(x, None, train)"
   ]
  },
  {
   "cell_type": "code",
   "execution_count": 9,
   "metadata": {},
   "outputs": [
    {
     "data": {
      "text/html": [
       "<div>\n",
       "<style scoped>\n",
       "    .dataframe tbody tr th:only-of-type {\n",
       "        vertical-align: middle;\n",
       "    }\n",
       "\n",
       "    .dataframe tbody tr th {\n",
       "        vertical-align: top;\n",
       "    }\n",
       "\n",
       "    .dataframe thead th {\n",
       "        text-align: right;\n",
       "    }\n",
       "</style>\n",
       "<table border=\"1\" class=\"dataframe\">\n",
       "  <thead>\n",
       "    <tr style=\"text-align: right;\">\n",
       "      <th></th>\n",
       "      <th></th>\n",
       "      <th>timestamp</th>\n",
       "      <th>duration</th>\n",
       "      <th>training_speed</th>\n",
       "      <th>epochs</th>\n",
       "      <th>iterations</th>\n",
       "      <th>samples</th>\n",
       "      <th>training_rmse</th>\n",
       "      <th>training_mse</th>\n",
       "    </tr>\n",
       "  </thead>\n",
       "  <tbody>\n",
       "    <tr>\n",
       "      <th>0</th>\n",
       "      <td></td>\n",
       "      <td>2020-01-12 17:50:36</td>\n",
       "      <td>0.052 sec</td>\n",
       "      <td>0.00000 obs/sec</td>\n",
       "      <td>0.0</td>\n",
       "      <td>0</td>\n",
       "      <td>0.0</td>\n",
       "      <td>0.376876</td>\n",
       "      <td>0.142036</td>\n",
       "    </tr>\n",
       "    <tr>\n",
       "      <th>1</th>\n",
       "      <td></td>\n",
       "      <td>2020-01-12 17:50:36</td>\n",
       "      <td>0.074 sec</td>\n",
       "      <td>6050 obs/sec</td>\n",
       "      <td>1.0</td>\n",
       "      <td>1</td>\n",
       "      <td>121.0</td>\n",
       "      <td>0.288871</td>\n",
       "      <td>0.083446</td>\n",
       "    </tr>\n",
       "    <tr>\n",
       "      <th>2</th>\n",
       "      <td></td>\n",
       "      <td>2020-01-12 17:50:36</td>\n",
       "      <td>0.085 sec</td>\n",
       "      <td>8642 obs/sec</td>\n",
       "      <td>2.0</td>\n",
       "      <td>2</td>\n",
       "      <td>242.0</td>\n",
       "      <td>0.219376</td>\n",
       "      <td>0.048126</td>\n",
       "    </tr>\n",
       "    <tr>\n",
       "      <th>3</th>\n",
       "      <td></td>\n",
       "      <td>2020-01-12 17:50:36</td>\n",
       "      <td>0.091 sec</td>\n",
       "      <td>11000 obs/sec</td>\n",
       "      <td>3.0</td>\n",
       "      <td>3</td>\n",
       "      <td>363.0</td>\n",
       "      <td>0.169505</td>\n",
       "      <td>0.028732</td>\n",
       "    </tr>\n",
       "    <tr>\n",
       "      <th>4</th>\n",
       "      <td></td>\n",
       "      <td>2020-01-12 17:50:36</td>\n",
       "      <td>0.099 sec</td>\n",
       "      <td>12410 obs/sec</td>\n",
       "      <td>4.0</td>\n",
       "      <td>4</td>\n",
       "      <td>484.0</td>\n",
       "      <td>0.131797</td>\n",
       "      <td>0.017371</td>\n",
       "    </tr>\n",
       "  </tbody>\n",
       "</table>\n",
       "</div>"
      ],
      "text/plain": [
       "               timestamp    duration   training_speed  epochs  iterations  \\\n",
       "0    2020-01-12 17:50:36   0.052 sec  0.00000 obs/sec     0.0           0   \n",
       "1    2020-01-12 17:50:36   0.074 sec     6050 obs/sec     1.0           1   \n",
       "2    2020-01-12 17:50:36   0.085 sec     8642 obs/sec     2.0           2   \n",
       "3    2020-01-12 17:50:36   0.091 sec    11000 obs/sec     3.0           3   \n",
       "4    2020-01-12 17:50:36   0.099 sec    12410 obs/sec     4.0           4   \n",
       "\n",
       "   samples  training_rmse  training_mse  \n",
       "0      0.0       0.376876      0.142036  \n",
       "1    121.0       0.288871      0.083446  \n",
       "2    242.0       0.219376      0.048126  \n",
       "3    363.0       0.169505      0.028732  \n",
       "4    484.0       0.131797      0.017371  "
      ]
     },
     "execution_count": 9,
     "metadata": {},
     "output_type": "execute_result"
    }
   ],
   "source": [
    "sh = m_AE_4.score_history()\n",
    "sh.head()"
   ]
  },
  {
   "cell_type": "code",
   "execution_count": 10,
   "metadata": {},
   "outputs": [
    {
     "data": {
      "text/plain": [
       "<matplotlib.axes._subplots.AxesSubplot at 0x121bf7f90>"
      ]
     },
     "execution_count": 10,
     "metadata": {},
     "output_type": "execute_result"
    },
    {
     "data": {
      "image/png": "[encoded data removed]",
      "text/plain": [
       "<Figure size 432x288 with 1 Axes>"
      ]
     },
     "metadata": {
      "needs_background": "light"
     },
     "output_type": "display_data"
    }
   ],
   "source": [
    "sh[\"training_mse\"].plot()"
   ]
  },
  {
   "cell_type": "code",
   "execution_count": 11,
   "metadata": {},
   "outputs": [
    {
     "data": {
      "text/plain": [
       "<matplotlib.axes._subplots.AxesSubplot at 0x121f79490>"
      ]
     },
     "execution_count": 11,
     "metadata": {},
     "output_type": "execute_result"
    },
    {
     "data": {
      "image/png": "[encoded data removed]",
      "text/plain": [
       "<Figure size 432x288 with 1 Axes>"
      ]
     },
     "metadata": {
      "needs_background": "light"
     },
     "output_type": "display_data"
    }
   ],
   "source": [
    "sh[\"training_mse\"].tail(50).plot()"
   ]
  },
  {
   "cell_type": "code",
   "execution_count": 12,
   "metadata": {},
   "outputs": [
    {
     "name": "stdout",
     "output_type": "stream",
     "text": [
      "deeplearning Model Build progress: |██████████████████████████████████████| 100%\n",
      "CPU times: user 247 ms, sys: 48.7 ms, total: 295 ms\n",
      "Wall time: 2.44 s\n"
     ]
    }
   ],
   "source": [
    "m_AE_4 = H2OAutoEncoderEstimator(\n",
    "    hidden = [4],\n",
    "    activation = \"Tanh\",\n",
    "    epochs = 300,\n",
    "    model_id = \"m_AE_4\",\n",
    "    \n",
    "    train_samples_per_iteration = train.nrow,\n",
    "    score_interval = 0,\n",
    "    score_duty_cycle = 1.0,\n",
    "    stopping_rounds = 15\n",
    ")\n",
    "\n",
    "%time m_AE_4.train(x, None, train)"
   ]
  },
  {
   "cell_type": "code",
   "execution_count": 13,
   "metadata": {},
   "outputs": [
    {
     "data": {
      "text/plain": [
       "<matplotlib.axes._subplots.AxesSubplot at 0x121f9bf50>"
      ]
     },
     "execution_count": 13,
     "metadata": {},
     "output_type": "execute_result"
    },
    {
     "data": {
      "image/png": "[encoded data removed]",
      "text/plain": [
       "<Figure size 432x288 with 1 Axes>"
      ]
     },
     "metadata": {
      "needs_background": "light"
     },
     "output_type": "display_data"
    }
   ],
   "source": [
    "sh = m_AE_4.score_history()\n",
    "sh[\"training_mse\"].tail(50).plot()"
   ]
  },
  {
   "cell_type": "code",
   "execution_count": 14,
   "metadata": {},
   "outputs": [
    {
     "name": "stdout",
     "output_type": "stream",
     "text": [
      "deeplearning Model Build progress: |██████████████████████████████████████| 100%\n",
      "CPU times: user 125 ms, sys: 23.3 ms, total: 149 ms\n",
      "Wall time: 1.33 s\n"
     ]
    }
   ],
   "source": [
    "m_AE_3 = H2OAutoEncoderEstimator(\n",
    "    hidden = [3],\n",
    "    activation = \"Tanh\",\n",
    "    epochs = 300,\n",
    "    model_id = \"m_AE_3\",\n",
    "    \n",
    "    train_samples_per_iteration = train.nrow,\n",
    "    score_interval = 0,\n",
    "    score_duty_cycle = 1.0,\n",
    "    stopping_rounds = 15\n",
    ")\n",
    "\n",
    "%time m_AE_3.train(x, None, train)"
   ]
  },
  {
   "cell_type": "code",
   "execution_count": 15,
   "metadata": {},
   "outputs": [
    {
     "data": {
      "text/plain": [
       "<matplotlib.axes._subplots.AxesSubplot at 0x1220b6710>"
      ]
     },
     "execution_count": 15,
     "metadata": {},
     "output_type": "execute_result"
    },
    {
     "data": {
      "image/png": "[encoded data removed]",
      "text/plain": [
       "<Figure size 432x288 with 1 Axes>"
      ]
     },
     "metadata": {
      "needs_background": "light"
     },
     "output_type": "display_data"
    }
   ],
   "source": [
    "sh = m_AE_3.score_history()\n",
    "sh[\"training_mse\"].tail(50).plot()"
   ]
  },
  {
   "cell_type": "code",
   "execution_count": 16,
   "metadata": {},
   "outputs": [
    {
     "name": "stdout",
     "output_type": "stream",
     "text": [
      "deeplearning Model Build progress: |██████████████████████████████████████| 100%\n",
      "CPU times: user 56.6 ms, sys: 11.1 ms, total: 67.7 ms\n",
      "Wall time: 674 ms\n"
     ]
    }
   ],
   "source": [
    "m_AE_2 = H2OAutoEncoderEstimator(\n",
    "    hidden = [2],\n",
    "    activation = \"Tanh\",\n",
    "    epochs = 300,\n",
    "    model_id = \"m_AE_2\",\n",
    "    \n",
    "    train_samples_per_iteration = train.nrow,\n",
    "    score_interval = 0,\n",
    "    score_duty_cycle = 1.0,\n",
    "    stopping_rounds = 15\n",
    ")\n",
    "\n",
    "%time m_AE_2.train(x, None, train)"
   ]
  },
  {
   "cell_type": "code",
   "execution_count": 17,
   "metadata": {},
   "outputs": [
    {
     "data": {
      "text/plain": [
       "<matplotlib.axes._subplots.AxesSubplot at 0x1223b2a10>"
      ]
     },
     "execution_count": 17,
     "metadata": {},
     "output_type": "execute_result"
    },
    {
     "data": {
      "image/png": "[encoded data removed]",
      "text/plain": [
       "<Figure size 432x288 with 1 Axes>"
      ]
     },
     "metadata": {
      "needs_background": "light"
     },
     "output_type": "display_data"
    }
   ],
   "source": [
    "sh = m_AE_2.score_history()\n",
    "sh[\"training_mse\"].tail(50).plot()"
   ]
  },
  {
   "cell_type": "code",
   "execution_count": 18,
   "metadata": {},
   "outputs": [
    {
     "name": "stdout",
     "output_type": "stream",
     "text": [
      "deeplearning Model Build progress: |██████████████████████████████████████| 100%\n",
      "CPU times: user 77.3 ms, sys: 6.99 ms, total: 84.3 ms\n",
      "Wall time: 307 ms\n"
     ]
    }
   ],
   "source": [
    "m_AE_1 = H2OAutoEncoderEstimator(\n",
    "    hidden = [1],\n",
    "    activation = \"Tanh\",\n",
    "    epochs = 300,\n",
    "    model_id = \"m_AE_1\",\n",
    "    \n",
    "    train_samples_per_iteration = train.nrow,\n",
    "    score_interval = 0,\n",
    "    score_duty_cycle = 1.0,\n",
    "    stopping_rounds = 15\n",
    ")\n",
    "\n",
    "%time m_AE_1.train(x, None, train)"
   ]
  },
  {
   "cell_type": "code",
   "execution_count": 19,
   "metadata": {},
   "outputs": [
    {
     "data": {
      "text/plain": [
       "<matplotlib.axes._subplots.AxesSubplot at 0x1221f4650>"
      ]
     },
     "execution_count": 19,
     "metadata": {},
     "output_type": "execute_result"
    },
    {
     "data": {
      "image/png": "[encoded data removed]",
      "text/plain": [
       "<Figure size 432x288 with 1 Axes>"
      ]
     },
     "metadata": {
      "needs_background": "light"
     },
     "output_type": "display_data"
    }
   ],
   "source": [
    "sh = m_AE_1.score_history()\n",
    "sh[\"training_mse\"].tail(50).plot()"
   ]
  },
  {
   "cell_type": "markdown",
   "metadata": {},
   "source": [
    "## Multi-layer autoencoder"
   ]
  },
  {
   "cell_type": "code",
   "execution_count": 20,
   "metadata": {},
   "outputs": [
    {
     "name": "stdout",
     "output_type": "stream",
     "text": [
      "deeplearning Model Build progress: |██████████████████████████████████████| 100%\n",
      "CPU times: user 52.3 ms, sys: 10.2 ms, total: 62.6 ms\n",
      "Wall time: 674 ms\n"
     ]
    }
   ],
   "source": [
    "m_AE_5_3_5 = H2OAutoEncoderEstimator(\n",
    "    hidden = [5,3,5],\n",
    "    activation = \"Tanh\",\n",
    "    epochs = 300,\n",
    "    model_id = \"m_AE_5_3_5\",\n",
    "    \n",
    "    train_samples_per_iteration = train.nrow,\n",
    "    score_interval = 0,\n",
    "    score_duty_cycle = 1.0,\n",
    "    stopping_rounds = 15\n",
    ")\n",
    "\n",
    "%time m_AE_5_3_5.train(x, None, train)"
   ]
  },
  {
   "cell_type": "code",
   "execution_count": 21,
   "metadata": {},
   "outputs": [
    {
     "data": {
      "text/plain": [
       "<matplotlib.axes._subplots.AxesSubplot at 0x1224e22d0>"
      ]
     },
     "execution_count": 21,
     "metadata": {},
     "output_type": "execute_result"
    },
    {
     "data": {
      "image/png": "[encoded data removed]",
      "text/plain": [
       "<Figure size 432x288 with 1 Axes>"
      ]
     },
     "metadata": {
      "needs_background": "light"
     },
     "output_type": "display_data"
    }
   ],
   "source": [
    "sh = m_AE_5_3_5.score_history()\n",
    "sh[\"training_mse\"].tail(50).plot()"
   ]
  },
  {
   "cell_type": "markdown",
   "metadata": {},
   "source": [
    "## Stacked autoencoder: Build on the m_AE_3 model, that was made earlier"
   ]
  },
  {
   "cell_type": "code",
   "execution_count": 22,
   "metadata": {},
   "outputs": [
    {
     "name": "stdout",
     "output_type": "stream",
     "text": [
      "deepfeatures progress: |██████████████████████████████████████████████████| 100%\n"
     ]
    }
   ],
   "source": [
    "train_AE_3 = m_AE_3.deepfeatures(train, 0) # 0 means layer 1 "
   ]
  },
  {
   "cell_type": "code",
   "execution_count": 23,
   "metadata": {},
   "outputs": [
    {
     "data": {
      "text/plain": [
       "[121, 3]"
      ]
     },
     "execution_count": 23,
     "metadata": {},
     "output_type": "execute_result"
    }
   ],
   "source": [
    "train_AE_3.dim"
   ]
  },
  {
   "cell_type": "code",
   "execution_count": 24,
   "metadata": {},
   "outputs": [
    {
     "data": {
      "text/html": [
       "<table>\n",
       "<thead>\n",
       "<tr><th style=\"text-align: right;\">  DF.L1.C1</th><th style=\"text-align: right;\">   DF.L1.C2</th><th style=\"text-align: right;\">  DF.L1.C3</th></tr>\n",
       "</thead>\n",
       "<tbody>\n",
       "<tr><td style=\"text-align: right;\">-0.115323 </td><td style=\"text-align: right;\">-0.0383541 </td><td style=\"text-align: right;\">  0.543185</td></tr>\n",
       "<tr><td style=\"text-align: right;\">-0.175569 </td><td style=\"text-align: right;\"> 0.289994  </td><td style=\"text-align: right;\">  0.511525</td></tr>\n",
       "<tr><td style=\"text-align: right;\">-0.214167 </td><td style=\"text-align: right;\"> 0.156084  </td><td style=\"text-align: right;\">  0.547253</td></tr>\n",
       "<tr><td style=\"text-align: right;\">-0.235472 </td><td style=\"text-align: right;\"> 0.218162  </td><td style=\"text-align: right;\">  0.533832</td></tr>\n",
       "<tr><td style=\"text-align: right;\">-0.134241 </td><td style=\"text-align: right;\">-0.108908  </td><td style=\"text-align: right;\">  0.557802</td></tr>\n",
       "<tr><td style=\"text-align: right;\">-0.0691726</td><td style=\"text-align: right;\">-0.326284  </td><td style=\"text-align: right;\">  0.510476</td></tr>\n",
       "<tr><td style=\"text-align: right;\">-0.246242 </td><td style=\"text-align: right;\"> 0.00120141</td><td style=\"text-align: right;\">  0.549348</td></tr>\n",
       "<tr><td style=\"text-align: right;\">-0.139065 </td><td style=\"text-align: right;\"> 0.026724  </td><td style=\"text-align: right;\">  0.535204</td></tr>\n",
       "<tr><td style=\"text-align: right;\">-0.0399487</td><td style=\"text-align: right;\">-0.166694  </td><td style=\"text-align: right;\">  0.536572</td></tr>\n",
       "<tr><td style=\"text-align: right;\">-0.181297 </td><td style=\"text-align: right;\"> 0.0208616 </td><td style=\"text-align: right;\">  0.542104</td></tr>\n",
       "</tbody>\n",
       "</table>"
      ]
     },
     "metadata": {},
     "output_type": "display_data"
    },
    {
     "data": {
      "text/plain": []
     },
     "execution_count": 24,
     "metadata": {},
     "output_type": "execute_result"
    }
   ],
   "source": [
    "train_AE_3"
   ]
  },
  {
   "cell_type": "code",
   "execution_count": 25,
   "metadata": {},
   "outputs": [
    {
     "name": "stdout",
     "output_type": "stream",
     "text": [
      "deeplearning Model Build progress: |██████████████████████████████████████| 100%\n",
      "CPU times: user 74.5 ms, sys: 13.7 ms, total: 88.2 ms\n",
      "Wall time: 889 ms\n"
     ]
    }
   ],
   "source": [
    "m_AE_3x3 = H2OAutoEncoderEstimator(\n",
    "    hidden = [3],\n",
    "    activation = \"Tanh\",\n",
    "    epochs = 300,\n",
    "    model_id = \"m_AE_3x3\",\n",
    "    \n",
    "    train_samples_per_iteration = train.nrow,\n",
    "    score_interval = 0,\n",
    "    score_duty_cycle = 1.0,\n",
    "    stopping_rounds = 15\n",
    ")\n",
    "\n",
    "%time m_AE_3x3.train([0,1,2], None, train_AE_3)"
   ]
  },
  {
   "cell_type": "code",
   "execution_count": 26,
   "metadata": {},
   "outputs": [
    {
     "data": {
      "text/plain": [
       "<matplotlib.axes._subplots.AxesSubplot at 0x122744c90>"
      ]
     },
     "execution_count": 26,
     "metadata": {},
     "output_type": "execute_result"
    },
    {
     "data": {
      "image/png": "[encoded data removed]",
      "text/plain": [
       "<Figure size 432x288 with 1 Axes>"
      ]
     },
     "metadata": {
      "needs_background": "light"
     },
     "output_type": "display_data"
    }
   ],
   "source": [
    "sh = m_AE_3x3.score_history()\n",
    "sh[\"training_mse\"].tail(50).plot()"
   ]
  },
  {
   "cell_type": "markdown",
   "metadata": {},
   "source": [
    "## Anomalies"
   ]
  },
  {
   "cell_type": "code",
   "execution_count": 27,
   "metadata": {},
   "outputs": [],
   "source": [
    "x = [\"sepal_len\", \"sepal_wid\", \"petal_len\", \"petal_wid\", \"class\"]"
   ]
  },
  {
   "cell_type": "code",
   "execution_count": 28,
   "metadata": {},
   "outputs": [
    {
     "name": "stdout",
     "output_type": "stream",
     "text": [
      "deeplearning Model Build progress: |██████████████████████████████████████| 100%\n",
      "CPU times: user 59.4 ms, sys: 11 ms, total: 70.4 ms\n",
      "Wall time: 681 ms\n"
     ]
    }
   ],
   "source": [
    "m_anomaly16 = H2OAutoEncoderEstimator(\n",
    "    hidden = [16],\n",
    "    activation = \"Tanh\",\n",
    "    epochs = 300,\n",
    "    model_id = \"m_anomaly16\",\n",
    "    \n",
    "    train_samples_per_iteration = train.nrow,\n",
    "    score_interval = 0,\n",
    "    score_duty_cycle = 1.0,\n",
    "    stopping_rounds = 15\n",
    ")\n",
    "\n",
    "%time m_anomaly16.train(x, None, iris)"
   ]
  },
  {
   "cell_type": "code",
   "execution_count": 29,
   "metadata": {},
   "outputs": [],
   "source": [
    "anomalies = m_anomaly16.anomaly(iris).cbind(iris).as_data_frame()"
   ]
  },
  {
   "cell_type": "code",
   "execution_count": 30,
   "metadata": {},
   "outputs": [],
   "source": [
    "s = anomalies.sort_values(\"Reconstruction.MSE\", ascending = False)"
   ]
  },
  {
   "cell_type": "code",
   "execution_count": 31,
   "metadata": {},
   "outputs": [
    {
     "data": {
      "text/html": [
       "<div>\n",
       "<style scoped>\n",
       "    .dataframe tbody tr th:only-of-type {\n",
       "        vertical-align: middle;\n",
       "    }\n",
       "\n",
       "    .dataframe tbody tr th {\n",
       "        vertical-align: top;\n",
       "    }\n",
       "\n",
       "    .dataframe thead th {\n",
       "        text-align: right;\n",
       "    }\n",
       "</style>\n",
       "<table border=\"1\" class=\"dataframe\">\n",
       "  <thead>\n",
       "    <tr style=\"text-align: right;\">\n",
       "      <th></th>\n",
       "      <th>Reconstruction.MSE</th>\n",
       "      <th>sepal_len</th>\n",
       "      <th>sepal_wid</th>\n",
       "      <th>petal_len</th>\n",
       "      <th>petal_wid</th>\n",
       "      <th>class</th>\n",
       "    </tr>\n",
       "  </thead>\n",
       "  <tbody>\n",
       "    <tr>\n",
       "      <th>118</th>\n",
       "      <td>0.000306</td>\n",
       "      <td>7.7</td>\n",
       "      <td>2.6</td>\n",
       "      <td>6.9</td>\n",
       "      <td>2.3</td>\n",
       "      <td>Iris-virginica</td>\n",
       "    </tr>\n",
       "    <tr>\n",
       "      <th>41</th>\n",
       "      <td>0.000256</td>\n",
       "      <td>4.5</td>\n",
       "      <td>2.3</td>\n",
       "      <td>1.3</td>\n",
       "      <td>0.3</td>\n",
       "      <td>Iris-setosa</td>\n",
       "    </tr>\n",
       "    <tr>\n",
       "      <th>131</th>\n",
       "      <td>0.000249</td>\n",
       "      <td>7.9</td>\n",
       "      <td>3.8</td>\n",
       "      <td>6.4</td>\n",
       "      <td>2.0</td>\n",
       "      <td>Iris-virginica</td>\n",
       "    </tr>\n",
       "    <tr>\n",
       "      <th>50</th>\n",
       "      <td>0.000150</td>\n",
       "      <td>7.0</td>\n",
       "      <td>3.2</td>\n",
       "      <td>4.7</td>\n",
       "      <td>1.4</td>\n",
       "      <td>Iris-versicolor</td>\n",
       "    </tr>\n",
       "    <tr>\n",
       "      <th>114</th>\n",
       "      <td>0.000141</td>\n",
       "      <td>5.8</td>\n",
       "      <td>2.8</td>\n",
       "      <td>5.1</td>\n",
       "      <td>2.4</td>\n",
       "      <td>Iris-virginica</td>\n",
       "    </tr>\n",
       "  </tbody>\n",
       "</table>\n",
       "</div>"
      ],
      "text/plain": [
       "     Reconstruction.MSE  sepal_len  sepal_wid  petal_len  petal_wid  \\\n",
       "118            0.000306        7.7        2.6        6.9        2.3   \n",
       "41             0.000256        4.5        2.3        1.3        0.3   \n",
       "131            0.000249        7.9        3.8        6.4        2.0   \n",
       "50             0.000150        7.0        3.2        4.7        1.4   \n",
       "114            0.000141        5.8        2.8        5.1        2.4   \n",
       "\n",
       "               class  \n",
       "118   Iris-virginica  \n",
       "41       Iris-setosa  \n",
       "131   Iris-virginica  \n",
       "50   Iris-versicolor  \n",
       "114   Iris-virginica  "
      ]
     },
     "execution_count": 31,
     "metadata": {},
     "output_type": "execute_result"
    }
   ],
   "source": [
    "s.head()"
   ]
  },
  {
   "cell_type": "code",
   "execution_count": 32,
   "metadata": {},
   "outputs": [
    {
     "data": {
      "text/html": [
       "<div>\n",
       "<style scoped>\n",
       "    .dataframe tbody tr th:only-of-type {\n",
       "        vertical-align: middle;\n",
       "    }\n",
       "\n",
       "    .dataframe tbody tr th {\n",
       "        vertical-align: top;\n",
       "    }\n",
       "\n",
       "    .dataframe thead th {\n",
       "        text-align: right;\n",
       "    }\n",
       "</style>\n",
       "<table border=\"1\" class=\"dataframe\">\n",
       "  <thead>\n",
       "    <tr style=\"text-align: right;\">\n",
       "      <th></th>\n",
       "      <th>Reconstruction.MSE</th>\n",
       "      <th>sepal_len</th>\n",
       "      <th>sepal_wid</th>\n",
       "      <th>petal_len</th>\n",
       "      <th>petal_wid</th>\n",
       "      <th>class</th>\n",
       "    </tr>\n",
       "  </thead>\n",
       "  <tbody>\n",
       "    <tr>\n",
       "      <th>102</th>\n",
       "      <td>0.000003</td>\n",
       "      <td>7.1</td>\n",
       "      <td>3.0</td>\n",
       "      <td>5.9</td>\n",
       "      <td>2.1</td>\n",
       "      <td>Iris-virginica</td>\n",
       "    </tr>\n",
       "    <tr>\n",
       "      <th>120</th>\n",
       "      <td>0.000003</td>\n",
       "      <td>6.9</td>\n",
       "      <td>3.2</td>\n",
       "      <td>5.7</td>\n",
       "      <td>2.3</td>\n",
       "      <td>Iris-virginica</td>\n",
       "    </tr>\n",
       "    <tr>\n",
       "      <th>99</th>\n",
       "      <td>0.000003</td>\n",
       "      <td>5.7</td>\n",
       "      <td>2.8</td>\n",
       "      <td>4.1</td>\n",
       "      <td>1.3</td>\n",
       "      <td>Iris-versicolor</td>\n",
       "    </tr>\n",
       "    <tr>\n",
       "      <th>25</th>\n",
       "      <td>0.000002</td>\n",
       "      <td>5.0</td>\n",
       "      <td>3.0</td>\n",
       "      <td>1.6</td>\n",
       "      <td>0.2</td>\n",
       "      <td>Iris-setosa</td>\n",
       "    </tr>\n",
       "    <tr>\n",
       "      <th>30</th>\n",
       "      <td>0.000002</td>\n",
       "      <td>4.8</td>\n",
       "      <td>3.1</td>\n",
       "      <td>1.6</td>\n",
       "      <td>0.2</td>\n",
       "      <td>Iris-setosa</td>\n",
       "    </tr>\n",
       "  </tbody>\n",
       "</table>\n",
       "</div>"
      ],
      "text/plain": [
       "     Reconstruction.MSE  sepal_len  sepal_wid  petal_len  petal_wid  \\\n",
       "102            0.000003        7.1        3.0        5.9        2.1   \n",
       "120            0.000003        6.9        3.2        5.7        2.3   \n",
       "99             0.000003        5.7        2.8        4.1        1.3   \n",
       "25             0.000002        5.0        3.0        1.6        0.2   \n",
       "30             0.000002        4.8        3.1        1.6        0.2   \n",
       "\n",
       "               class  \n",
       "102   Iris-virginica  \n",
       "120   Iris-virginica  \n",
       "99   Iris-versicolor  \n",
       "25       Iris-setosa  \n",
       "30       Iris-setosa  "
      ]
     },
     "execution_count": 32,
     "metadata": {},
     "output_type": "execute_result"
    }
   ],
   "source": [
    "s.tail()"
   ]
  },
  {
   "cell_type": "markdown",
   "metadata": {},
   "source": [
    "## Kmeans"
   ]
  },
  {
   "cell_type": "code",
   "execution_count": 33,
   "metadata": {},
   "outputs": [],
   "source": [
    "from h2o.estimators.kmeans import H2OKMeansEstimator"
   ]
  },
  {
   "cell_type": "code",
   "execution_count": 34,
   "metadata": {},
   "outputs": [],
   "source": [
    "m = H2OKMeansEstimator(k = 5)"
   ]
  },
  {
   "cell_type": "code",
   "execution_count": 36,
   "metadata": {},
   "outputs": [
    {
     "data": {
      "text/html": [
       "<table>\n",
       "<thead>\n",
       "<tr><th style=\"text-align: right;\">  sepal_len</th><th style=\"text-align: right;\">  sepal_wid</th><th style=\"text-align: right;\">  petal_len</th><th style=\"text-align: right;\">  petal_wid</th><th>class      </th></tr>\n",
       "</thead>\n",
       "<tbody>\n",
       "<tr><td style=\"text-align: right;\">        5.1</td><td style=\"text-align: right;\">        3.5</td><td style=\"text-align: right;\">        1.4</td><td style=\"text-align: right;\">        0.2</td><td>Iris-setosa</td></tr>\n",
       "<tr><td style=\"text-align: right;\">        4.9</td><td style=\"text-align: right;\">        3  </td><td style=\"text-align: right;\">        1.4</td><td style=\"text-align: right;\">        0.2</td><td>Iris-setosa</td></tr>\n",
       "<tr><td style=\"text-align: right;\">        4.7</td><td style=\"text-align: right;\">        3.2</td><td style=\"text-align: right;\">        1.3</td><td style=\"text-align: right;\">        0.2</td><td>Iris-setosa</td></tr>\n",
       "<tr><td style=\"text-align: right;\">        4.6</td><td style=\"text-align: right;\">        3.1</td><td style=\"text-align: right;\">        1.5</td><td style=\"text-align: right;\">        0.2</td><td>Iris-setosa</td></tr>\n",
       "<tr><td style=\"text-align: right;\">        5  </td><td style=\"text-align: right;\">        3.6</td><td style=\"text-align: right;\">        1.4</td><td style=\"text-align: right;\">        0.2</td><td>Iris-setosa</td></tr>\n",
       "<tr><td style=\"text-align: right;\">        5.4</td><td style=\"text-align: right;\">        3.9</td><td style=\"text-align: right;\">        1.7</td><td style=\"text-align: right;\">        0.4</td><td>Iris-setosa</td></tr>\n",
       "<tr><td style=\"text-align: right;\">        4.6</td><td style=\"text-align: right;\">        3.4</td><td style=\"text-align: right;\">        1.4</td><td style=\"text-align: right;\">        0.3</td><td>Iris-setosa</td></tr>\n",
       "<tr><td style=\"text-align: right;\">        5  </td><td style=\"text-align: right;\">        3.4</td><td style=\"text-align: right;\">        1.5</td><td style=\"text-align: right;\">        0.2</td><td>Iris-setosa</td></tr>\n",
       "<tr><td style=\"text-align: right;\">        5.4</td><td style=\"text-align: right;\">        3.7</td><td style=\"text-align: right;\">        1.5</td><td style=\"text-align: right;\">        0.2</td><td>Iris-setosa</td></tr>\n",
       "<tr><td style=\"text-align: right;\">        4.8</td><td style=\"text-align: right;\">        3.4</td><td style=\"text-align: right;\">        1.6</td><td style=\"text-align: right;\">        0.2</td><td>Iris-setosa</td></tr>\n",
       "</tbody>\n",
       "</table>"
      ]
     },
     "metadata": {},
     "output_type": "display_data"
    },
    {
     "data": {
      "text/plain": []
     },
     "execution_count": 36,
     "metadata": {},
     "output_type": "execute_result"
    }
   ],
   "source": [
    "train.head()"
   ]
  },
  {
   "cell_type": "code",
   "execution_count": 37,
   "metadata": {},
   "outputs": [
    {
     "name": "stdout",
     "output_type": "stream",
     "text": [
      "kmeans Model Build progress: |████████████████████████████████████████████| 100%\n"
     ]
    }
   ],
   "source": [
    "m.train(x = range(4), training_frame = train)"
   ]
  },
  {
   "cell_type": "code",
   "execution_count": 38,
   "metadata": {},
   "outputs": [
    {
     "name": "stdout",
     "output_type": "stream",
     "text": [
      "kmeans prediction progress: |█████████████████████████████████████████████| 100%\n"
     ]
    }
   ],
   "source": [
    "p = m.predict(train)"
   ]
  },
  {
   "cell_type": "code",
   "execution_count": 41,
   "metadata": {},
   "outputs": [
    {
     "data": {
      "text/html": [
       "<table>\n",
       "<thead>\n",
       "<tr><th style=\"text-align: right;\">  predict</th></tr>\n",
       "</thead>\n",
       "<tbody>\n",
       "<tr><td style=\"text-align: right;\">        3</td></tr>\n",
       "<tr><td style=\"text-align: right;\">        3</td></tr>\n",
       "<tr><td style=\"text-align: right;\">        3</td></tr>\n",
       "<tr><td style=\"text-align: right;\">        3</td></tr>\n",
       "<tr><td style=\"text-align: right;\">        3</td></tr>\n",
       "<tr><td style=\"text-align: right;\">        2</td></tr>\n",
       "<tr><td style=\"text-align: right;\">        3</td></tr>\n",
       "<tr><td style=\"text-align: right;\">        3</td></tr>\n",
       "<tr><td style=\"text-align: right;\">        2</td></tr>\n",
       "<tr><td style=\"text-align: right;\">        3</td></tr>\n",
       "</tbody>\n",
       "</table>"
      ]
     },
     "metadata": {},
     "output_type": "display_data"
    },
    {
     "data": {
      "text/plain": []
     },
     "execution_count": 41,
     "metadata": {},
     "output_type": "execute_result"
    }
   ],
   "source": [
    "p"
   ]
  },
  {
   "cell_type": "code",
   "execution_count": 42,
   "metadata": {},
   "outputs": [],
   "source": [
    "m = H2OKMeansEstimator(k = 5, estimate_k = True)"
   ]
  },
  {
   "cell_type": "code",
   "execution_count": 43,
   "metadata": {},
   "outputs": [
    {
     "name": "stdout",
     "output_type": "stream",
     "text": [
      "kmeans Model Build progress: |████████████████████████████████████████████| 100%\n"
     ]
    }
   ],
   "source": [
    "m.train(x = range(4), training_frame = train)"
   ]
  },
  {
   "cell_type": "code",
   "execution_count": 44,
   "metadata": {},
   "outputs": [
    {
     "name": "stdout",
     "output_type": "stream",
     "text": [
      "kmeans prediction progress: |█████████████████████████████████████████████| 100%\n"
     ]
    }
   ],
   "source": [
    "p = m.predict(train)"
   ]
  },
  {
   "cell_type": "markdown",
   "metadata": {},
   "source": [
    "## Handling missing data: random forest, GBM: NA is extra category; deep learning, GLM: missing_values_handling Skip or MeanImputation (skip is to skip rows)"
   ]
  },
  {
   "cell_type": "code",
   "execution_count": 45,
   "metadata": {},
   "outputs": [],
   "source": [
    "# Throw it out:\n",
    "# Delete a column\n",
    "# Delete a row: missing_values_handling = \"Skip\""
   ]
  },
  {
   "cell_type": "code",
   "execution_count": 46,
   "metadata": {},
   "outputs": [],
   "source": [
    "# Make it up:\n",
    "# constant value\n",
    "# Mean: missing_values_handling = \"MeanImputation\"\n",
    "# Median: see h2o.impute()\n",
    "# Use correlated columns\n",
    "# get more data"
   ]
  },
  {
   "cell_type": "code",
   "execution_count": 47,
   "metadata": {},
   "outputs": [
    {
     "name": "stdout",
     "output_type": "stream",
     "text": [
      "Parse progress: |█████████████████████████████████████████████████████████| 100%\n"
     ]
    }
   ],
   "source": [
    "url = \"http://h2o-public-test-data.s3.amazonaws.com/smalldata/airlines/allyears2k_headers.zip\"\n",
    "data = h2o.import_file(url)"
   ]
  },
  {
   "cell_type": "code",
   "execution_count": 48,
   "metadata": {},
   "outputs": [],
   "source": [
    "train, valid, test = data.split_frame([0.8, 0.1], seed = 123)"
   ]
  },
  {
   "cell_type": "markdown",
   "metadata": {},
   "source": [
    "### Examine the CarrierDelay"
   ]
  },
  {
   "cell_type": "code",
   "execution_count": 49,
   "metadata": {},
   "outputs": [
    {
     "data": {
      "text/html": [
       "<div>\n",
       "<style scoped>\n",
       "    .dataframe tbody tr th:only-of-type {\n",
       "        vertical-align: middle;\n",
       "    }\n",
       "\n",
       "    .dataframe tbody tr th {\n",
       "        vertical-align: top;\n",
       "    }\n",
       "\n",
       "    .dataframe thead th {\n",
       "        text-align: right;\n",
       "    }\n",
       "</style>\n",
       "<table border=\"1\" class=\"dataframe\">\n",
       "  <thead>\n",
       "    <tr style=\"text-align: right;\">\n",
       "      <th></th>\n",
       "      <th>Year</th>\n",
       "      <th>mean_CarrierDelay</th>\n",
       "    </tr>\n",
       "  </thead>\n",
       "  <tbody>\n",
       "    <tr>\n",
       "      <th>0</th>\n",
       "      <td>1987</td>\n",
       "      <td>NaN</td>\n",
       "    </tr>\n",
       "    <tr>\n",
       "      <th>1</th>\n",
       "      <td>1988</td>\n",
       "      <td>NaN</td>\n",
       "    </tr>\n",
       "    <tr>\n",
       "      <th>2</th>\n",
       "      <td>1989</td>\n",
       "      <td>NaN</td>\n",
       "    </tr>\n",
       "    <tr>\n",
       "      <th>3</th>\n",
       "      <td>1990</td>\n",
       "      <td>NaN</td>\n",
       "    </tr>\n",
       "    <tr>\n",
       "      <th>4</th>\n",
       "      <td>1991</td>\n",
       "      <td>NaN</td>\n",
       "    </tr>\n",
       "    <tr>\n",
       "      <th>5</th>\n",
       "      <td>1992</td>\n",
       "      <td>NaN</td>\n",
       "    </tr>\n",
       "    <tr>\n",
       "      <th>6</th>\n",
       "      <td>1993</td>\n",
       "      <td>NaN</td>\n",
       "    </tr>\n",
       "    <tr>\n",
       "      <th>7</th>\n",
       "      <td>1994</td>\n",
       "      <td>NaN</td>\n",
       "    </tr>\n",
       "    <tr>\n",
       "      <th>8</th>\n",
       "      <td>1995</td>\n",
       "      <td>NaN</td>\n",
       "    </tr>\n",
       "    <tr>\n",
       "      <th>9</th>\n",
       "      <td>1996</td>\n",
       "      <td>NaN</td>\n",
       "    </tr>\n",
       "    <tr>\n",
       "      <th>10</th>\n",
       "      <td>1997</td>\n",
       "      <td>NaN</td>\n",
       "    </tr>\n",
       "    <tr>\n",
       "      <th>11</th>\n",
       "      <td>1998</td>\n",
       "      <td>NaN</td>\n",
       "    </tr>\n",
       "    <tr>\n",
       "      <th>12</th>\n",
       "      <td>1999</td>\n",
       "      <td>NaN</td>\n",
       "    </tr>\n",
       "    <tr>\n",
       "      <th>13</th>\n",
       "      <td>2000</td>\n",
       "      <td>NaN</td>\n",
       "    </tr>\n",
       "    <tr>\n",
       "      <th>14</th>\n",
       "      <td>2001</td>\n",
       "      <td>NaN</td>\n",
       "    </tr>\n",
       "    <tr>\n",
       "      <th>15</th>\n",
       "      <td>2002</td>\n",
       "      <td>NaN</td>\n",
       "    </tr>\n",
       "    <tr>\n",
       "      <th>16</th>\n",
       "      <td>2003</td>\n",
       "      <td>NaN</td>\n",
       "    </tr>\n",
       "    <tr>\n",
       "      <th>17</th>\n",
       "      <td>2004</td>\n",
       "      <td>2.905531</td>\n",
       "    </tr>\n",
       "    <tr>\n",
       "      <th>18</th>\n",
       "      <td>2005</td>\n",
       "      <td>4.579245</td>\n",
       "    </tr>\n",
       "    <tr>\n",
       "      <th>19</th>\n",
       "      <td>2006</td>\n",
       "      <td>1.610244</td>\n",
       "    </tr>\n",
       "    <tr>\n",
       "      <th>20</th>\n",
       "      <td>2007</td>\n",
       "      <td>2.050530</td>\n",
       "    </tr>\n",
       "    <tr>\n",
       "      <th>21</th>\n",
       "      <td>2008</td>\n",
       "      <td>14.990777</td>\n",
       "    </tr>\n",
       "  </tbody>\n",
       "</table>\n",
       "</div>"
      ],
      "text/plain": [
       "    Year  mean_CarrierDelay\n",
       "0   1987                NaN\n",
       "1   1988                NaN\n",
       "2   1989                NaN\n",
       "3   1990                NaN\n",
       "4   1991                NaN\n",
       "5   1992                NaN\n",
       "6   1993                NaN\n",
       "7   1994                NaN\n",
       "8   1995                NaN\n",
       "9   1996                NaN\n",
       "10  1997                NaN\n",
       "11  1998                NaN\n",
       "12  1999                NaN\n",
       "13  2000                NaN\n",
       "14  2001                NaN\n",
       "15  2002                NaN\n",
       "16  2003                NaN\n",
       "17  2004           2.905531\n",
       "18  2005           4.579245\n",
       "19  2006           1.610244\n",
       "20  2007           2.050530\n",
       "21  2008          14.990777"
      ]
     },
     "execution_count": 49,
     "metadata": {},
     "output_type": "execute_result"
    }
   ],
   "source": [
    "train.group_by('Year').mean(col = \"CarrierDelay\", na = 'rm').get_frame().as_data_frame()"
   ]
  },
  {
   "cell_type": "code",
   "execution_count": 50,
   "metadata": {},
   "outputs": [
    {
     "data": {
      "image/png": "[encoded data removed]",
      "text/plain": [
       "<Figure size 432x288 with 1 Axes>"
      ]
     },
     "metadata": {
      "needs_background": "light"
     },
     "output_type": "display_data"
    }
   ],
   "source": [
    "train['CarrierDelay'].hist()"
   ]
  },
  {
   "cell_type": "code",
   "execution_count": 51,
   "metadata": {},
   "outputs": [
    {
     "data": {
      "text/html": [
       "<table>\n",
       "<thead>\n",
       "<tr><th style=\"text-align: right;\">  CarrierDelay</th><th style=\"text-align: right;\">  Count</th></tr>\n",
       "</thead>\n",
       "<tbody>\n",
       "<tr><td style=\"text-align: right;\">             0</td><td style=\"text-align: right;\">   5874</td></tr>\n",
       "<tr><td style=\"text-align: right;\">             1</td><td style=\"text-align: right;\">     44</td></tr>\n",
       "<tr><td style=\"text-align: right;\">             2</td><td style=\"text-align: right;\">     42</td></tr>\n",
       "<tr><td style=\"text-align: right;\">             3</td><td style=\"text-align: right;\">     52</td></tr>\n",
       "<tr><td style=\"text-align: right;\">             4</td><td style=\"text-align: right;\">     47</td></tr>\n",
       "<tr><td style=\"text-align: right;\">             5</td><td style=\"text-align: right;\">     57</td></tr>\n",
       "<tr><td style=\"text-align: right;\">             6</td><td style=\"text-align: right;\">     55</td></tr>\n",
       "<tr><td style=\"text-align: right;\">             7</td><td style=\"text-align: right;\">     51</td></tr>\n",
       "<tr><td style=\"text-align: right;\">             8</td><td style=\"text-align: right;\">     61</td></tr>\n",
       "<tr><td style=\"text-align: right;\">             9</td><td style=\"text-align: right;\">     57</td></tr>\n",
       "</tbody>\n",
       "</table>"
      ]
     },
     "metadata": {},
     "output_type": "display_data"
    },
    {
     "data": {
      "text/plain": []
     },
     "execution_count": 51,
     "metadata": {},
     "output_type": "execute_result"
    }
   ],
   "source": [
    "train['CarrierDelay'].table()"
   ]
  },
  {
   "cell_type": "code",
   "execution_count": 52,
   "metadata": {},
   "outputs": [
    {
     "data": {
      "text/html": [
       "<table>\n",
       "<thead>\n",
       "<tr><th style=\"text-align: right;\">  CarrierDelay</th><th style=\"text-align: right;\">  Count</th></tr>\n",
       "</thead>\n",
       "<tbody>\n",
       "<tr><td style=\"text-align: right;\">           192</td><td style=\"text-align: right;\">      2</td></tr>\n",
       "<tr><td style=\"text-align: right;\">           200</td><td style=\"text-align: right;\">      1</td></tr>\n",
       "<tr><td style=\"text-align: right;\">           220</td><td style=\"text-align: right;\">      1</td></tr>\n",
       "<tr><td style=\"text-align: right;\">           254</td><td style=\"text-align: right;\">      1</td></tr>\n",
       "<tr><td style=\"text-align: right;\">           258</td><td style=\"text-align: right;\">      1</td></tr>\n",
       "<tr><td style=\"text-align: right;\">           266</td><td style=\"text-align: right;\">      1</td></tr>\n",
       "<tr><td style=\"text-align: right;\">           277</td><td style=\"text-align: right;\">      1</td></tr>\n",
       "<tr><td style=\"text-align: right;\">           282</td><td style=\"text-align: right;\">      1</td></tr>\n",
       "<tr><td style=\"text-align: right;\">           354</td><td style=\"text-align: right;\">      1</td></tr>\n",
       "<tr><td style=\"text-align: right;\">           369</td><td style=\"text-align: right;\">      1</td></tr>\n",
       "</tbody>\n",
       "</table>"
      ]
     },
     "metadata": {},
     "output_type": "display_data"
    },
    {
     "data": {
      "text/plain": []
     },
     "execution_count": 52,
     "metadata": {},
     "output_type": "execute_result"
    }
   ],
   "source": [
    "train['CarrierDelay'].table().tail()"
   ]
  },
  {
   "cell_type": "code",
   "execution_count": 57,
   "metadata": {},
   "outputs": [
    {
     "data": {
      "image/png": "[encoded data removed]",
      "text/plain": [
       "<Figure size 432x288 with 1 Axes>"
      ]
     },
     "metadata": {
      "needs_background": "light"
     },
     "output_type": "display_data"
    }
   ],
   "source": [
    "train[train['CarrierDelay'] >= 1, 'CarrierDelay'].hist(breaks = 100)"
   ]
  },
  {
   "cell_type": "markdown",
   "metadata": {},
   "source": [
    "### Is it correlated with fields we do have values for?"
   ]
  },
  {
   "cell_type": "code",
   "execution_count": 58,
   "metadata": {},
   "outputs": [
    {
     "data": {
      "text/plain": [
       "0.5386739673581036"
      ]
     },
     "execution_count": 58,
     "metadata": {},
     "output_type": "execute_result"
    }
   ],
   "source": [
    "train['CarrierDelay'].cor(train['DepDelay'], na_rm = True)"
   ]
  },
  {
   "cell_type": "code",
   "execution_count": 59,
   "metadata": {},
   "outputs": [],
   "source": [
    "from h2o.estimators.gbm import H2OGradientBoostingEstimator"
   ]
  },
  {
   "cell_type": "code",
   "execution_count": 60,
   "metadata": {},
   "outputs": [],
   "source": [
    "y = 'CarrierDelay'\n",
    "ignoreFields = [\"TailNum\"]\n",
    "x = [i for i in train.names if i not in ignoreFields]"
   ]
  },
  {
   "cell_type": "code",
   "execution_count": 61,
   "metadata": {},
   "outputs": [],
   "source": [
    "bad_rowsT = train[y].isna()\n",
    "bad_rowsV = valid[y].isna()"
   ]
  },
  {
   "cell_type": "code",
   "execution_count": 71,
   "metadata": {},
   "outputs": [],
   "source": [
    "train_good = train[bad_rowsT.logical_negation(), :]\n",
    "valid_good = valid[bad_rowsV.logical_negation(), :]\n",
    "train_bad = train[bad_rowsT, :]\n",
    "valid_bad = valid[bad_rowsV, :]"
   ]
  },
  {
   "cell_type": "code",
   "execution_count": 73,
   "metadata": {},
   "outputs": [
    {
     "name": "stdout",
     "output_type": "stream",
     "text": [
      "train = 7162/28093, valid = 903/3369\n"
     ]
    }
   ],
   "source": [
    "print(\"train = %d/%d, valid = %d/%d\" % (train_good.nrows, train_bad.nrows, valid_good.nrows, valid_bad.nrows))"
   ]
  },
  {
   "cell_type": "code",
   "execution_count": 74,
   "metadata": {},
   "outputs": [
    {
     "name": "stdout",
     "output_type": "stream",
     "text": [
      "gbm Model Build progress: |███████████████████████████████████████████████| 100%\n"
     ]
    }
   ],
   "source": [
    "# m_GBM_g = H2OGradientBoostingEstimator()  # gives -11 to +56\n",
    "m_GBM_g = H2OGradientBoostingEstimator(distribution = \"gamma\")\n",
    "m_GBM_g.train(x, y, train_good, validation_frame = valid_good)"
   ]
  },
  {
   "cell_type": "code",
   "execution_count": 77,
   "metadata": {},
   "outputs": [
    {
     "name": "stdout",
     "output_type": "stream",
     "text": [
      "gbm prediction progress: |████████████████████████████████████████████████| 100%\n"
     ]
    }
   ],
   "source": [
    "new_values = m_GBM_g.predict(train_bad).floor()"
   ]
  },
  {
   "cell_type": "code",
   "execution_count": 78,
   "metadata": {},
   "outputs": [],
   "source": [
    "new_values.columns = [y]"
   ]
  },
  {
   "cell_type": "code",
   "execution_count": 79,
   "metadata": {},
   "outputs": [
    {
     "data": {
      "image/png": "[encoded data removed]",
      "text/plain": [
       "<Figure size 432x288 with 1 Axes>"
      ]
     },
     "metadata": {
      "needs_background": "light"
     },
     "output_type": "display_data"
    },
    {
     "data": {
      "image/png": "[encoded data removed]",
      "text/plain": [
       "<Figure size 432x288 with 1 Axes>"
      ]
     },
     "metadata": {
      "needs_background": "light"
     },
     "output_type": "display_data"
    },
    {
     "data": {
      "image/png": "[encoded data removed]",
      "text/plain": [
       "<Figure size 432x288 with 1 Axes>"
      ]
     },
     "metadata": {
      "needs_background": "light"
     },
     "output_type": "display_data"
    }
   ],
   "source": [
    "train_good[y].hist(100)\n",
    "new_values.hist(100)\n",
    "train_good[train_good[y] <= 25, y].hist(100)"
   ]
  },
  {
   "cell_type": "code",
   "execution_count": 80,
   "metadata": {},
   "outputs": [
    {
     "name": "stdout",
     "output_type": "stream",
     "text": [
      "Rows:7162\n",
      "Cols:1\n",
      "\n",
      "\n"
     ]
    },
    {
     "data": {
      "text/html": [
       "<table>\n",
       "<thead>\n",
       "<tr><th>       </th><th>CarrierDelay  </th></tr>\n",
       "</thead>\n",
       "<tbody>\n",
       "<tr><td>type   </td><td>int           </td></tr>\n",
       "<tr><td>mins   </td><td>0.0           </td></tr>\n",
       "<tr><td>mean   </td><td>4.07693381737 </td></tr>\n",
       "<tr><td>maxs   </td><td>369.0         </td></tr>\n",
       "<tr><td>sigma  </td><td>16.4332599676 </td></tr>\n",
       "<tr><td>zeros  </td><td>5874          </td></tr>\n",
       "<tr><td>missing</td><td>0             </td></tr>\n",
       "<tr><td>0      </td><td>0.0           </td></tr>\n",
       "<tr><td>1      </td><td>0.0           </td></tr>\n",
       "<tr><td>2      </td><td>0.0           </td></tr>\n",
       "<tr><td>3      </td><td>0.0           </td></tr>\n",
       "<tr><td>4      </td><td>0.0           </td></tr>\n",
       "<tr><td>5      </td><td>0.0           </td></tr>\n",
       "<tr><td>6      </td><td>0.0           </td></tr>\n",
       "<tr><td>7      </td><td>0.0           </td></tr>\n",
       "<tr><td>8      </td><td>0.0           </td></tr>\n",
       "<tr><td>9      </td><td>0.0           </td></tr>\n",
       "</tbody>\n",
       "</table>"
      ]
     },
     "metadata": {},
     "output_type": "display_data"
    }
   ],
   "source": [
    "train_good[y].describe()"
   ]
  },
  {
   "cell_type": "code",
   "execution_count": 81,
   "metadata": {},
   "outputs": [
    {
     "name": "stdout",
     "output_type": "stream",
     "text": [
      "Rows:28093\n",
      "Cols:1\n",
      "\n",
      "\n"
     ]
    },
    {
     "data": {
      "text/html": [
       "<table>\n",
       "<thead>\n",
       "<tr><th>       </th><th>CarrierDelay  </th></tr>\n",
       "</thead>\n",
       "<tbody>\n",
       "<tr><td>type   </td><td>int           </td></tr>\n",
       "<tr><td>mins   </td><td>0.0           </td></tr>\n",
       "<tr><td>mean   </td><td>0.913786352472</td></tr>\n",
       "<tr><td>maxs   </td><td>27.0          </td></tr>\n",
       "<tr><td>sigma  </td><td>2.40033570782 </td></tr>\n",
       "<tr><td>zeros  </td><td>23335         </td></tr>\n",
       "<tr><td>missing</td><td>0             </td></tr>\n",
       "<tr><td>0      </td><td>3.0           </td></tr>\n",
       "<tr><td>1      </td><td>0.0           </td></tr>\n",
       "<tr><td>2      </td><td>5.0           </td></tr>\n",
       "<tr><td>3      </td><td>0.0           </td></tr>\n",
       "<tr><td>4      </td><td>6.0           </td></tr>\n",
       "<tr><td>5      </td><td>0.0           </td></tr>\n",
       "<tr><td>6      </td><td>0.0           </td></tr>\n",
       "<tr><td>7      </td><td>0.0           </td></tr>\n",
       "<tr><td>8      </td><td>0.0           </td></tr>\n",
       "<tr><td>9      </td><td>3.0           </td></tr>\n",
       "</tbody>\n",
       "</table>"
      ]
     },
     "metadata": {},
     "output_type": "display_data"
    }
   ],
   "source": [
    "new_values.describe()"
   ]
  },
  {
   "cell_type": "code",
   "execution_count": 82,
   "metadata": {},
   "outputs": [],
   "source": [
    "train_bad[y] = new_values"
   ]
  },
  {
   "cell_type": "code",
   "execution_count": 83,
   "metadata": {},
   "outputs": [],
   "source": [
    "train2 = train_good.rbind(train_bad)"
   ]
  },
  {
   "cell_type": "code",
   "execution_count": 84,
   "metadata": {},
   "outputs": [
    {
     "name": "stdout",
     "output_type": "stream",
     "text": [
      "Rows:35255\n",
      "Cols:31\n",
      "\n",
      "\n"
     ]
    },
    {
     "data": {
      "text/html": [
       "<table>\n",
       "<thead>\n",
       "<tr><th>       </th><th>Year         </th><th>Month        </th><th>DayofMonth   </th><th>DayOfWeek    </th><th>DepTime      </th><th>CRSDepTime   </th><th>ArrTime      </th><th>CRSArrTime   </th><th>UniqueCarrier  </th><th>FlightNum    </th><th>TailNum  </th><th>ActualElapsedTime  </th><th>CRSElapsedTime  </th><th>AirTime      </th><th>ArrDelay     </th><th>DepDelay     </th><th>Origin  </th><th>Dest  </th><th>Distance     </th><th>TaxiIn       </th><th>TaxiOut      </th><th>Cancelled      </th><th>CancellationCode  </th><th>Diverted        </th><th>CarrierDelay  </th><th>WeatherDelay  </th><th>NASDelay     </th><th>SecurityDelay  </th><th>LateAircraftDelay  </th><th>IsArrDelayed  </th><th>IsDepDelayed  </th></tr>\n",
       "</thead>\n",
       "<tbody>\n",
       "<tr><td>type   </td><td>int          </td><td>int          </td><td>int          </td><td>int          </td><td>int          </td><td>int          </td><td>int          </td><td>int          </td><td>enum           </td><td>int          </td><td>enum     </td><td>int                </td><td>int             </td><td>int          </td><td>int          </td><td>int          </td><td>enum    </td><td>enum  </td><td>int          </td><td>int          </td><td>int          </td><td>int            </td><td>enum              </td><td>int             </td><td>int           </td><td>int           </td><td>int          </td><td>int            </td><td>int                </td><td>enum          </td><td>enum          </td></tr>\n",
       "<tr><td>mins   </td><td>1987.0       </td><td>1.0          </td><td>1.0          </td><td>1.0          </td><td>1.0          </td><td>0.0          </td><td>1.0          </td><td>0.0          </td><td>               </td><td>1.0          </td><td>         </td><td>16.0               </td><td>17.0            </td><td>14.0         </td><td>-63.0        </td><td>-16.0        </td><td>        </td><td>      </td><td>11.0         </td><td>0.0          </td><td>0.0          </td><td>0.0            </td><td>                  </td><td>0.0             </td><td>0.0           </td><td>0.0           </td><td>0.0          </td><td>0.0            </td><td>0.0                </td><td>              </td><td>              </td></tr>\n",
       "<tr><td>mean   </td><td>1997.4832506 </td><td>1.40666572117</td><td>14.6143242093</td><td>3.81313288895</td><td>1345.74679422</td><td>1313.06050206</td><td>1504.35927707</td><td>1485.44311445</td><td>               </td><td>817.494936888</td><td>         </td><td>124.721993878      </td><td>124.962888353   </td><td>114.217873778</td><td>9.24891415246</td><td>9.96199587101</td><td>        </td><td>      </td><td>729.482682262</td><td>5.38269840561</td><td>14.1358906801</td><td>0.0245071621047</td><td>                  </td><td>0.00243937030208</td><td>1.55637498227 </td><td>0.272409941357</td><td>4.86191008098</td><td>0.016615470539 </td><td>7.76556827702      </td><td>              </td><td>              </td></tr>\n",
       "<tr><td>maxs   </td><td>2008.0       </td><td>10.0         </td><td>31.0         </td><td>7.0          </td><td>2400.0       </td><td>2359.0       </td><td>2400.0       </td><td>2359.0       </td><td>               </td><td>3949.0       </td><td>         </td><td>475.0              </td><td>437.0           </td><td>367.0        </td><td>470.0        </td><td>396.0        </td><td>        </td><td>      </td><td>3365.0       </td><td>128.0        </td><td>170.0        </td><td>1.0            </td><td>                  </td><td>1.0             </td><td>369.0         </td><td>201.0         </td><td>323.0        </td><td>14.0           </td><td>373.0              </td><td>              </td><td>              </td></tr>\n",
       "<tr><td>sigma  </td><td>6.33622763659</td><td>1.86941531195</td><td>9.17189427475</td><td>1.9039966823 </td><td>465.722077132</td><td>476.996763279</td><td>484.8195126  </td><td>493.283756476</td><td>               </td><td>774.243511766</td><td>         </td><td>73.8729531104      </td><td>73.3475048712   </td><td>69.4209005243</td><td>29.4445100514</td><td>26.0710100875</td><td>        </td><td>      </td><td>577.920240937</td><td>4.20185021329</td><td>9.67475611521</td><td>0.154619659919 </td><td>                  </td><td>0.0493304044172 </td><td>7.81443552929 </td><td>4.19839523881 </td><td>18.5641940747</td><td>0.39388971493  </td><td>23.3842644095      </td><td>              </td><td>              </td></tr>\n",
       "<tr><td>zeros  </td><td>0            </td><td>0            </td><td>0            </td><td>0            </td><td>0            </td><td>460          </td><td>0            </td><td>460          </td><td>               </td><td>0            </td><td>         </td><td>0                  </td><td>0               </td><td>0            </td><td>1198         </td><td>5173         </td><td>        </td><td>      </td><td>0            </td><td>493          </td><td>443          </td><td>34391          </td><td>                  </td><td>35169           </td><td>29209         </td><td>7085          </td><td>5915         </td><td>7147           </td><td>5695               </td><td>              </td><td>              </td></tr>\n",
       "<tr><td>missing</td><td>0            </td><td>0            </td><td>0            </td><td>0            </td><td>864          </td><td>0            </td><td>950          </td><td>0            </td><td>0              </td><td>0            </td><td>23       </td><td>950                </td><td>10              </td><td>13357        </td><td>950          </td><td>864          </td><td>0       </td><td>0     </td><td>31           </td><td>12864        </td><td>12862        </td><td>0              </td><td>7805              </td><td>0               </td><td>0             </td><td>28093         </td><td>28093        </td><td>28093          </td><td>28093              </td><td>0             </td><td>0             </td></tr>\n",
       "<tr><td>0      </td><td>2004.0       </td><td>1.0          </td><td>12.0         </td><td>1.0          </td><td>623.0        </td><td>630.0        </td><td>901.0        </td><td>915.0        </td><td>UA             </td><td>462.0        </td><td>N805UA   </td><td>98.0               </td><td>105.0           </td><td>80.0         </td><td>-14.0        </td><td>-7.0         </td><td>ORD     </td><td>CLT   </td><td>599.0        </td><td>7.0          </td><td>11.0         </td><td>0.0            </td><td>                  </td><td>0.0             </td><td>0.0           </td><td>0.0           </td><td>0.0          </td><td>0.0            </td><td>0.0                </td><td>NO            </td><td>NO            </td></tr>\n",
       "<tr><td>1      </td><td>2004.0       </td><td>1.0          </td><td>13.0         </td><td>2.0          </td><td>621.0        </td><td>630.0        </td><td>911.0        </td><td>915.0        </td><td>UA             </td><td>462.0        </td><td>N851UA   </td><td>110.0              </td><td>105.0           </td><td>78.0         </td><td>-4.0         </td><td>-9.0         </td><td>ORD     </td><td>CLT   </td><td>599.0        </td><td>16.0         </td><td>16.0         </td><td>0.0            </td><td>                  </td><td>0.0             </td><td>0.0           </td><td>0.0           </td><td>0.0          </td><td>0.0            </td><td>0.0                </td><td>NO            </td><td>NO            </td></tr>\n",
       "<tr><td>2      </td><td>2004.0       </td><td>1.0          </td><td>14.0         </td><td>3.0          </td><td>633.0        </td><td>630.0        </td><td>920.0        </td><td>915.0        </td><td>UA             </td><td>462.0        </td><td>N436UA   </td><td>107.0              </td><td>105.0           </td><td>88.0         </td><td>5.0          </td><td>3.0          </td><td>ORD     </td><td>CLT   </td><td>599.0        </td><td>4.0          </td><td>15.0         </td><td>0.0            </td><td>                  </td><td>0.0             </td><td>0.0           </td><td>0.0           </td><td>0.0          </td><td>0.0            </td><td>0.0                </td><td>YES           </td><td>YES           </td></tr>\n",
       "<tr><td>3      </td><td>2004.0       </td><td>1.0          </td><td>16.0         </td><td>5.0          </td><td>635.0        </td><td>630.0        </td><td>918.0        </td><td>915.0        </td><td>UA             </td><td>462.0        </td><td>N831UA   </td><td>103.0              </td><td>105.0           </td><td>87.0         </td><td>3.0          </td><td>5.0          </td><td>ORD     </td><td>CLT   </td><td>599.0        </td><td>3.0          </td><td>13.0         </td><td>0.0            </td><td>                  </td><td>0.0             </td><td>0.0           </td><td>0.0           </td><td>0.0          </td><td>0.0            </td><td>0.0                </td><td>YES           </td><td>YES           </td></tr>\n",
       "<tr><td>4      </td><td>2004.0       </td><td>1.0          </td><td>17.0         </td><td>6.0          </td><td>628.0        </td><td>630.0        </td><td>905.0        </td><td>915.0        </td><td>UA             </td><td>462.0        </td><td>N834UA   </td><td>97.0               </td><td>105.0           </td><td>81.0         </td><td>-10.0        </td><td>-2.0         </td><td>ORD     </td><td>CLT   </td><td>599.0        </td><td>5.0          </td><td>11.0         </td><td>0.0            </td><td>                  </td><td>0.0             </td><td>0.0           </td><td>0.0           </td><td>0.0          </td><td>0.0            </td><td>0.0                </td><td>NO            </td><td>NO            </td></tr>\n",
       "<tr><td>5      </td><td>2004.0       </td><td>1.0          </td><td>20.0         </td><td>2.0          </td><td>627.0        </td><td>630.0        </td><td>904.0        </td><td>915.0        </td><td>UA             </td><td>462.0        </td><td>N454UA   </td><td>97.0               </td><td>105.0           </td><td>84.0         </td><td>-11.0        </td><td>-3.0         </td><td>ORD     </td><td>CLT   </td><td>599.0        </td><td>3.0          </td><td>10.0         </td><td>0.0            </td><td>                  </td><td>0.0             </td><td>0.0           </td><td>0.0           </td><td>0.0          </td><td>0.0            </td><td>0.0                </td><td>NO            </td><td>NO            </td></tr>\n",
       "<tr><td>6      </td><td>2004.0       </td><td>1.0          </td><td>22.0         </td><td>4.0          </td><td>626.0        </td><td>630.0        </td><td>901.0        </td><td>915.0        </td><td>UA             </td><td>462.0        </td><td>N832UA   </td><td>95.0               </td><td>105.0           </td><td>77.0         </td><td>-14.0        </td><td>-4.0         </td><td>ORD     </td><td>CLT   </td><td>599.0        </td><td>4.0          </td><td>14.0         </td><td>0.0            </td><td>                  </td><td>0.0             </td><td>0.0           </td><td>0.0           </td><td>0.0          </td><td>0.0            </td><td>0.0                </td><td>NO            </td><td>NO            </td></tr>\n",
       "<tr><td>7      </td><td>2004.0       </td><td>1.0          </td><td>23.0         </td><td>5.0          </td><td>631.0        </td><td>630.0        </td><td>923.0        </td><td>915.0        </td><td>UA             </td><td>462.0        </td><td>N848UA   </td><td>112.0              </td><td>105.0           </td><td>88.0         </td><td>8.0          </td><td>1.0          </td><td>ORD     </td><td>CLT   </td><td>599.0        </td><td>3.0          </td><td>21.0         </td><td>0.0            </td><td>                  </td><td>0.0             </td><td>0.0           </td><td>0.0           </td><td>0.0          </td><td>0.0            </td><td>0.0                </td><td>YES           </td><td>YES           </td></tr>\n",
       "<tr><td>8      </td><td>2004.0       </td><td>1.0          </td><td>24.0         </td><td>6.0          </td><td>628.0        </td><td>630.0        </td><td>901.0        </td><td>915.0        </td><td>UA             </td><td>462.0        </td><td>N472UA   </td><td>93.0               </td><td>105.0           </td><td>70.0         </td><td>-14.0        </td><td>-2.0         </td><td>ORD     </td><td>CLT   </td><td>599.0        </td><td>10.0         </td><td>13.0         </td><td>0.0            </td><td>                  </td><td>0.0             </td><td>0.0           </td><td>0.0           </td><td>0.0          </td><td>0.0            </td><td>0.0                </td><td>NO            </td><td>NO            </td></tr>\n",
       "<tr><td>9      </td><td>2004.0       </td><td>1.0          </td><td>26.0         </td><td>1.0          </td><td>nan          </td><td>630.0        </td><td>nan          </td><td>915.0        </td><td>UA             </td><td>462.0        </td><td>000000   </td><td>nan                </td><td>105.0           </td><td>nan          </td><td>nan          </td><td>nan          </td><td>ORD     </td><td>CLT   </td><td>599.0        </td><td>0.0          </td><td>0.0          </td><td>1.0            </td><td>B                 </td><td>0.0             </td><td>0.0           </td><td>0.0           </td><td>0.0          </td><td>0.0            </td><td>0.0                </td><td>YES           </td><td>YES           </td></tr>\n",
       "</tbody>\n",
       "</table>"
      ]
     },
     "metadata": {},
     "output_type": "display_data"
    },
    {
     "name": "stdout",
     "output_type": "stream",
     "text": [
      "Rows:35255\n",
      "Cols:31\n",
      "\n",
      "\n"
     ]
    },
    {
     "data": {
      "text/html": [
       "<table>\n",
       "<thead>\n",
       "<tr><th>       </th><th>Year         </th><th>Month        </th><th>DayofMonth   </th><th>DayOfWeek    </th><th>DepTime      </th><th>CRSDepTime   </th><th>ArrTime      </th><th>CRSArrTime   </th><th>UniqueCarrier  </th><th>FlightNum    </th><th>TailNum  </th><th>ActualElapsedTime  </th><th>CRSElapsedTime  </th><th>AirTime      </th><th>ArrDelay     </th><th>DepDelay     </th><th>Origin  </th><th>Dest  </th><th>Distance     </th><th>TaxiIn       </th><th>TaxiOut      </th><th>Cancelled      </th><th>CancellationCode  </th><th>Diverted        </th><th>CarrierDelay  </th><th>WeatherDelay  </th><th>NASDelay     </th><th>SecurityDelay  </th><th>LateAircraftDelay  </th><th>IsArrDelayed  </th><th>IsDepDelayed  </th></tr>\n",
       "</thead>\n",
       "<tbody>\n",
       "<tr><td>type   </td><td>int          </td><td>int          </td><td>int          </td><td>int          </td><td>int          </td><td>int          </td><td>int          </td><td>int          </td><td>enum           </td><td>int          </td><td>enum     </td><td>int                </td><td>int             </td><td>int          </td><td>int          </td><td>int          </td><td>enum    </td><td>enum  </td><td>int          </td><td>int          </td><td>int          </td><td>int            </td><td>enum              </td><td>int             </td><td>int           </td><td>int           </td><td>int          </td><td>int            </td><td>int                </td><td>enum          </td><td>enum          </td></tr>\n",
       "<tr><td>mins   </td><td>1987.0       </td><td>1.0          </td><td>1.0          </td><td>1.0          </td><td>1.0          </td><td>0.0          </td><td>1.0          </td><td>0.0          </td><td>               </td><td>1.0          </td><td>         </td><td>16.0               </td><td>17.0            </td><td>14.0         </td><td>-63.0        </td><td>-16.0        </td><td>        </td><td>      </td><td>11.0         </td><td>0.0          </td><td>0.0          </td><td>0.0            </td><td>                  </td><td>0.0             </td><td>0.0           </td><td>0.0           </td><td>0.0          </td><td>0.0            </td><td>0.0                </td><td>              </td><td>              </td></tr>\n",
       "<tr><td>mean   </td><td>1997.4832506 </td><td>1.40666572117</td><td>14.6143242093</td><td>3.81313288895</td><td>1345.74679422</td><td>1313.06050206</td><td>1504.35927707</td><td>1485.44311445</td><td>               </td><td>817.494936888</td><td>         </td><td>124.721993878      </td><td>124.962888353   </td><td>114.217873778</td><td>9.24891415246</td><td>9.96199587101</td><td>        </td><td>      </td><td>729.482682262</td><td>5.38269840561</td><td>14.1358906801</td><td>0.0245071621047</td><td>                  </td><td>0.00243937030208</td><td>4.07693381737 </td><td>0.272409941357</td><td>4.86191008098</td><td>0.016615470539 </td><td>7.76556827702      </td><td>              </td><td>              </td></tr>\n",
       "<tr><td>maxs   </td><td>2008.0       </td><td>10.0         </td><td>31.0         </td><td>7.0          </td><td>2400.0       </td><td>2359.0       </td><td>2400.0       </td><td>2359.0       </td><td>               </td><td>3949.0       </td><td>         </td><td>475.0              </td><td>437.0           </td><td>367.0        </td><td>470.0        </td><td>396.0        </td><td>        </td><td>      </td><td>3365.0       </td><td>128.0        </td><td>170.0        </td><td>1.0            </td><td>                  </td><td>1.0             </td><td>369.0         </td><td>201.0         </td><td>323.0        </td><td>14.0           </td><td>373.0              </td><td>              </td><td>              </td></tr>\n",
       "<tr><td>sigma  </td><td>6.33622763659</td><td>1.86941531195</td><td>9.17189427475</td><td>1.9039966823 </td><td>465.722077132</td><td>476.996763279</td><td>484.8195126  </td><td>493.283756476</td><td>               </td><td>774.243511766</td><td>         </td><td>73.8729531104      </td><td>73.3475048712   </td><td>69.4209005243</td><td>29.4445100514</td><td>26.0710100875</td><td>        </td><td>      </td><td>577.920240937</td><td>4.20185021329</td><td>9.67475611521</td><td>0.154619659919 </td><td>                  </td><td>0.0493304044172 </td><td>16.4332599676 </td><td>4.19839523881 </td><td>18.5641940747</td><td>0.39388971493  </td><td>23.3842644095      </td><td>              </td><td>              </td></tr>\n",
       "<tr><td>zeros  </td><td>0            </td><td>0            </td><td>0            </td><td>0            </td><td>0            </td><td>460          </td><td>0            </td><td>460          </td><td>               </td><td>0            </td><td>         </td><td>0                  </td><td>0               </td><td>0            </td><td>1198         </td><td>5173         </td><td>        </td><td>      </td><td>0            </td><td>493          </td><td>443          </td><td>34391          </td><td>                  </td><td>35169           </td><td>5874          </td><td>7085          </td><td>5915         </td><td>7147           </td><td>5695               </td><td>              </td><td>              </td></tr>\n",
       "<tr><td>missing</td><td>0            </td><td>0            </td><td>0            </td><td>0            </td><td>864          </td><td>0            </td><td>950          </td><td>0            </td><td>0              </td><td>0            </td><td>23       </td><td>950                </td><td>10              </td><td>13357        </td><td>950          </td><td>864          </td><td>0       </td><td>0     </td><td>31           </td><td>12864        </td><td>12862        </td><td>0              </td><td>7805              </td><td>0               </td><td>28093         </td><td>28093         </td><td>28093        </td><td>28093          </td><td>28093              </td><td>0             </td><td>0             </td></tr>\n",
       "<tr><td>0      </td><td>1987.0       </td><td>10.0         </td><td>14.0         </td><td>3.0          </td><td>741.0        </td><td>730.0        </td><td>912.0        </td><td>849.0        </td><td>PS             </td><td>1451.0       </td><td>NA       </td><td>91.0               </td><td>79.0            </td><td>nan          </td><td>23.0         </td><td>11.0         </td><td>SAN     </td><td>SFO   </td><td>447.0        </td><td>nan          </td><td>nan          </td><td>0.0            </td><td>NA                </td><td>0.0             </td><td>nan           </td><td>nan           </td><td>nan          </td><td>nan            </td><td>nan                </td><td>YES           </td><td>YES           </td></tr>\n",
       "<tr><td>1      </td><td>1987.0       </td><td>10.0         </td><td>15.0         </td><td>4.0          </td><td>729.0        </td><td>730.0        </td><td>903.0        </td><td>849.0        </td><td>PS             </td><td>1451.0       </td><td>NA       </td><td>94.0               </td><td>79.0            </td><td>nan          </td><td>14.0         </td><td>-1.0         </td><td>SAN     </td><td>SFO   </td><td>447.0        </td><td>nan          </td><td>nan          </td><td>0.0            </td><td>NA                </td><td>0.0             </td><td>nan           </td><td>nan           </td><td>nan          </td><td>nan            </td><td>nan                </td><td>YES           </td><td>NO            </td></tr>\n",
       "<tr><td>2      </td><td>1987.0       </td><td>10.0         </td><td>17.0         </td><td>6.0          </td><td>741.0        </td><td>730.0        </td><td>918.0        </td><td>849.0        </td><td>PS             </td><td>1451.0       </td><td>NA       </td><td>97.0               </td><td>79.0            </td><td>nan          </td><td>29.0         </td><td>11.0         </td><td>SAN     </td><td>SFO   </td><td>447.0        </td><td>nan          </td><td>nan          </td><td>0.0            </td><td>NA                </td><td>0.0             </td><td>nan           </td><td>nan           </td><td>nan          </td><td>nan            </td><td>nan                </td><td>YES           </td><td>YES           </td></tr>\n",
       "<tr><td>3      </td><td>1987.0       </td><td>10.0         </td><td>18.0         </td><td>7.0          </td><td>729.0        </td><td>730.0        </td><td>847.0        </td><td>849.0        </td><td>PS             </td><td>1451.0       </td><td>NA       </td><td>78.0               </td><td>79.0            </td><td>nan          </td><td>-2.0         </td><td>-1.0         </td><td>SAN     </td><td>SFO   </td><td>447.0        </td><td>nan          </td><td>nan          </td><td>0.0            </td><td>NA                </td><td>0.0             </td><td>nan           </td><td>nan           </td><td>nan          </td><td>nan            </td><td>nan                </td><td>NO            </td><td>NO            </td></tr>\n",
       "<tr><td>4      </td><td>1987.0       </td><td>10.0         </td><td>19.0         </td><td>1.0          </td><td>749.0        </td><td>730.0        </td><td>922.0        </td><td>849.0        </td><td>PS             </td><td>1451.0       </td><td>NA       </td><td>93.0               </td><td>79.0            </td><td>nan          </td><td>33.0         </td><td>19.0         </td><td>SAN     </td><td>SFO   </td><td>447.0        </td><td>nan          </td><td>nan          </td><td>0.0            </td><td>NA                </td><td>0.0             </td><td>nan           </td><td>nan           </td><td>nan          </td><td>nan            </td><td>nan                </td><td>YES           </td><td>YES           </td></tr>\n",
       "<tr><td>5      </td><td>1987.0       </td><td>10.0         </td><td>21.0         </td><td>3.0          </td><td>728.0        </td><td>730.0        </td><td>848.0        </td><td>849.0        </td><td>PS             </td><td>1451.0       </td><td>NA       </td><td>80.0               </td><td>79.0            </td><td>nan          </td><td>-1.0         </td><td>-2.0         </td><td>SAN     </td><td>SFO   </td><td>447.0        </td><td>nan          </td><td>nan          </td><td>0.0            </td><td>NA                </td><td>0.0             </td><td>nan           </td><td>nan           </td><td>nan          </td><td>nan            </td><td>nan                </td><td>NO            </td><td>NO            </td></tr>\n",
       "<tr><td>6      </td><td>1987.0       </td><td>10.0         </td><td>22.0         </td><td>4.0          </td><td>728.0        </td><td>730.0        </td><td>852.0        </td><td>849.0        </td><td>PS             </td><td>1451.0       </td><td>NA       </td><td>84.0               </td><td>79.0            </td><td>nan          </td><td>3.0          </td><td>-2.0         </td><td>SAN     </td><td>SFO   </td><td>447.0        </td><td>nan          </td><td>nan          </td><td>0.0            </td><td>NA                </td><td>0.0             </td><td>nan           </td><td>nan           </td><td>nan          </td><td>nan            </td><td>nan                </td><td>YES           </td><td>NO            </td></tr>\n",
       "<tr><td>7      </td><td>1987.0       </td><td>10.0         </td><td>23.0         </td><td>5.0          </td><td>731.0        </td><td>730.0        </td><td>902.0        </td><td>849.0        </td><td>PS             </td><td>1451.0       </td><td>NA       </td><td>91.0               </td><td>79.0            </td><td>nan          </td><td>13.0         </td><td>1.0          </td><td>SAN     </td><td>SFO   </td><td>447.0        </td><td>nan          </td><td>nan          </td><td>0.0            </td><td>NA                </td><td>0.0             </td><td>nan           </td><td>nan           </td><td>nan          </td><td>nan            </td><td>nan                </td><td>YES           </td><td>YES           </td></tr>\n",
       "<tr><td>8      </td><td>1987.0       </td><td>10.0         </td><td>26.0         </td><td>1.0          </td><td>735.0        </td><td>730.0        </td><td>904.0        </td><td>849.0        </td><td>PS             </td><td>1451.0       </td><td>NA       </td><td>89.0               </td><td>79.0            </td><td>nan          </td><td>15.0         </td><td>5.0          </td><td>SAN     </td><td>SFO   </td><td>447.0        </td><td>nan          </td><td>nan          </td><td>0.0            </td><td>NA                </td><td>0.0             </td><td>nan           </td><td>nan           </td><td>nan          </td><td>nan            </td><td>nan                </td><td>YES           </td><td>YES           </td></tr>\n",
       "<tr><td>9      </td><td>1987.0       </td><td>10.0         </td><td>28.0         </td><td>3.0          </td><td>741.0        </td><td>725.0        </td><td>919.0        </td><td>855.0        </td><td>PS             </td><td>1451.0       </td><td>NA       </td><td>98.0               </td><td>90.0            </td><td>nan          </td><td>24.0         </td><td>16.0         </td><td>SAN     </td><td>SFO   </td><td>447.0        </td><td>nan          </td><td>nan          </td><td>0.0            </td><td>NA                </td><td>0.0             </td><td>nan           </td><td>nan           </td><td>nan          </td><td>nan            </td><td>nan                </td><td>YES           </td><td>YES           </td></tr>\n",
       "</tbody>\n",
       "</table>"
      ]
     },
     "metadata": {},
     "output_type": "display_data"
    }
   ],
   "source": [
    "train2.describe()\n",
    "train.describe()"
   ]
  }
 ],
 "metadata": {
  "kernelspec": {
   "display_name": "Python 2",
   "language": "python",
   "name": "python2"
  },
  "language_info": {
   "codemirror_mode": {
    "name": "ipython",
    "version": 2
   },
   "file_extension": ".py",
   "mimetype": "text/x-python",
   "name": "python",
   "nbconvert_exporter": "python",
   "pygments_lexer": "ipython2",
   "version": "2.7.15"
  }
 },
 "nbformat": 4,
 "nbformat_minor": 2
}
