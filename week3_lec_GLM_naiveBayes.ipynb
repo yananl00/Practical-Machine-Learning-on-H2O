{
 "cells": [
  {
   "cell_type": "markdown",
   "metadata": {},
   "source": [
    "## GLM model: http://docs.h2o.ai/h2o/latest-stable/h2o-docs/data-science/glm.html"
   ]
  },
  {
   "cell_type": "markdown",
   "metadata": {},
   "source": [
    "## family parameters: classification: multinomial, binomial; only for numeric prediction, not for classification: quasibinomial, gaussian, gamma, poisson, tweedie"
   ]
  },
  {
   "cell_type": "code",
   "execution_count": 1,
   "metadata": {},
   "outputs": [],
   "source": [
    "import h2o"
   ]
  },
  {
   "cell_type": "code",
   "execution_count": 2,
   "metadata": {},
   "outputs": [
    {
     "name": "stdout",
     "output_type": "stream",
     "text": [
      "Checking whether there is an H2O instance running at http://localhost:54321 . connected.\n"
     ]
    },
    {
     "data": {
      "text/html": [
       "<div style=\"overflow:auto\"><table style=\"width:50%\"><tr><td>H2O cluster uptime:</td>\n",
       "<td>1 day 3 hours 51 mins</td></tr>\n",
       "<tr><td>H2O cluster timezone:</td>\n",
       "<td>America/Los_Angeles</td></tr>\n",
       "<tr><td>H2O data parsing timezone:</td>\n",
       "<td>UTC</td></tr>\n",
       "<tr><td>H2O cluster version:</td>\n",
       "<td>3.28.0.1</td></tr>\n",
       "<tr><td>H2O cluster version age:</td>\n",
       "<td>21 days and 42 minutes </td></tr>\n",
       "<tr><td>H2O cluster name:</td>\n",
       "<td>H2O_from_python_yananli_b8uqhw</td></tr>\n",
       "<tr><td>H2O cluster total nodes:</td>\n",
       "<td>1</td></tr>\n",
       "<tr><td>H2O cluster free memory:</td>\n",
       "<td>1.633 Gb</td></tr>\n",
       "<tr><td>H2O cluster total cores:</td>\n",
       "<td>4</td></tr>\n",
       "<tr><td>H2O cluster allowed cores:</td>\n",
       "<td>4</td></tr>\n",
       "<tr><td>H2O cluster status:</td>\n",
       "<td>locked, healthy</td></tr>\n",
       "<tr><td>H2O connection url:</td>\n",
       "<td>http://localhost:54321</td></tr>\n",
       "<tr><td>H2O connection proxy:</td>\n",
       "<td>{u'http': None, u'https': None}</td></tr>\n",
       "<tr><td>H2O internal security:</td>\n",
       "<td>False</td></tr>\n",
       "<tr><td>H2O API Extensions:</td>\n",
       "<td>Amazon S3, XGBoost, Algos, AutoML, Core V3, TargetEncoder, Core V4</td></tr>\n",
       "<tr><td>Python version:</td>\n",
       "<td>2.7.15 final</td></tr></table></div>"
      ],
      "text/plain": [
       "--------------------------  ------------------------------------------------------------------\n",
       "H2O cluster uptime:         1 day 3 hours 51 mins\n",
       "H2O cluster timezone:       America/Los_Angeles\n",
       "H2O data parsing timezone:  UTC\n",
       "H2O cluster version:        3.28.0.1\n",
       "H2O cluster version age:    21 days and 42 minutes\n",
       "H2O cluster name:           H2O_from_python_yananli_b8uqhw\n",
       "H2O cluster total nodes:    1\n",
       "H2O cluster free memory:    1.633 Gb\n",
       "H2O cluster total cores:    4\n",
       "H2O cluster allowed cores:  4\n",
       "H2O cluster status:         locked, healthy\n",
       "H2O connection url:         http://localhost:54321\n",
       "H2O connection proxy:       {u'http': None, u'https': None}\n",
       "H2O internal security:      False\n",
       "H2O API Extensions:         Amazon S3, XGBoost, Algos, AutoML, Core V3, TargetEncoder, Core V4\n",
       "Python version:             2.7.15 final\n",
       "--------------------------  ------------------------------------------------------------------"
      ]
     },
     "metadata": {},
     "output_type": "display_data"
    }
   ],
   "source": [
    "h2o.init()"
   ]
  },
  {
   "cell_type": "code",
   "execution_count": 3,
   "metadata": {},
   "outputs": [],
   "source": [
    "url = \"http://coursera.h2o.ai/data/smoking.csv\"\n",
    "smoking = h2o.import_file(url, destination_frame = \"smoking\")"
   ]
  },
  {
   "cell_type": "code",
   "execution_count": null,
   "metadata": {},
   "outputs": [],
   "source": [
    "smoking.summary()"
   ]
  },
  {
   "cell_type": "code",
   "execution_count": null,
   "metadata": {},
   "outputs": [],
   "source": [
    "smoking[:, \"C3\"].sum()"
   ]
  },
  {
   "cell_type": "code",
   "execution_count": null,
   "metadata": {},
   "outputs": [],
   "source": [
    "from h2o.estimators.glm import H2OGeneralizedLinearEstimator"
   ]
  },
  {
   "cell_type": "code",
   "execution_count": null,
   "metadata": {},
   "outputs": [],
   "source": [
    "x = [0, 1]\n",
    "y = 4"
   ]
  },
  {
   "cell_type": "code",
   "execution_count": null,
   "metadata": {},
   "outputs": [],
   "source": [
    "m = H2OGeneralizedLinearEstimator(\n",
    "    family = \"poisson\",\n",
    "    model_id = \"smoking_p\",\n",
    "    #nfolds = 12,\n",
    "    #fold_assignment = \"Modulo\"\n",
    ")\n",
    "m.train(x, y, smoking)"
   ]
  },
  {
   "cell_type": "code",
   "execution_count": null,
   "metadata": {},
   "outputs": [],
   "source": [
    "m.model_performance()"
   ]
  },
  {
   "cell_type": "code",
   "execution_count": null,
   "metadata": {},
   "outputs": [],
   "source": [
    "m.coef()"
   ]
  },
  {
   "cell_type": "code",
   "execution_count": null,
   "metadata": {},
   "outputs": [],
   "source": [
    "m2 = H2OGeneralizedLinearEstimator(\n",
    "    family = \"poisson\",\n",
    "    model_id = \"smoking_p2\",\n",
    ")\n",
    "m2.train(\"C2\", y, smoking)"
   ]
  },
  {
   "cell_type": "code",
   "execution_count": null,
   "metadata": {},
   "outputs": [],
   "source": [
    "m2.model_performance()"
   ]
  },
  {
   "cell_type": "code",
   "execution_count": null,
   "metadata": {},
   "outputs": [],
   "source": [
    "m2.coef()"
   ]
  },
  {
   "cell_type": "markdown",
   "metadata": {},
   "source": [
    "## Naive Bayes is for classificaton only, cannot be applied to regression: http://docs.h2o.ai/h2o/latest-stable/h2o-docs/data-science/naive-bayes.html"
   ]
  },
  {
   "cell_type": "code",
   "execution_count": 4,
   "metadata": {},
   "outputs": [
    {
     "name": "stdout",
     "output_type": "stream",
     "text": [
      "Parse progress: |█████████████████████████████████████████████████████████| 100%\n"
     ]
    }
   ],
   "source": [
    "url = \"http://h2o-public-test-data.s3.amazonaws.com/smalldata/iris/iris_wheader.csv\"\n",
    "iris = h2o.import_file(url)"
   ]
  },
  {
   "cell_type": "code",
   "execution_count": 5,
   "metadata": {},
   "outputs": [],
   "source": [
    "train, test = iris.split_frame([0.8])"
   ]
  },
  {
   "cell_type": "code",
   "execution_count": 6,
   "metadata": {},
   "outputs": [
    {
     "data": {
      "text/html": [
       "<table>\n",
       "<thead>\n",
       "<tr><th>       </th><th>sepal_len     </th><th>sepal_wid     </th><th>petal_len    </th><th>petal_wid    </th><th>class      </th></tr>\n",
       "</thead>\n",
       "<tbody>\n",
       "<tr><td>type   </td><td>real          </td><td>real          </td><td>real         </td><td>real         </td><td>enum       </td></tr>\n",
       "<tr><td>mins   </td><td>4.3           </td><td>2.0           </td><td>1.0          </td><td>0.1          </td><td>           </td></tr>\n",
       "<tr><td>mean   </td><td>5.852         </td><td>3.0512        </td><td>3.7528       </td><td>1.1808       </td><td>           </td></tr>\n",
       "<tr><td>maxs   </td><td>7.9           </td><td>4.2           </td><td>6.9          </td><td>2.5          </td><td>           </td></tr>\n",
       "<tr><td>sigma  </td><td>0.854645748155</td><td>0.436927690186</td><td>1.78147166419</td><td>0.75804247051</td><td>           </td></tr>\n",
       "<tr><td>zeros  </td><td>0             </td><td>0             </td><td>0            </td><td>0            </td><td>           </td></tr>\n",
       "<tr><td>missing</td><td>0             </td><td>0             </td><td>0            </td><td>0            </td><td>0          </td></tr>\n",
       "<tr><td>0      </td><td>5.1           </td><td>3.5           </td><td>1.4          </td><td>0.2          </td><td>Iris-setosa</td></tr>\n",
       "<tr><td>1      </td><td>4.9           </td><td>3.0           </td><td>1.4          </td><td>0.2          </td><td>Iris-setosa</td></tr>\n",
       "<tr><td>2      </td><td>4.6           </td><td>3.1           </td><td>1.5          </td><td>0.2          </td><td>Iris-setosa</td></tr>\n",
       "<tr><td>3      </td><td>5.0           </td><td>3.6           </td><td>1.4          </td><td>0.2          </td><td>Iris-setosa</td></tr>\n",
       "<tr><td>4      </td><td>5.4           </td><td>3.9           </td><td>1.7          </td><td>0.4          </td><td>Iris-setosa</td></tr>\n",
       "<tr><td>5      </td><td>4.6           </td><td>3.4           </td><td>1.4          </td><td>0.3          </td><td>Iris-setosa</td></tr>\n",
       "<tr><td>6      </td><td>5.0           </td><td>3.4           </td><td>1.5          </td><td>0.2          </td><td>Iris-setosa</td></tr>\n",
       "<tr><td>7      </td><td>4.4           </td><td>2.9           </td><td>1.4          </td><td>0.2          </td><td>Iris-setosa</td></tr>\n",
       "<tr><td>8      </td><td>4.9           </td><td>3.1           </td><td>1.5          </td><td>0.1          </td><td>Iris-setosa</td></tr>\n",
       "<tr><td>9      </td><td>5.4           </td><td>3.7           </td><td>1.5          </td><td>0.2          </td><td>Iris-setosa</td></tr>\n",
       "</tbody>\n",
       "</table>"
      ]
     },
     "metadata": {},
     "output_type": "display_data"
    }
   ],
   "source": [
    "train.summary()"
   ]
  },
  {
   "cell_type": "code",
   "execution_count": 7,
   "metadata": {},
   "outputs": [],
   "source": [
    "from h2o.estimators.naive_bayes import H2ONaiveBayesEstimator"
   ]
  },
  {
   "cell_type": "code",
   "execution_count": 8,
   "metadata": {},
   "outputs": [
    {
     "name": "stdout",
     "output_type": "stream",
     "text": [
      "naivebayes Model Build progress: |████████████████████████████████████████| 100%\n"
     ]
    }
   ],
   "source": [
    "mNB = H2ONaiveBayesEstimator()\n",
    "mNB.train([\"sepal_len\", \"sepal_wid\", \"petal_len\", \"petal_wid\"],\"class\", train)"
   ]
  },
  {
   "cell_type": "code",
   "execution_count": 9,
   "metadata": {},
   "outputs": [
    {
     "name": "stdout",
     "output_type": "stream",
     "text": [
      "Model Details\n",
      "=============\n",
      "H2ONaiveBayesEstimator :  Naive Bayes\n",
      "Model Key:  NaiveBayes_model_python_1578267636222_1\n",
      "\n",
      "\n",
      "Model Summary: \n"
     ]
    },
    {
     "data": {
      "text/html": [
       "<div>\n",
       "<style scoped>\n",
       "    .dataframe tbody tr th:only-of-type {\n",
       "        vertical-align: middle;\n",
       "    }\n",
       "\n",
       "    .dataframe tbody tr th {\n",
       "        vertical-align: top;\n",
       "    }\n",
       "\n",
       "    .dataframe thead th {\n",
       "        text-align: right;\n",
       "    }\n",
       "</style>\n",
       "<table border=\"1\" class=\"dataframe\">\n",
       "  <thead>\n",
       "    <tr style=\"text-align: right;\">\n",
       "      <th></th>\n",
       "      <th></th>\n",
       "      <th>number_of_response_levels</th>\n",
       "      <th>min_apriori_probability</th>\n",
       "      <th>max_apriori_probability</th>\n",
       "    </tr>\n",
       "  </thead>\n",
       "  <tbody>\n",
       "    <tr>\n",
       "      <th>0</th>\n",
       "      <td></td>\n",
       "      <td>3.0</td>\n",
       "      <td>0.328</td>\n",
       "      <td>0.336</td>\n",
       "    </tr>\n",
       "  </tbody>\n",
       "</table>\n",
       "</div>"
      ],
      "text/plain": [
       "     number_of_response_levels  min_apriori_probability  \\\n",
       "0                          3.0                    0.328   \n",
       "\n",
       "   max_apriori_probability  \n",
       "0                    0.336  "
      ]
     },
     "metadata": {},
     "output_type": "display_data"
    },
    {
     "name": "stdout",
     "output_type": "stream",
     "text": [
      "\n",
      "\n",
      "ModelMetricsMultinomial: naivebayes\n",
      "** Reported on train data. **\n",
      "\n",
      "MSE: 0.0392551074372\n",
      "RMSE: 0.198129017151\n",
      "LogLoss: 0.127488999689\n",
      "Mean Per-Class Error: 0.0563298490128\n",
      "\n",
      "Confusion Matrix: Row labels: Actual class; Column labels: Predicted class\n"
     ]
    },
    {
     "data": {
      "text/html": [
       "<div>\n",
       "<style scoped>\n",
       "    .dataframe tbody tr th:only-of-type {\n",
       "        vertical-align: middle;\n",
       "    }\n",
       "\n",
       "    .dataframe tbody tr th {\n",
       "        vertical-align: top;\n",
       "    }\n",
       "\n",
       "    .dataframe thead th {\n",
       "        text-align: right;\n",
       "    }\n",
       "</style>\n",
       "<table border=\"1\" class=\"dataframe\">\n",
       "  <thead>\n",
       "    <tr style=\"text-align: right;\">\n",
       "      <th></th>\n",
       "      <th>Iris-setosa</th>\n",
       "      <th>Iris-versicolor</th>\n",
       "      <th>Iris-virginica</th>\n",
       "      <th>Error</th>\n",
       "      <th>Rate</th>\n",
       "    </tr>\n",
       "  </thead>\n",
       "  <tbody>\n",
       "    <tr>\n",
       "      <th>0</th>\n",
       "      <td>42.0</td>\n",
       "      <td>0.0</td>\n",
       "      <td>0.0</td>\n",
       "      <td>0.000000</td>\n",
       "      <td>0 / 42</td>\n",
       "    </tr>\n",
       "    <tr>\n",
       "      <th>1</th>\n",
       "      <td>0.0</td>\n",
       "      <td>39.0</td>\n",
       "      <td>3.0</td>\n",
       "      <td>0.071429</td>\n",
       "      <td>3 / 42</td>\n",
       "    </tr>\n",
       "    <tr>\n",
       "      <th>2</th>\n",
       "      <td>0.0</td>\n",
       "      <td>4.0</td>\n",
       "      <td>37.0</td>\n",
       "      <td>0.097561</td>\n",
       "      <td>4 / 41</td>\n",
       "    </tr>\n",
       "    <tr>\n",
       "      <th>3</th>\n",
       "      <td>42.0</td>\n",
       "      <td>43.0</td>\n",
       "      <td>40.0</td>\n",
       "      <td>0.056000</td>\n",
       "      <td>7 / 125</td>\n",
       "    </tr>\n",
       "  </tbody>\n",
       "</table>\n",
       "</div>"
      ],
      "text/plain": [
       "   Iris-setosa  Iris-versicolor  Iris-virginica     Error     Rate\n",
       "0         42.0              0.0             0.0  0.000000   0 / 42\n",
       "1          0.0             39.0             3.0  0.071429   3 / 42\n",
       "2          0.0              4.0            37.0  0.097561   4 / 41\n",
       "3         42.0             43.0            40.0  0.056000  7 / 125"
      ]
     },
     "metadata": {},
     "output_type": "display_data"
    },
    {
     "name": "stdout",
     "output_type": "stream",
     "text": [
      "\n",
      "Top-3 Hit Ratios: \n"
     ]
    },
    {
     "data": {
      "text/html": [
       "<div>\n",
       "<style scoped>\n",
       "    .dataframe tbody tr th:only-of-type {\n",
       "        vertical-align: middle;\n",
       "    }\n",
       "\n",
       "    .dataframe tbody tr th {\n",
       "        vertical-align: top;\n",
       "    }\n",
       "\n",
       "    .dataframe thead th {\n",
       "        text-align: right;\n",
       "    }\n",
       "</style>\n",
       "<table border=\"1\" class=\"dataframe\">\n",
       "  <thead>\n",
       "    <tr style=\"text-align: right;\">\n",
       "      <th></th>\n",
       "      <th>k</th>\n",
       "      <th>hit_ratio</th>\n",
       "    </tr>\n",
       "  </thead>\n",
       "  <tbody>\n",
       "    <tr>\n",
       "      <th>0</th>\n",
       "      <td>1</td>\n",
       "      <td>0.944</td>\n",
       "    </tr>\n",
       "    <tr>\n",
       "      <th>1</th>\n",
       "      <td>2</td>\n",
       "      <td>1.000</td>\n",
       "    </tr>\n",
       "    <tr>\n",
       "      <th>2</th>\n",
       "      <td>3</td>\n",
       "      <td>1.000</td>\n",
       "    </tr>\n",
       "  </tbody>\n",
       "</table>\n",
       "</div>"
      ],
      "text/plain": [
       "   k  hit_ratio\n",
       "0  1      0.944\n",
       "1  2      1.000\n",
       "2  3      1.000"
      ]
     },
     "metadata": {},
     "output_type": "display_data"
    },
    {
     "data": {
      "text/plain": []
     },
     "execution_count": 9,
     "metadata": {},
     "output_type": "execute_result"
    }
   ],
   "source": [
    "mNB"
   ]
  },
  {
   "cell_type": "code",
   "execution_count": 10,
   "metadata": {},
   "outputs": [
    {
     "name": "stdout",
     "output_type": "stream",
     "text": [
      "\n",
      "ModelMetricsMultinomial: naivebayes\n",
      "** Reported on test data. **\n",
      "\n",
      "MSE: 0.00249782757975\n",
      "RMSE: 0.0499782710761\n",
      "LogLoss: 0.015592223637\n",
      "Mean Per-Class Error: 0.0\n",
      "\n",
      "Confusion Matrix: Row labels: Actual class; Column labels: Predicted class\n"
     ]
    },
    {
     "data": {
      "text/html": [
       "<div>\n",
       "<style scoped>\n",
       "    .dataframe tbody tr th:only-of-type {\n",
       "        vertical-align: middle;\n",
       "    }\n",
       "\n",
       "    .dataframe tbody tr th {\n",
       "        vertical-align: top;\n",
       "    }\n",
       "\n",
       "    .dataframe thead th {\n",
       "        text-align: right;\n",
       "    }\n",
       "</style>\n",
       "<table border=\"1\" class=\"dataframe\">\n",
       "  <thead>\n",
       "    <tr style=\"text-align: right;\">\n",
       "      <th></th>\n",
       "      <th>Iris-setosa</th>\n",
       "      <th>Iris-versicolor</th>\n",
       "      <th>Iris-virginica</th>\n",
       "      <th>Error</th>\n",
       "      <th>Rate</th>\n",
       "    </tr>\n",
       "  </thead>\n",
       "  <tbody>\n",
       "    <tr>\n",
       "      <th>0</th>\n",
       "      <td>8.0</td>\n",
       "      <td>0.0</td>\n",
       "      <td>0.0</td>\n",
       "      <td>0.0</td>\n",
       "      <td>0 / 8</td>\n",
       "    </tr>\n",
       "    <tr>\n",
       "      <th>1</th>\n",
       "      <td>0.0</td>\n",
       "      <td>8.0</td>\n",
       "      <td>0.0</td>\n",
       "      <td>0.0</td>\n",
       "      <td>0 / 8</td>\n",
       "    </tr>\n",
       "    <tr>\n",
       "      <th>2</th>\n",
       "      <td>0.0</td>\n",
       "      <td>0.0</td>\n",
       "      <td>9.0</td>\n",
       "      <td>0.0</td>\n",
       "      <td>0 / 9</td>\n",
       "    </tr>\n",
       "    <tr>\n",
       "      <th>3</th>\n",
       "      <td>8.0</td>\n",
       "      <td>8.0</td>\n",
       "      <td>9.0</td>\n",
       "      <td>0.0</td>\n",
       "      <td>0 / 25</td>\n",
       "    </tr>\n",
       "  </tbody>\n",
       "</table>\n",
       "</div>"
      ],
      "text/plain": [
       "   Iris-setosa  Iris-versicolor  Iris-virginica  Error    Rate\n",
       "0          8.0              0.0             0.0    0.0   0 / 8\n",
       "1          0.0              8.0             0.0    0.0   0 / 8\n",
       "2          0.0              0.0             9.0    0.0   0 / 9\n",
       "3          8.0              8.0             9.0    0.0  0 / 25"
      ]
     },
     "metadata": {},
     "output_type": "display_data"
    },
    {
     "name": "stdout",
     "output_type": "stream",
     "text": [
      "\n",
      "Top-3 Hit Ratios: \n"
     ]
    },
    {
     "data": {
      "text/html": [
       "<div>\n",
       "<style scoped>\n",
       "    .dataframe tbody tr th:only-of-type {\n",
       "        vertical-align: middle;\n",
       "    }\n",
       "\n",
       "    .dataframe tbody tr th {\n",
       "        vertical-align: top;\n",
       "    }\n",
       "\n",
       "    .dataframe thead th {\n",
       "        text-align: right;\n",
       "    }\n",
       "</style>\n",
       "<table border=\"1\" class=\"dataframe\">\n",
       "  <thead>\n",
       "    <tr style=\"text-align: right;\">\n",
       "      <th></th>\n",
       "      <th>k</th>\n",
       "      <th>hit_ratio</th>\n",
       "    </tr>\n",
       "  </thead>\n",
       "  <tbody>\n",
       "    <tr>\n",
       "      <th>0</th>\n",
       "      <td>1</td>\n",
       "      <td>1.0</td>\n",
       "    </tr>\n",
       "    <tr>\n",
       "      <th>1</th>\n",
       "      <td>2</td>\n",
       "      <td>1.0</td>\n",
       "    </tr>\n",
       "    <tr>\n",
       "      <th>2</th>\n",
       "      <td>3</td>\n",
       "      <td>1.0</td>\n",
       "    </tr>\n",
       "  </tbody>\n",
       "</table>\n",
       "</div>"
      ],
      "text/plain": [
       "   k  hit_ratio\n",
       "0  1        1.0\n",
       "1  2        1.0\n",
       "2  3        1.0"
      ]
     },
     "metadata": {},
     "output_type": "display_data"
    },
    {
     "data": {
      "text/plain": []
     },
     "execution_count": 10,
     "metadata": {},
     "output_type": "execute_result"
    }
   ],
   "source": [
    "mNB.model_performance(test)"
   ]
  },
  {
   "cell_type": "code",
   "execution_count": 11,
   "metadata": {},
   "outputs": [
    {
     "name": "stdout",
     "output_type": "stream",
     "text": [
      "naivebayes Model Build progress: |████████████████████████████████████████| 100%\n"
     ]
    }
   ],
   "source": [
    "mNB2 = H2ONaiveBayesEstimator(laplace = 2)\n",
    "mNB2.train([\"sepal_len\", \"sepal_wid\", \"petal_len\", \"petal_wid\"],\"class\", train)"
   ]
  },
  {
   "cell_type": "code",
   "execution_count": 12,
   "metadata": {},
   "outputs": [
    {
     "name": "stdout",
     "output_type": "stream",
     "text": [
      "\n",
      "ModelMetricsMultinomial: naivebayes\n",
      "** Reported on test data. **\n",
      "\n",
      "MSE: 0.00250167906334\n",
      "RMSE: 0.0500167878151\n",
      "LogLoss: 0.0156019805615\n",
      "Mean Per-Class Error: 0.0\n",
      "\n",
      "Confusion Matrix: Row labels: Actual class; Column labels: Predicted class\n"
     ]
    },
    {
     "data": {
      "text/html": [
       "<div>\n",
       "<style scoped>\n",
       "    .dataframe tbody tr th:only-of-type {\n",
       "        vertical-align: middle;\n",
       "    }\n",
       "\n",
       "    .dataframe tbody tr th {\n",
       "        vertical-align: top;\n",
       "    }\n",
       "\n",
       "    .dataframe thead th {\n",
       "        text-align: right;\n",
       "    }\n",
       "</style>\n",
       "<table border=\"1\" class=\"dataframe\">\n",
       "  <thead>\n",
       "    <tr style=\"text-align: right;\">\n",
       "      <th></th>\n",
       "      <th>Iris-setosa</th>\n",
       "      <th>Iris-versicolor</th>\n",
       "      <th>Iris-virginica</th>\n",
       "      <th>Error</th>\n",
       "      <th>Rate</th>\n",
       "    </tr>\n",
       "  </thead>\n",
       "  <tbody>\n",
       "    <tr>\n",
       "      <th>0</th>\n",
       "      <td>8.0</td>\n",
       "      <td>0.0</td>\n",
       "      <td>0.0</td>\n",
       "      <td>0.0</td>\n",
       "      <td>0 / 8</td>\n",
       "    </tr>\n",
       "    <tr>\n",
       "      <th>1</th>\n",
       "      <td>0.0</td>\n",
       "      <td>8.0</td>\n",
       "      <td>0.0</td>\n",
       "      <td>0.0</td>\n",
       "      <td>0 / 8</td>\n",
       "    </tr>\n",
       "    <tr>\n",
       "      <th>2</th>\n",
       "      <td>0.0</td>\n",
       "      <td>0.0</td>\n",
       "      <td>9.0</td>\n",
       "      <td>0.0</td>\n",
       "      <td>0 / 9</td>\n",
       "    </tr>\n",
       "    <tr>\n",
       "      <th>3</th>\n",
       "      <td>8.0</td>\n",
       "      <td>8.0</td>\n",
       "      <td>9.0</td>\n",
       "      <td>0.0</td>\n",
       "      <td>0 / 25</td>\n",
       "    </tr>\n",
       "  </tbody>\n",
       "</table>\n",
       "</div>"
      ],
      "text/plain": [
       "   Iris-setosa  Iris-versicolor  Iris-virginica  Error    Rate\n",
       "0          8.0              0.0             0.0    0.0   0 / 8\n",
       "1          0.0              8.0             0.0    0.0   0 / 8\n",
       "2          0.0              0.0             9.0    0.0   0 / 9\n",
       "3          8.0              8.0             9.0    0.0  0 / 25"
      ]
     },
     "metadata": {},
     "output_type": "display_data"
    },
    {
     "name": "stdout",
     "output_type": "stream",
     "text": [
      "\n",
      "Top-3 Hit Ratios: \n"
     ]
    },
    {
     "data": {
      "text/html": [
       "<div>\n",
       "<style scoped>\n",
       "    .dataframe tbody tr th:only-of-type {\n",
       "        vertical-align: middle;\n",
       "    }\n",
       "\n",
       "    .dataframe tbody tr th {\n",
       "        vertical-align: top;\n",
       "    }\n",
       "\n",
       "    .dataframe thead th {\n",
       "        text-align: right;\n",
       "    }\n",
       "</style>\n",
       "<table border=\"1\" class=\"dataframe\">\n",
       "  <thead>\n",
       "    <tr style=\"text-align: right;\">\n",
       "      <th></th>\n",
       "      <th>k</th>\n",
       "      <th>hit_ratio</th>\n",
       "    </tr>\n",
       "  </thead>\n",
       "  <tbody>\n",
       "    <tr>\n",
       "      <th>0</th>\n",
       "      <td>1</td>\n",
       "      <td>1.0</td>\n",
       "    </tr>\n",
       "    <tr>\n",
       "      <th>1</th>\n",
       "      <td>2</td>\n",
       "      <td>1.0</td>\n",
       "    </tr>\n",
       "    <tr>\n",
       "      <th>2</th>\n",
       "      <td>3</td>\n",
       "      <td>1.0</td>\n",
       "    </tr>\n",
       "  </tbody>\n",
       "</table>\n",
       "</div>"
      ],
      "text/plain": [
       "   k  hit_ratio\n",
       "0  1        1.0\n",
       "1  2        1.0\n",
       "2  3        1.0"
      ]
     },
     "metadata": {},
     "output_type": "display_data"
    },
    {
     "data": {
      "text/plain": []
     },
     "execution_count": 12,
     "metadata": {},
     "output_type": "execute_result"
    }
   ],
   "source": [
    "mNB2.model_performance(test)"
   ]
  },
  {
   "cell_type": "markdown",
   "metadata": {},
   "source": [
    "## Load and save models"
   ]
  },
  {
   "cell_type": "code",
   "execution_count": null,
   "metadata": {},
   "outputs": [],
   "source": [
    "fname = h2o.save_model(m, \"/path/to/\")\n",
    "m = h2o.load_model(\"/path/to/someid\")"
   ]
  },
  {
   "cell_type": "markdown",
   "metadata": {},
   "source": [
    "## Some data manipulation: http://docs.h2o.ai/h2o/latest-stable/h2o-docs/data-munging.html"
   ]
  },
  {
   "cell_type": "code",
   "execution_count": 4,
   "metadata": {},
   "outputs": [
    {
     "name": "stdout",
     "output_type": "stream",
     "text": [
      "Parse progress: |█████████████████████████████████████████████████████████| 100%\n"
     ]
    }
   ],
   "source": [
    "url = \"http://h2o-public-test-data.s3.amazonaws.com/smalldata/airlines/allyears2k_headers.zip\"\n",
    "data = h2o.import_file(url)"
   ]
  },
  {
   "cell_type": "code",
   "execution_count": 14,
   "metadata": {},
   "outputs": [
    {
     "data": {
      "text/html": [
       "<table>\n",
       "<thead>\n",
       "<tr><th>       </th><th>Year         </th><th>Month        </th><th>DayofMonth   </th><th>DayOfWeek    </th><th>DepTime      </th><th>CRSDepTime   </th><th>ArrTime      </th><th>CRSArrTime   </th><th>UniqueCarrier  </th><th>FlightNum    </th><th>TailNum  </th><th>ActualElapsedTime  </th><th>CRSElapsedTime  </th><th>AirTime      </th><th>ArrDelay     </th><th>DepDelay     </th><th>Origin  </th><th>Dest  </th><th>Distance     </th><th>TaxiIn       </th><th>TaxiOut      </th><th>Cancelled      </th><th>CancellationCode  </th><th>Diverted        </th><th>CarrierDelay  </th><th>WeatherDelay  </th><th>NASDelay     </th><th>SecurityDelay  </th><th>LateAircraftDelay  </th><th>IsArrDelayed  </th><th>IsDepDelayed  </th></tr>\n",
       "</thead>\n",
       "<tbody>\n",
       "<tr><td>type   </td><td>int          </td><td>int          </td><td>int          </td><td>int          </td><td>int          </td><td>int          </td><td>int          </td><td>int          </td><td>enum           </td><td>int          </td><td>enum     </td><td>int                </td><td>int             </td><td>int          </td><td>int          </td><td>int          </td><td>enum    </td><td>enum  </td><td>int          </td><td>int          </td><td>int          </td><td>int            </td><td>enum              </td><td>int             </td><td>int           </td><td>int           </td><td>int          </td><td>int            </td><td>int                </td><td>enum          </td><td>enum          </td></tr>\n",
       "<tr><td>mins   </td><td>1987.0       </td><td>1.0          </td><td>1.0          </td><td>1.0          </td><td>1.0          </td><td>0.0          </td><td>1.0          </td><td>0.0          </td><td>               </td><td>1.0          </td><td>         </td><td>16.0               </td><td>17.0            </td><td>14.0         </td><td>-63.0        </td><td>-16.0        </td><td>        </td><td>      </td><td>11.0         </td><td>0.0          </td><td>0.0          </td><td>0.0            </td><td>                  </td><td>0.0             </td><td>0.0           </td><td>0.0           </td><td>0.0          </td><td>0.0            </td><td>0.0                </td><td>              </td><td>              </td></tr>\n",
       "<tr><td>mean   </td><td>1997.5       </td><td>1.40909090909</td><td>14.6010732639</td><td>3.82061485288</td><td>1345.84666138</td><td>1313.22286143</td><td>1504.63413038</td><td>1485.28916731</td><td>               </td><td>818.842989677</td><td>         </td><td>124.814529135      </td><td>125.021562607   </td><td>114.316111091</td><td>9.31711193698</td><td>10.0073906556</td><td>        </td><td>      </td><td>730.182190565</td><td>5.38136805953</td><td>14.1686341847</td><td>0.0246941652645</td><td>                  </td><td>0.00247851198326</td><td>4.04780029106 </td><td>0.289376469271</td><td>4.85503190418</td><td>0.0170155602821</td><td>7.62006045002      </td><td>              </td><td>              </td></tr>\n",
       "<tr><td>maxs   </td><td>2008.0       </td><td>10.0         </td><td>31.0         </td><td>7.0          </td><td>2400.0       </td><td>2359.0       </td><td>2400.0       </td><td>2359.0       </td><td>               </td><td>3949.0       </td><td>         </td><td>475.0              </td><td>437.0           </td><td>402.0        </td><td>475.0        </td><td>473.0        </td><td>        </td><td>      </td><td>3365.0       </td><td>128.0        </td><td>254.0        </td><td>1.0            </td><td>                  </td><td>1.0             </td><td>369.0         </td><td>201.0         </td><td>323.0        </td><td>14.0           </td><td>373.0              </td><td>              </td><td>              </td></tr>\n",
       "<tr><td>sigma  </td><td>6.34436090171</td><td>1.87471137134</td><td>9.17579042586</td><td>1.90501311913</td><td>465.340899124</td><td>476.251139993</td><td>484.347487904</td><td>492.750434123</td><td>               </td><td>777.404369164</td><td>         </td><td>73.9744416606      </td><td>73.40159463     </td><td>69.6363295151</td><td>29.8402219624</td><td>26.4388090429</td><td>        </td><td>      </td><td>578.43800823 </td><td>4.20197993986</td><td>9.9050857472 </td><td>0.155193141358 </td><td>                  </td><td>0.0497234872189 </td><td>16.2057299045 </td><td>4.41677989873 </td><td>18.6197762215</td><td>0.403940182102 </td><td>23.4875658741      </td><td>              </td><td>              </td></tr>\n",
       "<tr><td>zeros  </td><td>0            </td><td>0            </td><td>0            </td><td>0            </td><td>0            </td><td>569          </td><td>0            </td><td>569          </td><td>               </td><td>0            </td><td>         </td><td>0                  </td><td>0               </td><td>0            </td><td>1514         </td><td>6393         </td><td>        </td><td>      </td><td>0            </td><td>623          </td><td>557          </td><td>42892          </td><td>                  </td><td>43869           </td><td>7344          </td><td>8840          </td><td>7388         </td><td>8914           </td><td>7140               </td><td>              </td><td>              </td></tr>\n",
       "<tr><td>missing</td><td>0            </td><td>0            </td><td>0            </td><td>0            </td><td>1086         </td><td>0            </td><td>1195         </td><td>0            </td><td>0              </td><td>0            </td><td>32       </td><td>1195               </td><td>13              </td><td>16649        </td><td>1195         </td><td>1086         </td><td>0       </td><td>0     </td><td>35           </td><td>16026        </td><td>16024        </td><td>0              </td><td>9774              </td><td>0               </td><td>35045         </td><td>35045         </td><td>35045        </td><td>35045          </td><td>35045              </td><td>0             </td><td>0             </td></tr>\n",
       "<tr><td>0      </td><td>1987.0       </td><td>10.0         </td><td>14.0         </td><td>3.0          </td><td>741.0        </td><td>730.0        </td><td>912.0        </td><td>849.0        </td><td>PS             </td><td>1451.0       </td><td>NA       </td><td>91.0               </td><td>79.0            </td><td>nan          </td><td>23.0         </td><td>11.0         </td><td>SAN     </td><td>SFO   </td><td>447.0        </td><td>nan          </td><td>nan          </td><td>0.0            </td><td>NA                </td><td>0.0             </td><td>nan           </td><td>nan           </td><td>nan          </td><td>nan            </td><td>nan                </td><td>YES           </td><td>YES           </td></tr>\n",
       "<tr><td>1      </td><td>1987.0       </td><td>10.0         </td><td>15.0         </td><td>4.0          </td><td>729.0        </td><td>730.0        </td><td>903.0        </td><td>849.0        </td><td>PS             </td><td>1451.0       </td><td>NA       </td><td>94.0               </td><td>79.0            </td><td>nan          </td><td>14.0         </td><td>-1.0         </td><td>SAN     </td><td>SFO   </td><td>447.0        </td><td>nan          </td><td>nan          </td><td>0.0            </td><td>NA                </td><td>0.0             </td><td>nan           </td><td>nan           </td><td>nan          </td><td>nan            </td><td>nan                </td><td>YES           </td><td>NO            </td></tr>\n",
       "<tr><td>2      </td><td>1987.0       </td><td>10.0         </td><td>17.0         </td><td>6.0          </td><td>741.0        </td><td>730.0        </td><td>918.0        </td><td>849.0        </td><td>PS             </td><td>1451.0       </td><td>NA       </td><td>97.0               </td><td>79.0            </td><td>nan          </td><td>29.0         </td><td>11.0         </td><td>SAN     </td><td>SFO   </td><td>447.0        </td><td>nan          </td><td>nan          </td><td>0.0            </td><td>NA                </td><td>0.0             </td><td>nan           </td><td>nan           </td><td>nan          </td><td>nan            </td><td>nan                </td><td>YES           </td><td>YES           </td></tr>\n",
       "<tr><td>3      </td><td>1987.0       </td><td>10.0         </td><td>18.0         </td><td>7.0          </td><td>729.0        </td><td>730.0        </td><td>847.0        </td><td>849.0        </td><td>PS             </td><td>1451.0       </td><td>NA       </td><td>78.0               </td><td>79.0            </td><td>nan          </td><td>-2.0         </td><td>-1.0         </td><td>SAN     </td><td>SFO   </td><td>447.0        </td><td>nan          </td><td>nan          </td><td>0.0            </td><td>NA                </td><td>0.0             </td><td>nan           </td><td>nan           </td><td>nan          </td><td>nan            </td><td>nan                </td><td>NO            </td><td>NO            </td></tr>\n",
       "<tr><td>4      </td><td>1987.0       </td><td>10.0         </td><td>19.0         </td><td>1.0          </td><td>749.0        </td><td>730.0        </td><td>922.0        </td><td>849.0        </td><td>PS             </td><td>1451.0       </td><td>NA       </td><td>93.0               </td><td>79.0            </td><td>nan          </td><td>33.0         </td><td>19.0         </td><td>SAN     </td><td>SFO   </td><td>447.0        </td><td>nan          </td><td>nan          </td><td>0.0            </td><td>NA                </td><td>0.0             </td><td>nan           </td><td>nan           </td><td>nan          </td><td>nan            </td><td>nan                </td><td>YES           </td><td>YES           </td></tr>\n",
       "<tr><td>5      </td><td>1987.0       </td><td>10.0         </td><td>21.0         </td><td>3.0          </td><td>728.0        </td><td>730.0        </td><td>848.0        </td><td>849.0        </td><td>PS             </td><td>1451.0       </td><td>NA       </td><td>80.0               </td><td>79.0            </td><td>nan          </td><td>-1.0         </td><td>-2.0         </td><td>SAN     </td><td>SFO   </td><td>447.0        </td><td>nan          </td><td>nan          </td><td>0.0            </td><td>NA                </td><td>0.0             </td><td>nan           </td><td>nan           </td><td>nan          </td><td>nan            </td><td>nan                </td><td>NO            </td><td>NO            </td></tr>\n",
       "<tr><td>6      </td><td>1987.0       </td><td>10.0         </td><td>22.0         </td><td>4.0          </td><td>728.0        </td><td>730.0        </td><td>852.0        </td><td>849.0        </td><td>PS             </td><td>1451.0       </td><td>NA       </td><td>84.0               </td><td>79.0            </td><td>nan          </td><td>3.0          </td><td>-2.0         </td><td>SAN     </td><td>SFO   </td><td>447.0        </td><td>nan          </td><td>nan          </td><td>0.0            </td><td>NA                </td><td>0.0             </td><td>nan           </td><td>nan           </td><td>nan          </td><td>nan            </td><td>nan                </td><td>YES           </td><td>NO            </td></tr>\n",
       "<tr><td>7      </td><td>1987.0       </td><td>10.0         </td><td>23.0         </td><td>5.0          </td><td>731.0        </td><td>730.0        </td><td>902.0        </td><td>849.0        </td><td>PS             </td><td>1451.0       </td><td>NA       </td><td>91.0               </td><td>79.0            </td><td>nan          </td><td>13.0         </td><td>1.0          </td><td>SAN     </td><td>SFO   </td><td>447.0        </td><td>nan          </td><td>nan          </td><td>0.0            </td><td>NA                </td><td>0.0             </td><td>nan           </td><td>nan           </td><td>nan          </td><td>nan            </td><td>nan                </td><td>YES           </td><td>YES           </td></tr>\n",
       "<tr><td>8      </td><td>1987.0       </td><td>10.0         </td><td>24.0         </td><td>6.0          </td><td>744.0        </td><td>730.0        </td><td>908.0        </td><td>849.0        </td><td>PS             </td><td>1451.0       </td><td>NA       </td><td>84.0               </td><td>79.0            </td><td>nan          </td><td>19.0         </td><td>14.0         </td><td>SAN     </td><td>SFO   </td><td>447.0        </td><td>nan          </td><td>nan          </td><td>0.0            </td><td>NA                </td><td>0.0             </td><td>nan           </td><td>nan           </td><td>nan          </td><td>nan            </td><td>nan                </td><td>YES           </td><td>YES           </td></tr>\n",
       "<tr><td>9      </td><td>1987.0       </td><td>10.0         </td><td>25.0         </td><td>7.0          </td><td>729.0        </td><td>730.0        </td><td>851.0        </td><td>849.0        </td><td>PS             </td><td>1451.0       </td><td>NA       </td><td>82.0               </td><td>79.0            </td><td>nan          </td><td>2.0          </td><td>-1.0         </td><td>SAN     </td><td>SFO   </td><td>447.0        </td><td>nan          </td><td>nan          </td><td>0.0            </td><td>NA                </td><td>0.0             </td><td>nan           </td><td>nan           </td><td>nan          </td><td>nan            </td><td>nan                </td><td>YES           </td><td>NO            </td></tr>\n",
       "</tbody>\n",
       "</table>"
      ]
     },
     "metadata": {},
     "output_type": "display_data"
    }
   ],
   "source": [
    "data.summary()"
   ]
  },
  {
   "cell_type": "code",
   "execution_count": null,
   "metadata": {},
   "outputs": [],
   "source": [
    "# data[\"xxx\"] = data[\"xxx\"].asfactor()\n",
    "# data[\"xxx\"] = data[\"xxx\"].asnumeric()"
   ]
  },
  {
   "cell_type": "code",
   "execution_count": 15,
   "metadata": {},
   "outputs": [
    {
     "data": {
      "text/plain": [
       "[114.31611109078231]"
      ]
     },
     "execution_count": 15,
     "metadata": {},
     "output_type": "execute_result"
    }
   ],
   "source": [
    "data[\"AirTime\"].mean()"
   ]
  },
  {
   "cell_type": "code",
   "execution_count": 16,
   "metadata": {},
   "outputs": [
    {
     "data": {
      "text/html": [
       "<table>\n",
       "<thead>\n",
       "<tr><th>       </th><th>AirTime      </th></tr>\n",
       "</thead>\n",
       "<tbody>\n",
       "<tr><td>type   </td><td>int          </td></tr>\n",
       "<tr><td>mins   </td><td>14.0         </td></tr>\n",
       "<tr><td>mean   </td><td>114.316111091</td></tr>\n",
       "<tr><td>maxs   </td><td>402.0        </td></tr>\n",
       "<tr><td>sigma  </td><td>69.6363295151</td></tr>\n",
       "<tr><td>zeros  </td><td>0            </td></tr>\n",
       "<tr><td>missing</td><td>16649        </td></tr>\n",
       "<tr><td>0      </td><td>nan          </td></tr>\n",
       "<tr><td>1      </td><td>nan          </td></tr>\n",
       "<tr><td>2      </td><td>nan          </td></tr>\n",
       "<tr><td>3      </td><td>nan          </td></tr>\n",
       "<tr><td>4      </td><td>nan          </td></tr>\n",
       "<tr><td>5      </td><td>nan          </td></tr>\n",
       "<tr><td>6      </td><td>nan          </td></tr>\n",
       "<tr><td>7      </td><td>nan          </td></tr>\n",
       "<tr><td>8      </td><td>nan          </td></tr>\n",
       "<tr><td>9      </td><td>nan          </td></tr>\n",
       "</tbody>\n",
       "</table>"
      ]
     },
     "metadata": {},
     "output_type": "display_data"
    }
   ],
   "source": [
    "data[\"AirTime\"].summary()"
   ]
  },
  {
   "cell_type": "code",
   "execution_count": 19,
   "metadata": {},
   "outputs": [
    {
     "data": {
      "image/png": "[encoded data removed]",
      "text/plain": [
       "<Figure size 432x288 with 1 Axes>"
      ]
     },
     "metadata": {
      "needs_background": "light"
     },
     "output_type": "display_data"
    }
   ],
   "source": [
    "data[\"ArrDelay\"].hist()"
   ]
  },
  {
   "cell_type": "code",
   "execution_count": 24,
   "metadata": {},
   "outputs": [
    {
     "data": {
      "text/plain": [
       "True"
      ]
     },
     "execution_count": 24,
     "metadata": {},
     "output_type": "execute_result"
    }
   ],
   "source": [
    "(data[\"ArrDelay\"] > 360).any()"
   ]
  },
  {
   "cell_type": "code",
   "execution_count": 32,
   "metadata": {},
   "outputs": [
    {
     "data": {
      "text/plain": [
       "False"
      ]
     },
     "execution_count": 32,
     "metadata": {},
     "output_type": "execute_result"
    }
   ],
   "source": [
    "(data[\"ArrDelay\"] < 480).all() ### have to remove NA"
   ]
  },
  {
   "cell_type": "code",
   "execution_count": 33,
   "metadata": {},
   "outputs": [
    {
     "data": {
      "text/html": [
       "<table>\n",
       "<thead>\n",
       "<tr><th style=\"text-align: right;\">   C1</th></tr>\n",
       "</thead>\n",
       "<tbody>\n",
       "<tr><td style=\"text-align: right;\">17991</td></tr>\n",
       "<tr><td style=\"text-align: right;\">17992</td></tr>\n",
       "<tr><td style=\"text-align: right;\">17993</td></tr>\n",
       "<tr><td style=\"text-align: right;\">17994</td></tr>\n",
       "<tr><td style=\"text-align: right;\">17995</td></tr>\n",
       "<tr><td style=\"text-align: right;\">17996</td></tr>\n",
       "<tr><td style=\"text-align: right;\">17997</td></tr>\n",
       "<tr><td style=\"text-align: right;\">17998</td></tr>\n",
       "<tr><td style=\"text-align: right;\">17999</td></tr>\n",
       "<tr><td style=\"text-align: right;\">18000</td></tr>\n",
       "</tbody>\n",
       "</table>"
      ]
     },
     "metadata": {},
     "output_type": "display_data"
    },
    {
     "data": {
      "text/plain": []
     },
     "execution_count": 33,
     "metadata": {},
     "output_type": "execute_result"
    }
   ],
   "source": [
    "data[\"UniqueCarrier\"].grep(\"[C-E]\")"
   ]
  },
  {
   "cell_type": "code",
   "execution_count": 35,
   "metadata": {},
   "outputs": [
    {
     "data": {
      "text/html": [
       "<table>\n",
       "<thead>\n",
       "<tr><th>UniqueCarrier  </th></tr>\n",
       "</thead>\n",
       "<tbody>\n",
       "<tr><td>DL             </td></tr>\n",
       "<tr><td>DL             </td></tr>\n",
       "<tr><td>DL             </td></tr>\n",
       "<tr><td>DL             </td></tr>\n",
       "<tr><td>DL             </td></tr>\n",
       "<tr><td>DL             </td></tr>\n",
       "<tr><td>DL             </td></tr>\n",
       "<tr><td>DL             </td></tr>\n",
       "<tr><td>DL             </td></tr>\n",
       "<tr><td>DL             </td></tr>\n",
       "</tbody>\n",
       "</table>"
      ]
     },
     "metadata": {},
     "output_type": "display_data"
    },
    {
     "data": {
      "text/plain": []
     },
     "execution_count": 35,
     "metadata": {},
     "output_type": "execute_result"
    }
   ],
   "source": [
    "data[\"UniqueCarrier\"][data[\"UniqueCarrier\"].grep(\"[C-E]\",output_logical = True)]"
   ]
  },
  {
   "cell_type": "code",
   "execution_count": 37,
   "metadata": {},
   "outputs": [
    {
     "data": {
      "text/html": [
       "<table>\n",
       "<thead>\n",
       "<tr><th style=\"text-align: right;\">  ArrDelay0</th><th style=\"text-align: right;\">  DepDelay0</th><th style=\"text-align: right;\">  AirTime0</th></tr>\n",
       "</thead>\n",
       "<tbody>\n",
       "<tr><td style=\"text-align: right;\">  1        </td><td style=\"text-align: right;\">  0.907564 </td><td style=\"text-align: right;\"> 0.0836881</td></tr>\n",
       "<tr><td style=\"text-align: right;\">  0.907564 </td><td style=\"text-align: right;\">  1        </td><td style=\"text-align: right;\"> 0.0619647</td></tr>\n",
       "<tr><td style=\"text-align: right;\">  0.0836881</td><td style=\"text-align: right;\">  0.0619647</td><td style=\"text-align: right;\"> 1        </td></tr>\n",
       "</tbody>\n",
       "</table>"
      ]
     },
     "metadata": {},
     "output_type": "display_data"
    },
    {
     "data": {
      "text/plain": []
     },
     "execution_count": 37,
     "metadata": {},
     "output_type": "execute_result"
    }
   ],
   "source": [
    "data[[\"ArrDelay\", \"DepDelay\", \"AirTime\"]].cor(na_rm = True)"
   ]
  },
  {
   "cell_type": "code",
   "execution_count": 5,
   "metadata": {},
   "outputs": [],
   "source": [
    "train, valid, test = data.split_frame([0.8, 0.1], seed = 123)"
   ]
  },
  {
   "cell_type": "code",
   "execution_count": 6,
   "metadata": {},
   "outputs": [
    {
     "name": "stdout",
     "output_type": "stream",
     "text": [
      "35255/4272/4451\n"
     ]
    }
   ],
   "source": [
    "print(\"%d/%d/%d\" % (train.nrows, valid.nrows, test.nrows))"
   ]
  },
  {
   "cell_type": "code",
   "execution_count": 7,
   "metadata": {},
   "outputs": [],
   "source": [
    "train2 = data[1:train.nrows, :]\n",
    "train2 = h2o.assign(train2, \"first35255\")"
   ]
  },
  {
   "cell_type": "code",
   "execution_count": 8,
   "metadata": {
    "scrolled": true
   },
   "outputs": [
    {
     "data": {
      "text/html": [
       "<div>\n",
       "<style scoped>\n",
       "    .dataframe tbody tr th:only-of-type {\n",
       "        vertical-align: middle;\n",
       "    }\n",
       "\n",
       "    .dataframe tbody tr th {\n",
       "        vertical-align: top;\n",
       "    }\n",
       "\n",
       "    .dataframe thead th {\n",
       "        text-align: right;\n",
       "    }\n",
       "</style>\n",
       "<table border=\"1\" class=\"dataframe\">\n",
       "  <thead>\n",
       "    <tr style=\"text-align: right;\">\n",
       "      <th></th>\n",
       "      <th>key</th>\n",
       "    </tr>\n",
       "  </thead>\n",
       "  <tbody>\n",
       "    <tr>\n",
       "      <th>0</th>\n",
       "      <td>GLM_model_python_1578267636222_3</td>\n",
       "    </tr>\n",
       "    <tr>\n",
       "      <th>1</th>\n",
       "      <td>Grid_GLM_py_40_sid_80fa_model_python_157826763...</td>\n",
       "    </tr>\n",
       "    <tr>\n",
       "      <th>2</th>\n",
       "      <td>Grid_GLM_py_40_sid_80fa_model_python_157826763...</td>\n",
       "    </tr>\n",
       "    <tr>\n",
       "      <th>3</th>\n",
       "      <td>Grid_GLM_py_40_sid_80fa_model_python_157826763...</td>\n",
       "    </tr>\n",
       "    <tr>\n",
       "      <th>4</th>\n",
       "      <td>Grid_GLM_py_40_sid_80fa_model_python_157826763...</td>\n",
       "    </tr>\n",
       "    <tr>\n",
       "      <th>5</th>\n",
       "      <td>Grid_GLM_py_40_sid_80fa_model_python_157826763...</td>\n",
       "    </tr>\n",
       "    <tr>\n",
       "      <th>6</th>\n",
       "      <td>Grid_GLM_py_40_sid_80fa_model_python_157826763...</td>\n",
       "    </tr>\n",
       "    <tr>\n",
       "      <th>7</th>\n",
       "      <td>Grid_GLM_py_40_sid_80fa_model_python_157826763...</td>\n",
       "    </tr>\n",
       "    <tr>\n",
       "      <th>8</th>\n",
       "      <td>Grid_GLM_py_40_sid_80fa_model_python_157826763...</td>\n",
       "    </tr>\n",
       "    <tr>\n",
       "      <th>9</th>\n",
       "      <td>Grid_GLM_py_40_sid_80fa_model_python_157826763...</td>\n",
       "    </tr>\n",
       "    <tr>\n",
       "      <th>10</th>\n",
       "      <td>Grid_GLM_py_40_sid_80fa_model_python_157826763...</td>\n",
       "    </tr>\n",
       "    <tr>\n",
       "      <th>11</th>\n",
       "      <td>Grid_GLM_py_40_sid_80fa_model_python_157826763...</td>\n",
       "    </tr>\n",
       "    <tr>\n",
       "      <th>12</th>\n",
       "      <td>Grid_GLM_py_40_sid_80fa_model_python_157826763...</td>\n",
       "    </tr>\n",
       "    <tr>\n",
       "      <th>13</th>\n",
       "      <td>Grid_GLM_py_40_sid_80fa_model_python_157826763...</td>\n",
       "    </tr>\n",
       "    <tr>\n",
       "      <th>14</th>\n",
       "      <td>Grid_GLM_py_40_sid_80fa_model_python_157826763...</td>\n",
       "    </tr>\n",
       "    <tr>\n",
       "      <th>15</th>\n",
       "      <td>Grid_GLM_py_40_sid_80fa_model_python_157826763...</td>\n",
       "    </tr>\n",
       "    <tr>\n",
       "      <th>16</th>\n",
       "      <td>Grid_GLM_py_40_sid_80fa_model_python_157826763...</td>\n",
       "    </tr>\n",
       "    <tr>\n",
       "      <th>17</th>\n",
       "      <td>Grid_GLM_py_40_sid_80fa_model_python_157826763...</td>\n",
       "    </tr>\n",
       "    <tr>\n",
       "      <th>18</th>\n",
       "      <td>Grid_GLM_py_40_sid_80fa_model_python_157826763...</td>\n",
       "    </tr>\n",
       "    <tr>\n",
       "      <th>19</th>\n",
       "      <td>Grid_GLM_py_40_sid_80fa_model_python_157826763...</td>\n",
       "    </tr>\n",
       "    <tr>\n",
       "      <th>20</th>\n",
       "      <td>Grid_GLM_py_40_sid_80fa_model_python_157826763...</td>\n",
       "    </tr>\n",
       "    <tr>\n",
       "      <th>21</th>\n",
       "      <td>Grid_GLM_py_40_sid_80fa_model_python_157826763...</td>\n",
       "    </tr>\n",
       "    <tr>\n",
       "      <th>22</th>\n",
       "      <td>Grid_GLM_py_40_sid_80fa_model_python_157826763...</td>\n",
       "    </tr>\n",
       "    <tr>\n",
       "      <th>23</th>\n",
       "      <td>Grid_GLM_py_40_sid_80fa_model_python_157826763...</td>\n",
       "    </tr>\n",
       "    <tr>\n",
       "      <th>24</th>\n",
       "      <td>Grid_GLM_py_40_sid_80fa_model_python_157826763...</td>\n",
       "    </tr>\n",
       "    <tr>\n",
       "      <th>25</th>\n",
       "      <td>Grid_GLM_py_40_sid_80fa_model_python_157826763...</td>\n",
       "    </tr>\n",
       "    <tr>\n",
       "      <th>26</th>\n",
       "      <td>NaiveBayes_model_python_1578267636222_1</td>\n",
       "    </tr>\n",
       "    <tr>\n",
       "      <th>27</th>\n",
       "      <td>NaiveBayes_model_python_1578267636222_2</td>\n",
       "    </tr>\n",
       "    <tr>\n",
       "      <th>28</th>\n",
       "      <td>allyears2k_headers.hex</td>\n",
       "    </tr>\n",
       "    <tr>\n",
       "      <th>29</th>\n",
       "      <td>allyears2k_headers1.hex</td>\n",
       "    </tr>\n",
       "    <tr>\n",
       "      <th>...</th>\n",
       "      <td>...</td>\n",
       "    </tr>\n",
       "    <tr>\n",
       "      <th>64</th>\n",
       "      <td>modelmetrics_Grid_GLM_py_40_sid_80fa_model_pyt...</td>\n",
       "    </tr>\n",
       "    <tr>\n",
       "      <th>65</th>\n",
       "      <td>modelmetrics_Grid_GLM_py_40_sid_80fa_model_pyt...</td>\n",
       "    </tr>\n",
       "    <tr>\n",
       "      <th>66</th>\n",
       "      <td>modelmetrics_Grid_GLM_py_40_sid_80fa_model_pyt...</td>\n",
       "    </tr>\n",
       "    <tr>\n",
       "      <th>67</th>\n",
       "      <td>modelmetrics_Grid_GLM_py_40_sid_80fa_model_pyt...</td>\n",
       "    </tr>\n",
       "    <tr>\n",
       "      <th>68</th>\n",
       "      <td>modelmetrics_Grid_GLM_py_40_sid_80fa_model_pyt...</td>\n",
       "    </tr>\n",
       "    <tr>\n",
       "      <th>69</th>\n",
       "      <td>modelmetrics_Grid_GLM_py_40_sid_80fa_model_pyt...</td>\n",
       "    </tr>\n",
       "    <tr>\n",
       "      <th>70</th>\n",
       "      <td>modelmetrics_Grid_GLM_py_40_sid_80fa_model_pyt...</td>\n",
       "    </tr>\n",
       "    <tr>\n",
       "      <th>71</th>\n",
       "      <td>modelmetrics_Grid_GLM_py_40_sid_80fa_model_pyt...</td>\n",
       "    </tr>\n",
       "    <tr>\n",
       "      <th>72</th>\n",
       "      <td>modelmetrics_Grid_GLM_py_40_sid_80fa_model_pyt...</td>\n",
       "    </tr>\n",
       "    <tr>\n",
       "      <th>73</th>\n",
       "      <td>modelmetrics_Grid_GLM_py_40_sid_80fa_model_pyt...</td>\n",
       "    </tr>\n",
       "    <tr>\n",
       "      <th>74</th>\n",
       "      <td>modelmetrics_Grid_GLM_py_40_sid_80fa_model_pyt...</td>\n",
       "    </tr>\n",
       "    <tr>\n",
       "      <th>75</th>\n",
       "      <td>modelmetrics_Grid_GLM_py_40_sid_80fa_model_pyt...</td>\n",
       "    </tr>\n",
       "    <tr>\n",
       "      <th>76</th>\n",
       "      <td>modelmetrics_Grid_GLM_py_40_sid_80fa_model_pyt...</td>\n",
       "    </tr>\n",
       "    <tr>\n",
       "      <th>77</th>\n",
       "      <td>modelmetrics_Grid_GLM_py_40_sid_80fa_model_pyt...</td>\n",
       "    </tr>\n",
       "    <tr>\n",
       "      <th>78</th>\n",
       "      <td>modelmetrics_Grid_GLM_py_40_sid_80fa_model_pyt...</td>\n",
       "    </tr>\n",
       "    <tr>\n",
       "      <th>79</th>\n",
       "      <td>modelmetrics_Grid_GLM_py_40_sid_80fa_model_pyt...</td>\n",
       "    </tr>\n",
       "    <tr>\n",
       "      <th>80</th>\n",
       "      <td>modelmetrics_NaiveBayes_model_python_157826763...</td>\n",
       "    </tr>\n",
       "    <tr>\n",
       "      <th>81</th>\n",
       "      <td>modelmetrics_NaiveBayes_model_python_157826763...</td>\n",
       "    </tr>\n",
       "    <tr>\n",
       "      <th>82</th>\n",
       "      <td>modelmetrics_NaiveBayes_model_python_157826763...</td>\n",
       "    </tr>\n",
       "    <tr>\n",
       "      <th>83</th>\n",
       "      <td>modelmetrics_NaiveBayes_model_python_157826763...</td>\n",
       "    </tr>\n",
       "    <tr>\n",
       "      <th>84</th>\n",
       "      <td>py_34_sid_80fa</td>\n",
       "    </tr>\n",
       "    <tr>\n",
       "      <th>85</th>\n",
       "      <td>py_35_sid_80fa</td>\n",
       "    </tr>\n",
       "    <tr>\n",
       "      <th>86</th>\n",
       "      <td>py_36_sid_80fa</td>\n",
       "    </tr>\n",
       "    <tr>\n",
       "      <th>87</th>\n",
       "      <td>py_37_sid_80fa</td>\n",
       "    </tr>\n",
       "    <tr>\n",
       "      <th>88</th>\n",
       "      <td>py_3_sid_8368</td>\n",
       "    </tr>\n",
       "    <tr>\n",
       "      <th>89</th>\n",
       "      <td>py_40_sid_80fa</td>\n",
       "    </tr>\n",
       "    <tr>\n",
       "      <th>90</th>\n",
       "      <td>py_41_sid_80fa</td>\n",
       "    </tr>\n",
       "    <tr>\n",
       "      <th>91</th>\n",
       "      <td>py_42_sid_80fa</td>\n",
       "    </tr>\n",
       "    <tr>\n",
       "      <th>92</th>\n",
       "      <td>py_4_sid_8368</td>\n",
       "    </tr>\n",
       "    <tr>\n",
       "      <th>93</th>\n",
       "      <td>py_5_sid_8368</td>\n",
       "    </tr>\n",
       "  </tbody>\n",
       "</table>\n",
       "<p>94 rows × 1 columns</p>\n",
       "</div>"
      ],
      "text/plain": [
       "                                                  key\n",
       "0                    GLM_model_python_1578267636222_3\n",
       "1   Grid_GLM_py_40_sid_80fa_model_python_157826763...\n",
       "2   Grid_GLM_py_40_sid_80fa_model_python_157826763...\n",
       "3   Grid_GLM_py_40_sid_80fa_model_python_157826763...\n",
       "4   Grid_GLM_py_40_sid_80fa_model_python_157826763...\n",
       "5   Grid_GLM_py_40_sid_80fa_model_python_157826763...\n",
       "6   Grid_GLM_py_40_sid_80fa_model_python_157826763...\n",
       "7   Grid_GLM_py_40_sid_80fa_model_python_157826763...\n",
       "8   Grid_GLM_py_40_sid_80fa_model_python_157826763...\n",
       "9   Grid_GLM_py_40_sid_80fa_model_python_157826763...\n",
       "10  Grid_GLM_py_40_sid_80fa_model_python_157826763...\n",
       "11  Grid_GLM_py_40_sid_80fa_model_python_157826763...\n",
       "12  Grid_GLM_py_40_sid_80fa_model_python_157826763...\n",
       "13  Grid_GLM_py_40_sid_80fa_model_python_157826763...\n",
       "14  Grid_GLM_py_40_sid_80fa_model_python_157826763...\n",
       "15  Grid_GLM_py_40_sid_80fa_model_python_157826763...\n",
       "16  Grid_GLM_py_40_sid_80fa_model_python_157826763...\n",
       "17  Grid_GLM_py_40_sid_80fa_model_python_157826763...\n",
       "18  Grid_GLM_py_40_sid_80fa_model_python_157826763...\n",
       "19  Grid_GLM_py_40_sid_80fa_model_python_157826763...\n",
       "20  Grid_GLM_py_40_sid_80fa_model_python_157826763...\n",
       "21  Grid_GLM_py_40_sid_80fa_model_python_157826763...\n",
       "22  Grid_GLM_py_40_sid_80fa_model_python_157826763...\n",
       "23  Grid_GLM_py_40_sid_80fa_model_python_157826763...\n",
       "24  Grid_GLM_py_40_sid_80fa_model_python_157826763...\n",
       "25  Grid_GLM_py_40_sid_80fa_model_python_157826763...\n",
       "26            NaiveBayes_model_python_1578267636222_1\n",
       "27            NaiveBayes_model_python_1578267636222_2\n",
       "28                             allyears2k_headers.hex\n",
       "29                            allyears2k_headers1.hex\n",
       "..                                                ...\n",
       "64  modelmetrics_Grid_GLM_py_40_sid_80fa_model_pyt...\n",
       "65  modelmetrics_Grid_GLM_py_40_sid_80fa_model_pyt...\n",
       "66  modelmetrics_Grid_GLM_py_40_sid_80fa_model_pyt...\n",
       "67  modelmetrics_Grid_GLM_py_40_sid_80fa_model_pyt...\n",
       "68  modelmetrics_Grid_GLM_py_40_sid_80fa_model_pyt...\n",
       "69  modelmetrics_Grid_GLM_py_40_sid_80fa_model_pyt...\n",
       "70  modelmetrics_Grid_GLM_py_40_sid_80fa_model_pyt...\n",
       "71  modelmetrics_Grid_GLM_py_40_sid_80fa_model_pyt...\n",
       "72  modelmetrics_Grid_GLM_py_40_sid_80fa_model_pyt...\n",
       "73  modelmetrics_Grid_GLM_py_40_sid_80fa_model_pyt...\n",
       "74  modelmetrics_Grid_GLM_py_40_sid_80fa_model_pyt...\n",
       "75  modelmetrics_Grid_GLM_py_40_sid_80fa_model_pyt...\n",
       "76  modelmetrics_Grid_GLM_py_40_sid_80fa_model_pyt...\n",
       "77  modelmetrics_Grid_GLM_py_40_sid_80fa_model_pyt...\n",
       "78  modelmetrics_Grid_GLM_py_40_sid_80fa_model_pyt...\n",
       "79  modelmetrics_Grid_GLM_py_40_sid_80fa_model_pyt...\n",
       "80  modelmetrics_NaiveBayes_model_python_157826763...\n",
       "81  modelmetrics_NaiveBayes_model_python_157826763...\n",
       "82  modelmetrics_NaiveBayes_model_python_157826763...\n",
       "83  modelmetrics_NaiveBayes_model_python_157826763...\n",
       "84                                     py_34_sid_80fa\n",
       "85                                     py_35_sid_80fa\n",
       "86                                     py_36_sid_80fa\n",
       "87                                     py_37_sid_80fa\n",
       "88                                      py_3_sid_8368\n",
       "89                                     py_40_sid_80fa\n",
       "90                                     py_41_sid_80fa\n",
       "91                                     py_42_sid_80fa\n",
       "92                                      py_4_sid_8368\n",
       "93                                      py_5_sid_8368\n",
       "\n",
       "[94 rows x 1 columns]"
      ]
     },
     "execution_count": 8,
     "metadata": {},
     "output_type": "execute_result"
    }
   ],
   "source": [
    "h2o.ls() # check all dataset in H2O"
   ]
  },
  {
   "cell_type": "code",
   "execution_count": 9,
   "metadata": {},
   "outputs": [
    {
     "data": {
      "text/plain": [
       "31"
      ]
     },
     "execution_count": 9,
     "metadata": {},
     "output_type": "execute_result"
    }
   ],
   "source": [
    "data.ncol"
   ]
  },
  {
   "cell_type": "code",
   "execution_count": 10,
   "metadata": {},
   "outputs": [],
   "source": [
    "dates = data[:, 0:4]"
   ]
  },
  {
   "cell_type": "code",
   "execution_count": 11,
   "metadata": {},
   "outputs": [],
   "source": [
    "airports = data[:, ['Origin', 'Dest']]"
   ]
  },
  {
   "cell_type": "code",
   "execution_count": 12,
   "metadata": {},
   "outputs": [
    {
     "data": {
      "text/plain": [
       "4"
      ]
     },
     "execution_count": 12,
     "metadata": {},
     "output_type": "execute_result"
    }
   ],
   "source": [
    "dates.ncol"
   ]
  },
  {
   "cell_type": "code",
   "execution_count": 13,
   "metadata": {},
   "outputs": [
    {
     "data": {
      "text/plain": [
       "2"
      ]
     },
     "execution_count": 13,
     "metadata": {},
     "output_type": "execute_result"
    }
   ],
   "source": [
    "airports.ncol"
   ]
  },
  {
   "cell_type": "markdown",
   "metadata": {},
   "source": [
    "## need same rows for cbind"
   ]
  },
  {
   "cell_type": "code",
   "execution_count": 14,
   "metadata": {},
   "outputs": [],
   "source": [
    "a_and_d = airports.cbind(dates)"
   ]
  },
  {
   "cell_type": "code",
   "execution_count": 15,
   "metadata": {},
   "outputs": [
    {
     "data": {
      "text/plain": [
       "[43978, 6]"
      ]
     },
     "execution_count": 15,
     "metadata": {},
     "output_type": "execute_result"
    }
   ],
   "source": [
    "a_and_d.dim"
   ]
  },
  {
   "cell_type": "markdown",
   "metadata": {},
   "source": [
    "## need same columns for rbind"
   ]
  },
  {
   "cell_type": "code",
   "execution_count": 16,
   "metadata": {},
   "outputs": [],
   "source": [
    "restored_data = train.rbind([valid, test])"
   ]
  },
  {
   "cell_type": "code",
   "execution_count": 17,
   "metadata": {},
   "outputs": [
    {
     "data": {
      "text/plain": [
       "[43978, 31]"
      ]
     },
     "execution_count": 17,
     "metadata": {},
     "output_type": "execute_result"
    }
   ],
   "source": [
    "restored_data.dim"
   ]
  },
  {
   "cell_type": "code",
   "execution_count": 18,
   "metadata": {},
   "outputs": [
    {
     "data": {
      "text/plain": [
       "[43978, 31]"
      ]
     },
     "execution_count": 18,
     "metadata": {},
     "output_type": "execute_result"
    }
   ],
   "source": [
    "data.dim"
   ]
  },
  {
   "cell_type": "code",
   "execution_count": 19,
   "metadata": {},
   "outputs": [
    {
     "data": {
      "text/html": [
       "<table>\n",
       "<thead>\n",
       "<tr><th style=\"text-align: right;\">  Year</th><th style=\"text-align: right;\">  Month</th><th style=\"text-align: right;\">  DayofMonth</th><th style=\"text-align: right;\">  DayOfWeek</th></tr>\n",
       "</thead>\n",
       "<tbody>\n",
       "<tr><td style=\"text-align: right;\">  1987</td><td style=\"text-align: right;\">     10</td><td style=\"text-align: right;\">          14</td><td style=\"text-align: right;\">          3</td></tr>\n",
       "<tr><td style=\"text-align: right;\">  1987</td><td style=\"text-align: right;\">     10</td><td style=\"text-align: right;\">          15</td><td style=\"text-align: right;\">          4</td></tr>\n",
       "<tr><td style=\"text-align: right;\">  1987</td><td style=\"text-align: right;\">     10</td><td style=\"text-align: right;\">          17</td><td style=\"text-align: right;\">          6</td></tr>\n",
       "<tr><td style=\"text-align: right;\">  1987</td><td style=\"text-align: right;\">     10</td><td style=\"text-align: right;\">          18</td><td style=\"text-align: right;\">          7</td></tr>\n",
       "<tr><td style=\"text-align: right;\">  1987</td><td style=\"text-align: right;\">     10</td><td style=\"text-align: right;\">          19</td><td style=\"text-align: right;\">          1</td></tr>\n",
       "<tr><td style=\"text-align: right;\">  1987</td><td style=\"text-align: right;\">     10</td><td style=\"text-align: right;\">          21</td><td style=\"text-align: right;\">          3</td></tr>\n",
       "<tr><td style=\"text-align: right;\">  1987</td><td style=\"text-align: right;\">     10</td><td style=\"text-align: right;\">          22</td><td style=\"text-align: right;\">          4</td></tr>\n",
       "<tr><td style=\"text-align: right;\">  1987</td><td style=\"text-align: right;\">     10</td><td style=\"text-align: right;\">          23</td><td style=\"text-align: right;\">          5</td></tr>\n",
       "<tr><td style=\"text-align: right;\">  1987</td><td style=\"text-align: right;\">     10</td><td style=\"text-align: right;\">          26</td><td style=\"text-align: right;\">          1</td></tr>\n",
       "<tr><td style=\"text-align: right;\">  1987</td><td style=\"text-align: right;\">     10</td><td style=\"text-align: right;\">          28</td><td style=\"text-align: right;\">          3</td></tr>\n",
       "</tbody>\n",
       "</table>"
      ]
     },
     "metadata": {},
     "output_type": "display_data"
    },
    {
     "data": {
      "text/plain": []
     },
     "execution_count": 19,
     "metadata": {},
     "output_type": "execute_result"
    }
   ],
   "source": [
    "restored_data[:, 0:4].head()"
   ]
  },
  {
   "cell_type": "code",
   "execution_count": 20,
   "metadata": {},
   "outputs": [
    {
     "data": {
      "text/html": [
       "<table>\n",
       "<thead>\n",
       "<tr><th style=\"text-align: right;\">  Year</th><th style=\"text-align: right;\">  Month</th><th style=\"text-align: right;\">  DayofMonth</th><th style=\"text-align: right;\">  DayOfWeek</th></tr>\n",
       "</thead>\n",
       "<tbody>\n",
       "<tr><td style=\"text-align: right;\">  1987</td><td style=\"text-align: right;\">     10</td><td style=\"text-align: right;\">          14</td><td style=\"text-align: right;\">          3</td></tr>\n",
       "<tr><td style=\"text-align: right;\">  1987</td><td style=\"text-align: right;\">     10</td><td style=\"text-align: right;\">          15</td><td style=\"text-align: right;\">          4</td></tr>\n",
       "<tr><td style=\"text-align: right;\">  1987</td><td style=\"text-align: right;\">     10</td><td style=\"text-align: right;\">          17</td><td style=\"text-align: right;\">          6</td></tr>\n",
       "<tr><td style=\"text-align: right;\">  1987</td><td style=\"text-align: right;\">     10</td><td style=\"text-align: right;\">          18</td><td style=\"text-align: right;\">          7</td></tr>\n",
       "<tr><td style=\"text-align: right;\">  1987</td><td style=\"text-align: right;\">     10</td><td style=\"text-align: right;\">          19</td><td style=\"text-align: right;\">          1</td></tr>\n",
       "<tr><td style=\"text-align: right;\">  1987</td><td style=\"text-align: right;\">     10</td><td style=\"text-align: right;\">          21</td><td style=\"text-align: right;\">          3</td></tr>\n",
       "<tr><td style=\"text-align: right;\">  1987</td><td style=\"text-align: right;\">     10</td><td style=\"text-align: right;\">          22</td><td style=\"text-align: right;\">          4</td></tr>\n",
       "<tr><td style=\"text-align: right;\">  1987</td><td style=\"text-align: right;\">     10</td><td style=\"text-align: right;\">          23</td><td style=\"text-align: right;\">          5</td></tr>\n",
       "<tr><td style=\"text-align: right;\">  1987</td><td style=\"text-align: right;\">     10</td><td style=\"text-align: right;\">          24</td><td style=\"text-align: right;\">          6</td></tr>\n",
       "<tr><td style=\"text-align: right;\">  1987</td><td style=\"text-align: right;\">     10</td><td style=\"text-align: right;\">          25</td><td style=\"text-align: right;\">          7</td></tr>\n",
       "</tbody>\n",
       "</table>"
      ]
     },
     "metadata": {},
     "output_type": "display_data"
    },
    {
     "data": {
      "text/plain": []
     },
     "execution_count": 20,
     "metadata": {},
     "output_type": "execute_result"
    }
   ],
   "source": [
    "data[:, 0:4].head()"
   ]
  },
  {
   "cell_type": "code",
   "execution_count": 21,
   "metadata": {},
   "outputs": [
    {
     "data": {
      "text/html": [
       "<table>\n",
       "<thead>\n",
       "<tr><th style=\"text-align: right;\">  Year</th><th style=\"text-align: right;\">  Month</th><th style=\"text-align: right;\">  DayofMonth</th><th style=\"text-align: right;\">  DayOfWeek</th></tr>\n",
       "</thead>\n",
       "<tbody>\n",
       "<tr><td style=\"text-align: right;\">  1987</td><td style=\"text-align: right;\">     10</td><td style=\"text-align: right;\">          14</td><td style=\"text-align: right;\">          3</td></tr>\n",
       "<tr><td style=\"text-align: right;\">  1987</td><td style=\"text-align: right;\">     10</td><td style=\"text-align: right;\">          15</td><td style=\"text-align: right;\">          4</td></tr>\n",
       "<tr><td style=\"text-align: right;\">  1987</td><td style=\"text-align: right;\">     10</td><td style=\"text-align: right;\">          17</td><td style=\"text-align: right;\">          6</td></tr>\n",
       "<tr><td style=\"text-align: right;\">  1987</td><td style=\"text-align: right;\">     10</td><td style=\"text-align: right;\">          18</td><td style=\"text-align: right;\">          7</td></tr>\n",
       "<tr><td style=\"text-align: right;\">  1987</td><td style=\"text-align: right;\">     10</td><td style=\"text-align: right;\">          19</td><td style=\"text-align: right;\">          1</td></tr>\n",
       "<tr><td style=\"text-align: right;\">  1987</td><td style=\"text-align: right;\">     10</td><td style=\"text-align: right;\">          21</td><td style=\"text-align: right;\">          3</td></tr>\n",
       "<tr><td style=\"text-align: right;\">  1987</td><td style=\"text-align: right;\">     10</td><td style=\"text-align: right;\">          22</td><td style=\"text-align: right;\">          4</td></tr>\n",
       "<tr><td style=\"text-align: right;\">  1987</td><td style=\"text-align: right;\">     10</td><td style=\"text-align: right;\">          23</td><td style=\"text-align: right;\">          5</td></tr>\n",
       "<tr><td style=\"text-align: right;\">  1987</td><td style=\"text-align: right;\">     10</td><td style=\"text-align: right;\">          26</td><td style=\"text-align: right;\">          1</td></tr>\n",
       "<tr><td style=\"text-align: right;\">  1987</td><td style=\"text-align: right;\">     10</td><td style=\"text-align: right;\">          28</td><td style=\"text-align: right;\">          3</td></tr>\n",
       "</tbody>\n",
       "</table>"
      ]
     },
     "metadata": {},
     "output_type": "display_data"
    },
    {
     "data": {
      "text/plain": []
     },
     "execution_count": 21,
     "metadata": {},
     "output_type": "execute_result"
    }
   ],
   "source": [
    "train[:, 0:4].head()"
   ]
  },
  {
   "cell_type": "markdown",
   "metadata": {},
   "source": [
    "## Merge"
   ]
  },
  {
   "cell_type": "code",
   "execution_count": 23,
   "metadata": {},
   "outputs": [
    {
     "name": "stdout",
     "output_type": "stream",
     "text": [
      "Parse progress: |█████████████████████████████████████████████████████████| 100%\n"
     ]
    }
   ],
   "source": [
    "import pandas as pd\n",
    "\n",
    "A = h2o.H2OFrame(pd.DataFrame({'a': range(1,11), 'b': range(11,21), 'c': range(21,31)}), \n",
    "                 destination_frame = \"A\")"
   ]
  },
  {
   "cell_type": "code",
   "execution_count": 24,
   "metadata": {},
   "outputs": [
    {
     "data": {
      "text/html": [
       "<div>\n",
       "<style scoped>\n",
       "    .dataframe tbody tr th:only-of-type {\n",
       "        vertical-align: middle;\n",
       "    }\n",
       "\n",
       "    .dataframe tbody tr th {\n",
       "        vertical-align: top;\n",
       "    }\n",
       "\n",
       "    .dataframe thead th {\n",
       "        text-align: right;\n",
       "    }\n",
       "</style>\n",
       "<table border=\"1\" class=\"dataframe\">\n",
       "  <thead>\n",
       "    <tr style=\"text-align: right;\">\n",
       "      <th></th>\n",
       "      <th>a</th>\n",
       "      <th>b</th>\n",
       "      <th>c</th>\n",
       "    </tr>\n",
       "  </thead>\n",
       "  <tbody>\n",
       "    <tr>\n",
       "      <th>0</th>\n",
       "      <td>1</td>\n",
       "      <td>11</td>\n",
       "      <td>21</td>\n",
       "    </tr>\n",
       "    <tr>\n",
       "      <th>1</th>\n",
       "      <td>2</td>\n",
       "      <td>12</td>\n",
       "      <td>22</td>\n",
       "    </tr>\n",
       "    <tr>\n",
       "      <th>2</th>\n",
       "      <td>3</td>\n",
       "      <td>13</td>\n",
       "      <td>23</td>\n",
       "    </tr>\n",
       "    <tr>\n",
       "      <th>3</th>\n",
       "      <td>4</td>\n",
       "      <td>14</td>\n",
       "      <td>24</td>\n",
       "    </tr>\n",
       "    <tr>\n",
       "      <th>4</th>\n",
       "      <td>5</td>\n",
       "      <td>15</td>\n",
       "      <td>25</td>\n",
       "    </tr>\n",
       "    <tr>\n",
       "      <th>5</th>\n",
       "      <td>6</td>\n",
       "      <td>16</td>\n",
       "      <td>26</td>\n",
       "    </tr>\n",
       "    <tr>\n",
       "      <th>6</th>\n",
       "      <td>7</td>\n",
       "      <td>17</td>\n",
       "      <td>27</td>\n",
       "    </tr>\n",
       "    <tr>\n",
       "      <th>7</th>\n",
       "      <td>8</td>\n",
       "      <td>18</td>\n",
       "      <td>28</td>\n",
       "    </tr>\n",
       "    <tr>\n",
       "      <th>8</th>\n",
       "      <td>9</td>\n",
       "      <td>19</td>\n",
       "      <td>29</td>\n",
       "    </tr>\n",
       "    <tr>\n",
       "      <th>9</th>\n",
       "      <td>10</td>\n",
       "      <td>20</td>\n",
       "      <td>30</td>\n",
       "    </tr>\n",
       "  </tbody>\n",
       "</table>\n",
       "</div>"
      ],
      "text/plain": [
       "    a   b   c\n",
       "0   1  11  21\n",
       "1   2  12  22\n",
       "2   3  13  23\n",
       "3   4  14  24\n",
       "4   5  15  25\n",
       "5   6  16  26\n",
       "6   7  17  27\n",
       "7   8  18  28\n",
       "8   9  19  29\n",
       "9  10  20  30"
      ]
     },
     "execution_count": 24,
     "metadata": {},
     "output_type": "execute_result"
    }
   ],
   "source": [
    "A.as_data_frame()"
   ]
  },
  {
   "cell_type": "code",
   "execution_count": 26,
   "metadata": {},
   "outputs": [
    {
     "name": "stdout",
     "output_type": "stream",
     "text": [
      "Parse progress: |█████████████████████████████████████████████████████████| 100%\n"
     ]
    }
   ],
   "source": [
    "import numpy as np\n",
    "\n",
    "np.random.seed(123)\n",
    "B = h2o.H2OFrame(pd.DataFrame({'a': np.random.randint(6,13,20), 'b': np.random.randint(6,13,20)}), \n",
    "                 destination_frame = \"B\")"
   ]
  },
  {
   "cell_type": "code",
   "execution_count": 27,
   "metadata": {},
   "outputs": [
    {
     "data": {
      "text/html": [
       "<div>\n",
       "<style scoped>\n",
       "    .dataframe tbody tr th:only-of-type {\n",
       "        vertical-align: middle;\n",
       "    }\n",
       "\n",
       "    .dataframe tbody tr th {\n",
       "        vertical-align: top;\n",
       "    }\n",
       "\n",
       "    .dataframe thead th {\n",
       "        text-align: right;\n",
       "    }\n",
       "</style>\n",
       "<table border=\"1\" class=\"dataframe\">\n",
       "  <thead>\n",
       "    <tr style=\"text-align: right;\">\n",
       "      <th></th>\n",
       "      <th>a</th>\n",
       "      <th>b</th>\n",
       "    </tr>\n",
       "  </thead>\n",
       "  <tbody>\n",
       "    <tr>\n",
       "      <th>0</th>\n",
       "      <td>12</td>\n",
       "      <td>6</td>\n",
       "    </tr>\n",
       "    <tr>\n",
       "      <th>1</th>\n",
       "      <td>11</td>\n",
       "      <td>7</td>\n",
       "    </tr>\n",
       "    <tr>\n",
       "      <th>2</th>\n",
       "      <td>12</td>\n",
       "      <td>9</td>\n",
       "    </tr>\n",
       "    <tr>\n",
       "      <th>3</th>\n",
       "      <td>8</td>\n",
       "      <td>12</td>\n",
       "    </tr>\n",
       "    <tr>\n",
       "      <th>4</th>\n",
       "      <td>10</td>\n",
       "      <td>11</td>\n",
       "    </tr>\n",
       "    <tr>\n",
       "      <th>5</th>\n",
       "      <td>8</td>\n",
       "      <td>10</td>\n",
       "    </tr>\n",
       "    <tr>\n",
       "      <th>6</th>\n",
       "      <td>12</td>\n",
       "      <td>6</td>\n",
       "    </tr>\n",
       "    <tr>\n",
       "      <th>7</th>\n",
       "      <td>7</td>\n",
       "      <td>6</td>\n",
       "    </tr>\n",
       "    <tr>\n",
       "      <th>8</th>\n",
       "      <td>9</td>\n",
       "      <td>10</td>\n",
       "    </tr>\n",
       "    <tr>\n",
       "      <th>9</th>\n",
       "      <td>8</td>\n",
       "      <td>7</td>\n",
       "    </tr>\n",
       "    <tr>\n",
       "      <th>10</th>\n",
       "      <td>9</td>\n",
       "      <td>9</td>\n",
       "    </tr>\n",
       "    <tr>\n",
       "      <th>11</th>\n",
       "      <td>7</td>\n",
       "      <td>8</td>\n",
       "    </tr>\n",
       "    <tr>\n",
       "      <th>12</th>\n",
       "      <td>12</td>\n",
       "      <td>10</td>\n",
       "    </tr>\n",
       "    <tr>\n",
       "      <th>13</th>\n",
       "      <td>7</td>\n",
       "      <td>8</td>\n",
       "    </tr>\n",
       "    <tr>\n",
       "      <th>14</th>\n",
       "      <td>6</td>\n",
       "      <td>10</td>\n",
       "    </tr>\n",
       "    <tr>\n",
       "      <th>15</th>\n",
       "      <td>7</td>\n",
       "      <td>6</td>\n",
       "    </tr>\n",
       "    <tr>\n",
       "      <th>16</th>\n",
       "      <td>12</td>\n",
       "      <td>11</td>\n",
       "    </tr>\n",
       "    <tr>\n",
       "      <th>17</th>\n",
       "      <td>7</td>\n",
       "      <td>6</td>\n",
       "    </tr>\n",
       "    <tr>\n",
       "      <th>18</th>\n",
       "      <td>6</td>\n",
       "      <td>7</td>\n",
       "    </tr>\n",
       "    <tr>\n",
       "      <th>19</th>\n",
       "      <td>12</td>\n",
       "      <td>9</td>\n",
       "    </tr>\n",
       "  </tbody>\n",
       "</table>\n",
       "</div>"
      ],
      "text/plain": [
       "     a   b\n",
       "0   12   6\n",
       "1   11   7\n",
       "2   12   9\n",
       "3    8  12\n",
       "4   10  11\n",
       "5    8  10\n",
       "6   12   6\n",
       "7    7   6\n",
       "8    9  10\n",
       "9    8   7\n",
       "10   9   9\n",
       "11   7   8\n",
       "12  12  10\n",
       "13   7   8\n",
       "14   6  10\n",
       "15   7   6\n",
       "16  12  11\n",
       "17   7   6\n",
       "18   6   7\n",
       "19  12   9"
      ]
     },
     "execution_count": 27,
     "metadata": {},
     "output_type": "execute_result"
    }
   ],
   "source": [
    "B.as_data_frame()"
   ]
  },
  {
   "cell_type": "code",
   "execution_count": 29,
   "metadata": {},
   "outputs": [],
   "source": [
    "M = A.merge(B)"
   ]
  },
  {
   "cell_type": "code",
   "execution_count": 30,
   "metadata": {},
   "outputs": [
    {
     "data": {
      "text/html": [
       "<div>\n",
       "<style scoped>\n",
       "    .dataframe tbody tr th:only-of-type {\n",
       "        vertical-align: middle;\n",
       "    }\n",
       "\n",
       "    .dataframe tbody tr th {\n",
       "        vertical-align: top;\n",
       "    }\n",
       "\n",
       "    .dataframe thead th {\n",
       "        text-align: right;\n",
       "    }\n",
       "</style>\n",
       "<table border=\"1\" class=\"dataframe\">\n",
       "  <thead>\n",
       "    <tr style=\"text-align: right;\">\n",
       "      <th></th>\n",
       "      <th>a</th>\n",
       "      <th>b</th>\n",
       "      <th>c</th>\n",
       "    </tr>\n",
       "  </thead>\n",
       "  <tbody>\n",
       "  </tbody>\n",
       "</table>\n",
       "</div>"
      ],
      "text/plain": [
       "Empty DataFrame\n",
       "Columns: [a, b, c]\n",
       "Index: []"
      ]
     },
     "execution_count": 30,
     "metadata": {},
     "output_type": "execute_result"
    }
   ],
   "source": [
    "M.as_data_frame()"
   ]
  },
  {
   "cell_type": "code",
   "execution_count": 31,
   "metadata": {},
   "outputs": [],
   "source": [
    "M = B.merge(A)"
   ]
  },
  {
   "cell_type": "code",
   "execution_count": 32,
   "metadata": {},
   "outputs": [
    {
     "data": {
      "text/html": [
       "<div>\n",
       "<style scoped>\n",
       "    .dataframe tbody tr th:only-of-type {\n",
       "        vertical-align: middle;\n",
       "    }\n",
       "\n",
       "    .dataframe tbody tr th {\n",
       "        vertical-align: top;\n",
       "    }\n",
       "\n",
       "    .dataframe thead th {\n",
       "        text-align: right;\n",
       "    }\n",
       "</style>\n",
       "<table border=\"1\" class=\"dataframe\">\n",
       "  <thead>\n",
       "    <tr style=\"text-align: right;\">\n",
       "      <th></th>\n",
       "      <th>a</th>\n",
       "      <th>b</th>\n",
       "      <th>c</th>\n",
       "    </tr>\n",
       "  </thead>\n",
       "  <tbody>\n",
       "  </tbody>\n",
       "</table>\n",
       "</div>"
      ],
      "text/plain": [
       "Empty DataFrame\n",
       "Columns: [a, b, c]\n",
       "Index: []"
      ]
     },
     "execution_count": 32,
     "metadata": {},
     "output_type": "execute_result"
    }
   ],
   "source": [
    "M.as_data_frame()"
   ]
  },
  {
   "cell_type": "code",
   "execution_count": 33,
   "metadata": {},
   "outputs": [],
   "source": [
    "M = B.merge(A, by_x = \"b\", by_y = [\"a\"])"
   ]
  },
  {
   "cell_type": "code",
   "execution_count": 34,
   "metadata": {},
   "outputs": [
    {
     "data": {
      "text/html": [
       "<div>\n",
       "<style scoped>\n",
       "    .dataframe tbody tr th:only-of-type {\n",
       "        vertical-align: middle;\n",
       "    }\n",
       "\n",
       "    .dataframe tbody tr th {\n",
       "        vertical-align: top;\n",
       "    }\n",
       "\n",
       "    .dataframe thead th {\n",
       "        text-align: right;\n",
       "    }\n",
       "</style>\n",
       "<table border=\"1\" class=\"dataframe\">\n",
       "  <thead>\n",
       "    <tr style=\"text-align: right;\">\n",
       "      <th></th>\n",
       "      <th>b</th>\n",
       "      <th>a</th>\n",
       "      <th>b.1</th>\n",
       "      <th>c</th>\n",
       "    </tr>\n",
       "  </thead>\n",
       "  <tbody>\n",
       "    <tr>\n",
       "      <th>0</th>\n",
       "      <td>6</td>\n",
       "      <td>12</td>\n",
       "      <td>16</td>\n",
       "      <td>26</td>\n",
       "    </tr>\n",
       "    <tr>\n",
       "      <th>1</th>\n",
       "      <td>6</td>\n",
       "      <td>12</td>\n",
       "      <td>16</td>\n",
       "      <td>26</td>\n",
       "    </tr>\n",
       "    <tr>\n",
       "      <th>2</th>\n",
       "      <td>6</td>\n",
       "      <td>7</td>\n",
       "      <td>16</td>\n",
       "      <td>26</td>\n",
       "    </tr>\n",
       "    <tr>\n",
       "      <th>3</th>\n",
       "      <td>6</td>\n",
       "      <td>7</td>\n",
       "      <td>16</td>\n",
       "      <td>26</td>\n",
       "    </tr>\n",
       "    <tr>\n",
       "      <th>4</th>\n",
       "      <td>6</td>\n",
       "      <td>7</td>\n",
       "      <td>16</td>\n",
       "      <td>26</td>\n",
       "    </tr>\n",
       "    <tr>\n",
       "      <th>5</th>\n",
       "      <td>7</td>\n",
       "      <td>11</td>\n",
       "      <td>17</td>\n",
       "      <td>27</td>\n",
       "    </tr>\n",
       "    <tr>\n",
       "      <th>6</th>\n",
       "      <td>7</td>\n",
       "      <td>8</td>\n",
       "      <td>17</td>\n",
       "      <td>27</td>\n",
       "    </tr>\n",
       "    <tr>\n",
       "      <th>7</th>\n",
       "      <td>7</td>\n",
       "      <td>6</td>\n",
       "      <td>17</td>\n",
       "      <td>27</td>\n",
       "    </tr>\n",
       "    <tr>\n",
       "      <th>8</th>\n",
       "      <td>8</td>\n",
       "      <td>7</td>\n",
       "      <td>18</td>\n",
       "      <td>28</td>\n",
       "    </tr>\n",
       "    <tr>\n",
       "      <th>9</th>\n",
       "      <td>8</td>\n",
       "      <td>7</td>\n",
       "      <td>18</td>\n",
       "      <td>28</td>\n",
       "    </tr>\n",
       "    <tr>\n",
       "      <th>10</th>\n",
       "      <td>9</td>\n",
       "      <td>12</td>\n",
       "      <td>19</td>\n",
       "      <td>29</td>\n",
       "    </tr>\n",
       "    <tr>\n",
       "      <th>11</th>\n",
       "      <td>9</td>\n",
       "      <td>9</td>\n",
       "      <td>19</td>\n",
       "      <td>29</td>\n",
       "    </tr>\n",
       "    <tr>\n",
       "      <th>12</th>\n",
       "      <td>9</td>\n",
       "      <td>12</td>\n",
       "      <td>19</td>\n",
       "      <td>29</td>\n",
       "    </tr>\n",
       "    <tr>\n",
       "      <th>13</th>\n",
       "      <td>10</td>\n",
       "      <td>8</td>\n",
       "      <td>20</td>\n",
       "      <td>30</td>\n",
       "    </tr>\n",
       "    <tr>\n",
       "      <th>14</th>\n",
       "      <td>10</td>\n",
       "      <td>9</td>\n",
       "      <td>20</td>\n",
       "      <td>30</td>\n",
       "    </tr>\n",
       "    <tr>\n",
       "      <th>15</th>\n",
       "      <td>10</td>\n",
       "      <td>12</td>\n",
       "      <td>20</td>\n",
       "      <td>30</td>\n",
       "    </tr>\n",
       "    <tr>\n",
       "      <th>16</th>\n",
       "      <td>10</td>\n",
       "      <td>6</td>\n",
       "      <td>20</td>\n",
       "      <td>30</td>\n",
       "    </tr>\n",
       "  </tbody>\n",
       "</table>\n",
       "</div>"
      ],
      "text/plain": [
       "     b   a  b.1   c\n",
       "0    6  12   16  26\n",
       "1    6  12   16  26\n",
       "2    6   7   16  26\n",
       "3    6   7   16  26\n",
       "4    6   7   16  26\n",
       "5    7  11   17  27\n",
       "6    7   8   17  27\n",
       "7    7   6   17  27\n",
       "8    8   7   18  28\n",
       "9    8   7   18  28\n",
       "10   9  12   19  29\n",
       "11   9   9   19  29\n",
       "12   9  12   19  29\n",
       "13  10   8   20  30\n",
       "14  10   9   20  30\n",
       "15  10  12   20  30\n",
       "16  10   6   20  30"
      ]
     },
     "execution_count": 34,
     "metadata": {},
     "output_type": "execute_result"
    }
   ],
   "source": [
    "M.as_data_frame()"
   ]
  },
  {
   "cell_type": "code",
   "execution_count": 35,
   "metadata": {},
   "outputs": [],
   "source": [
    "M = B.merge(A, by_y = \"b\", by_x = [\"a\"])"
   ]
  },
  {
   "cell_type": "code",
   "execution_count": 36,
   "metadata": {},
   "outputs": [
    {
     "data": {
      "text/html": [
       "<div>\n",
       "<style scoped>\n",
       "    .dataframe tbody tr th:only-of-type {\n",
       "        vertical-align: middle;\n",
       "    }\n",
       "\n",
       "    .dataframe tbody tr th {\n",
       "        vertical-align: top;\n",
       "    }\n",
       "\n",
       "    .dataframe thead th {\n",
       "        text-align: right;\n",
       "    }\n",
       "</style>\n",
       "<table border=\"1\" class=\"dataframe\">\n",
       "  <thead>\n",
       "    <tr style=\"text-align: right;\">\n",
       "      <th></th>\n",
       "      <th>a</th>\n",
       "      <th>b</th>\n",
       "      <th>a.1</th>\n",
       "      <th>c</th>\n",
       "    </tr>\n",
       "  </thead>\n",
       "  <tbody>\n",
       "    <tr>\n",
       "      <th>0</th>\n",
       "      <td>11</td>\n",
       "      <td>7</td>\n",
       "      <td>1</td>\n",
       "      <td>21</td>\n",
       "    </tr>\n",
       "    <tr>\n",
       "      <th>1</th>\n",
       "      <td>12</td>\n",
       "      <td>6</td>\n",
       "      <td>2</td>\n",
       "      <td>22</td>\n",
       "    </tr>\n",
       "    <tr>\n",
       "      <th>2</th>\n",
       "      <td>12</td>\n",
       "      <td>9</td>\n",
       "      <td>2</td>\n",
       "      <td>22</td>\n",
       "    </tr>\n",
       "    <tr>\n",
       "      <th>3</th>\n",
       "      <td>12</td>\n",
       "      <td>6</td>\n",
       "      <td>2</td>\n",
       "      <td>22</td>\n",
       "    </tr>\n",
       "    <tr>\n",
       "      <th>4</th>\n",
       "      <td>12</td>\n",
       "      <td>10</td>\n",
       "      <td>2</td>\n",
       "      <td>22</td>\n",
       "    </tr>\n",
       "    <tr>\n",
       "      <th>5</th>\n",
       "      <td>12</td>\n",
       "      <td>11</td>\n",
       "      <td>2</td>\n",
       "      <td>22</td>\n",
       "    </tr>\n",
       "    <tr>\n",
       "      <th>6</th>\n",
       "      <td>12</td>\n",
       "      <td>9</td>\n",
       "      <td>2</td>\n",
       "      <td>22</td>\n",
       "    </tr>\n",
       "  </tbody>\n",
       "</table>\n",
       "</div>"
      ],
      "text/plain": [
       "    a   b  a.1   c\n",
       "0  11   7    1  21\n",
       "1  12   6    2  22\n",
       "2  12   9    2  22\n",
       "3  12   6    2  22\n",
       "4  12  10    2  22\n",
       "5  12  11    2  22\n",
       "6  12   9    2  22"
      ]
     },
     "execution_count": 36,
     "metadata": {},
     "output_type": "execute_result"
    }
   ],
   "source": [
    "M.as_data_frame()"
   ]
  },
  {
   "cell_type": "code",
   "execution_count": 37,
   "metadata": {},
   "outputs": [],
   "source": [
    "M = A.merge(B, by_y = \"a\", by_x = [\"a\"], all_x = True) # left join on \"a\""
   ]
  },
  {
   "cell_type": "code",
   "execution_count": 38,
   "metadata": {},
   "outputs": [
    {
     "data": {
      "text/html": [
       "<div>\n",
       "<style scoped>\n",
       "    .dataframe tbody tr th:only-of-type {\n",
       "        vertical-align: middle;\n",
       "    }\n",
       "\n",
       "    .dataframe tbody tr th {\n",
       "        vertical-align: top;\n",
       "    }\n",
       "\n",
       "    .dataframe thead th {\n",
       "        text-align: right;\n",
       "    }\n",
       "</style>\n",
       "<table border=\"1\" class=\"dataframe\">\n",
       "  <thead>\n",
       "    <tr style=\"text-align: right;\">\n",
       "      <th></th>\n",
       "      <th>a</th>\n",
       "      <th>b</th>\n",
       "      <th>c</th>\n",
       "      <th>b.1</th>\n",
       "    </tr>\n",
       "  </thead>\n",
       "  <tbody>\n",
       "    <tr>\n",
       "      <th>0</th>\n",
       "      <td>1</td>\n",
       "      <td>11</td>\n",
       "      <td>21</td>\n",
       "      <td>NaN</td>\n",
       "    </tr>\n",
       "    <tr>\n",
       "      <th>1</th>\n",
       "      <td>2</td>\n",
       "      <td>12</td>\n",
       "      <td>22</td>\n",
       "      <td>NaN</td>\n",
       "    </tr>\n",
       "    <tr>\n",
       "      <th>2</th>\n",
       "      <td>3</td>\n",
       "      <td>13</td>\n",
       "      <td>23</td>\n",
       "      <td>NaN</td>\n",
       "    </tr>\n",
       "    <tr>\n",
       "      <th>3</th>\n",
       "      <td>4</td>\n",
       "      <td>14</td>\n",
       "      <td>24</td>\n",
       "      <td>NaN</td>\n",
       "    </tr>\n",
       "    <tr>\n",
       "      <th>4</th>\n",
       "      <td>5</td>\n",
       "      <td>15</td>\n",
       "      <td>25</td>\n",
       "      <td>NaN</td>\n",
       "    </tr>\n",
       "    <tr>\n",
       "      <th>5</th>\n",
       "      <td>6</td>\n",
       "      <td>16</td>\n",
       "      <td>26</td>\n",
       "      <td>10.0</td>\n",
       "    </tr>\n",
       "    <tr>\n",
       "      <th>6</th>\n",
       "      <td>6</td>\n",
       "      <td>16</td>\n",
       "      <td>26</td>\n",
       "      <td>7.0</td>\n",
       "    </tr>\n",
       "    <tr>\n",
       "      <th>7</th>\n",
       "      <td>7</td>\n",
       "      <td>17</td>\n",
       "      <td>27</td>\n",
       "      <td>6.0</td>\n",
       "    </tr>\n",
       "    <tr>\n",
       "      <th>8</th>\n",
       "      <td>7</td>\n",
       "      <td>17</td>\n",
       "      <td>27</td>\n",
       "      <td>8.0</td>\n",
       "    </tr>\n",
       "    <tr>\n",
       "      <th>9</th>\n",
       "      <td>7</td>\n",
       "      <td>17</td>\n",
       "      <td>27</td>\n",
       "      <td>8.0</td>\n",
       "    </tr>\n",
       "    <tr>\n",
       "      <th>10</th>\n",
       "      <td>7</td>\n",
       "      <td>17</td>\n",
       "      <td>27</td>\n",
       "      <td>6.0</td>\n",
       "    </tr>\n",
       "    <tr>\n",
       "      <th>11</th>\n",
       "      <td>7</td>\n",
       "      <td>17</td>\n",
       "      <td>27</td>\n",
       "      <td>6.0</td>\n",
       "    </tr>\n",
       "    <tr>\n",
       "      <th>12</th>\n",
       "      <td>8</td>\n",
       "      <td>18</td>\n",
       "      <td>28</td>\n",
       "      <td>12.0</td>\n",
       "    </tr>\n",
       "    <tr>\n",
       "      <th>13</th>\n",
       "      <td>8</td>\n",
       "      <td>18</td>\n",
       "      <td>28</td>\n",
       "      <td>10.0</td>\n",
       "    </tr>\n",
       "    <tr>\n",
       "      <th>14</th>\n",
       "      <td>8</td>\n",
       "      <td>18</td>\n",
       "      <td>28</td>\n",
       "      <td>7.0</td>\n",
       "    </tr>\n",
       "    <tr>\n",
       "      <th>15</th>\n",
       "      <td>9</td>\n",
       "      <td>19</td>\n",
       "      <td>29</td>\n",
       "      <td>10.0</td>\n",
       "    </tr>\n",
       "    <tr>\n",
       "      <th>16</th>\n",
       "      <td>9</td>\n",
       "      <td>19</td>\n",
       "      <td>29</td>\n",
       "      <td>9.0</td>\n",
       "    </tr>\n",
       "    <tr>\n",
       "      <th>17</th>\n",
       "      <td>10</td>\n",
       "      <td>20</td>\n",
       "      <td>30</td>\n",
       "      <td>11.0</td>\n",
       "    </tr>\n",
       "  </tbody>\n",
       "</table>\n",
       "</div>"
      ],
      "text/plain": [
       "     a   b   c   b.1\n",
       "0    1  11  21   NaN\n",
       "1    2  12  22   NaN\n",
       "2    3  13  23   NaN\n",
       "3    4  14  24   NaN\n",
       "4    5  15  25   NaN\n",
       "5    6  16  26  10.0\n",
       "6    6  16  26   7.0\n",
       "7    7  17  27   6.0\n",
       "8    7  17  27   8.0\n",
       "9    7  17  27   8.0\n",
       "10   7  17  27   6.0\n",
       "11   7  17  27   6.0\n",
       "12   8  18  28  12.0\n",
       "13   8  18  28  10.0\n",
       "14   8  18  28   7.0\n",
       "15   9  19  29  10.0\n",
       "16   9  19  29   9.0\n",
       "17  10  20  30  11.0"
      ]
     },
     "execution_count": 38,
     "metadata": {},
     "output_type": "execute_result"
    }
   ],
   "source": [
    "M.as_data_frame()"
   ]
  },
  {
   "cell_type": "code",
   "execution_count": 39,
   "metadata": {},
   "outputs": [],
   "source": [
    "M = A.merge(B, all_y = True) #right join"
   ]
  },
  {
   "cell_type": "code",
   "execution_count": 40,
   "metadata": {},
   "outputs": [
    {
     "data": {
      "text/html": [
       "<div>\n",
       "<style scoped>\n",
       "    .dataframe tbody tr th:only-of-type {\n",
       "        vertical-align: middle;\n",
       "    }\n",
       "\n",
       "    .dataframe tbody tr th {\n",
       "        vertical-align: top;\n",
       "    }\n",
       "\n",
       "    .dataframe thead th {\n",
       "        text-align: right;\n",
       "    }\n",
       "</style>\n",
       "<table border=\"1\" class=\"dataframe\">\n",
       "  <thead>\n",
       "    <tr style=\"text-align: right;\">\n",
       "      <th></th>\n",
       "      <th>a</th>\n",
       "      <th>b</th>\n",
       "      <th>c</th>\n",
       "    </tr>\n",
       "  </thead>\n",
       "  <tbody>\n",
       "    <tr>\n",
       "      <th>0</th>\n",
       "      <td>6</td>\n",
       "      <td>7</td>\n",
       "      <td>NaN</td>\n",
       "    </tr>\n",
       "    <tr>\n",
       "      <th>1</th>\n",
       "      <td>6</td>\n",
       "      <td>10</td>\n",
       "      <td>NaN</td>\n",
       "    </tr>\n",
       "    <tr>\n",
       "      <th>2</th>\n",
       "      <td>7</td>\n",
       "      <td>6</td>\n",
       "      <td>NaN</td>\n",
       "    </tr>\n",
       "    <tr>\n",
       "      <th>3</th>\n",
       "      <td>7</td>\n",
       "      <td>6</td>\n",
       "      <td>NaN</td>\n",
       "    </tr>\n",
       "    <tr>\n",
       "      <th>4</th>\n",
       "      <td>7</td>\n",
       "      <td>6</td>\n",
       "      <td>NaN</td>\n",
       "    </tr>\n",
       "    <tr>\n",
       "      <th>5</th>\n",
       "      <td>7</td>\n",
       "      <td>8</td>\n",
       "      <td>NaN</td>\n",
       "    </tr>\n",
       "    <tr>\n",
       "      <th>6</th>\n",
       "      <td>7</td>\n",
       "      <td>8</td>\n",
       "      <td>NaN</td>\n",
       "    </tr>\n",
       "    <tr>\n",
       "      <th>7</th>\n",
       "      <td>8</td>\n",
       "      <td>7</td>\n",
       "      <td>NaN</td>\n",
       "    </tr>\n",
       "    <tr>\n",
       "      <th>8</th>\n",
       "      <td>8</td>\n",
       "      <td>10</td>\n",
       "      <td>NaN</td>\n",
       "    </tr>\n",
       "    <tr>\n",
       "      <th>9</th>\n",
       "      <td>8</td>\n",
       "      <td>12</td>\n",
       "      <td>NaN</td>\n",
       "    </tr>\n",
       "    <tr>\n",
       "      <th>10</th>\n",
       "      <td>9</td>\n",
       "      <td>9</td>\n",
       "      <td>NaN</td>\n",
       "    </tr>\n",
       "    <tr>\n",
       "      <th>11</th>\n",
       "      <td>9</td>\n",
       "      <td>10</td>\n",
       "      <td>NaN</td>\n",
       "    </tr>\n",
       "    <tr>\n",
       "      <th>12</th>\n",
       "      <td>10</td>\n",
       "      <td>11</td>\n",
       "      <td>NaN</td>\n",
       "    </tr>\n",
       "    <tr>\n",
       "      <th>13</th>\n",
       "      <td>11</td>\n",
       "      <td>7</td>\n",
       "      <td>NaN</td>\n",
       "    </tr>\n",
       "    <tr>\n",
       "      <th>14</th>\n",
       "      <td>12</td>\n",
       "      <td>6</td>\n",
       "      <td>NaN</td>\n",
       "    </tr>\n",
       "    <tr>\n",
       "      <th>15</th>\n",
       "      <td>12</td>\n",
       "      <td>6</td>\n",
       "      <td>NaN</td>\n",
       "    </tr>\n",
       "    <tr>\n",
       "      <th>16</th>\n",
       "      <td>12</td>\n",
       "      <td>9</td>\n",
       "      <td>NaN</td>\n",
       "    </tr>\n",
       "    <tr>\n",
       "      <th>17</th>\n",
       "      <td>12</td>\n",
       "      <td>9</td>\n",
       "      <td>NaN</td>\n",
       "    </tr>\n",
       "    <tr>\n",
       "      <th>18</th>\n",
       "      <td>12</td>\n",
       "      <td>10</td>\n",
       "      <td>NaN</td>\n",
       "    </tr>\n",
       "    <tr>\n",
       "      <th>19</th>\n",
       "      <td>12</td>\n",
       "      <td>11</td>\n",
       "      <td>NaN</td>\n",
       "    </tr>\n",
       "  </tbody>\n",
       "</table>\n",
       "</div>"
      ],
      "text/plain": [
       "     a   b   c\n",
       "0    6   7 NaN\n",
       "1    6  10 NaN\n",
       "2    7   6 NaN\n",
       "3    7   6 NaN\n",
       "4    7   6 NaN\n",
       "5    7   8 NaN\n",
       "6    7   8 NaN\n",
       "7    8   7 NaN\n",
       "8    8  10 NaN\n",
       "9    8  12 NaN\n",
       "10   9   9 NaN\n",
       "11   9  10 NaN\n",
       "12  10  11 NaN\n",
       "13  11   7 NaN\n",
       "14  12   6 NaN\n",
       "15  12   6 NaN\n",
       "16  12   9 NaN\n",
       "17  12   9 NaN\n",
       "18  12  10 NaN\n",
       "19  12  11 NaN"
      ]
     },
     "execution_count": 40,
     "metadata": {},
     "output_type": "execute_result"
    }
   ],
   "source": [
    "M.as_data_frame()"
   ]
  },
  {
   "cell_type": "markdown",
   "metadata": {},
   "source": [
    "## Grid search for parameter tuning: http://docs.h2o.ai/h2o/latest-stable/h2o-docs/grid-search.html"
   ]
  },
  {
   "cell_type": "code",
   "execution_count": 38,
   "metadata": {},
   "outputs": [],
   "source": [
    "import h2o.grid"
   ]
  },
  {
   "cell_type": "code",
   "execution_count": 39,
   "metadata": {},
   "outputs": [],
   "source": [
    "train, valid, test = data.split_frame([0.8, 0.1], seed = 123)"
   ]
  },
  {
   "cell_type": "code",
   "execution_count": 40,
   "metadata": {},
   "outputs": [],
   "source": [
    "y = \"IsArrDelayed\"\n",
    "ignoreFields = [\"ArrDelay\", \"DepDelay\", \"CarrierDelay\", \"WeatherDelay\", \"NASDelay\", \"SecurityDelay\", \"LateAircraftDelay\", \"IsDepDelayed\", \"IsArrDelayed\", \"ActualElapsedTime\"]\n",
    "xAll = [i for i in train.names if i not in ignoreFields]\n",
    "xLikely = [\"Month\", \"DayOfWeek\", \"UniqueCarrier\", \"Origin\", \"Dest\", \"Distance\", \"Cancelled\", \"Diverted\"]"
   ]
  },
  {
   "cell_type": "code",
   "execution_count": 41,
   "metadata": {},
   "outputs": [],
   "source": [
    "from h2o.estimators.glm import H2OGeneralizedLinearEstimator"
   ]
  },
  {
   "cell_type": "code",
   "execution_count": 42,
   "metadata": {},
   "outputs": [
    {
     "name": "stdout",
     "output_type": "stream",
     "text": [
      "glm Model Build progress: |███████████████████████████████████████████████| 100%\n"
     ]
    }
   ],
   "source": [
    "m_def = H2OGeneralizedLinearEstimator(family = \"binomial\")\n",
    "m_def.train(xAll, y, train, validation_frame = valid)"
   ]
  },
  {
   "cell_type": "code",
   "execution_count": 43,
   "metadata": {},
   "outputs": [
    {
     "data": {
      "text/plain": [
       "0.6145689662556074"
      ]
     },
     "execution_count": 43,
     "metadata": {},
     "output_type": "execute_result"
    }
   ],
   "source": [
    "m_def.logloss(valid = True)"
   ]
  },
  {
   "cell_type": "code",
   "execution_count": 45,
   "metadata": {},
   "outputs": [
    {
     "name": "stdout",
     "output_type": "stream",
     "text": [
      "glm Grid Build progress: |████████████████████████████████████████████████| 100%\n"
     ]
    }
   ],
   "source": [
    "g = h2o.grid.H2OGridSearch(\n",
    "    H2OGeneralizedLinearEstimator(family = \"binomial\", lambda_search = True),\n",
    "    hyper_params = {\"alpha\": [x * 0.01 for x in range(0, 100)]},\n",
    "    search_criteria = {\"strategy\": \"RandomDiscrete\", \"max_models\": 8, \"max_runtime_secs\": 30}\n",
    ")\n",
    "g.train(xAll, y, train, validation_frame = valid)"
   ]
  },
  {
   "cell_type": "code",
   "execution_count": 46,
   "metadata": {},
   "outputs": [
    {
     "name": "stdout",
     "output_type": "stream",
     "text": [
      "                     alpha  \\\n",
      "0                   [0.85]   \n",
      "1                   [0.74]   \n",
      "2                   [0.62]   \n",
      "3                   [0.49]   \n",
      "4    [0.41000000000000003]   \n",
      "5                    [0.3]   \n",
      "6                   [0.25]   \n",
      "7                   [0.24]   \n",
      "\n",
      "                                                      model_ids  \\\n",
      "0  Grid_GLM_py_40_sid_80fa_model_python_1578267636222_6_model_7   \n",
      "1  Grid_GLM_py_40_sid_80fa_model_python_1578267636222_6_model_1   \n",
      "2  Grid_GLM_py_40_sid_80fa_model_python_1578267636222_6_model_4   \n",
      "3  Grid_GLM_py_40_sid_80fa_model_python_1578267636222_6_model_3   \n",
      "4  Grid_GLM_py_40_sid_80fa_model_python_1578267636222_6_model_8   \n",
      "5  Grid_GLM_py_40_sid_80fa_model_python_1578267636222_6_model_2   \n",
      "6  Grid_GLM_py_40_sid_80fa_model_python_1578267636222_6_model_5   \n",
      "7  Grid_GLM_py_40_sid_80fa_model_python_1578267636222_6_model_6   \n",
      "\n",
      "              logloss  \n",
      "0  0.5863455570431854  \n",
      "1  0.5871866196835029  \n",
      "2  0.5882188925135385  \n",
      "3   0.589496094664613  \n",
      "4  0.5904975823313282  \n",
      "5  0.5923670132232042  \n",
      "6  0.5935318955457143  \n",
      "7  0.5937975673300926  \n"
     ]
    },
    {
     "data": {
      "text/plain": []
     },
     "execution_count": 46,
     "metadata": {},
     "output_type": "execute_result"
    }
   ],
   "source": [
    "g"
   ]
  },
  {
   "cell_type": "code",
   "execution_count": 50,
   "metadata": {},
   "outputs": [
    {
     "name": "stdout",
     "output_type": "stream",
     "text": [
      "glm Grid Build progress: |████████████████████████████████████████████████| 100%\n"
     ]
    }
   ],
   "source": [
    "g2 = h2o.grid.H2OGridSearch(\n",
    "    H2OGeneralizedLinearEstimator(family = \"binomial\", lambda_search = True),\n",
    "    hyper_params = {\"alpha\": [0, 0.2, 0.4, 0.5, 0.6, 0.8, 0.99]},\n",
    "    search_criteria = {\"strategy\": \"Cartesian\"}\n",
    ")\n",
    "g2.train(xLikely, y, train, validation_frame = valid)"
   ]
  },
  {
   "cell_type": "code",
   "execution_count": 51,
   "metadata": {},
   "outputs": [
    {
     "name": "stdout",
     "output_type": "stream",
     "text": [
      "      alpha                                                      model_ids  \\\n",
      "0     [0.0]  Grid_GLM_py_40_sid_80fa_model_python_1578267636222_39_model_1   \n",
      "1     [0.2]  Grid_GLM_py_40_sid_80fa_model_python_1578267636222_39_model_2   \n",
      "2     [0.4]  Grid_GLM_py_40_sid_80fa_model_python_1578267636222_39_model_3   \n",
      "3     [0.5]  Grid_GLM_py_40_sid_80fa_model_python_1578267636222_39_model_4   \n",
      "4     [0.6]  Grid_GLM_py_40_sid_80fa_model_python_1578267636222_39_model_5   \n",
      "5     [0.8]  Grid_GLM_py_40_sid_80fa_model_python_1578267636222_39_model_6   \n",
      "6    [0.99]  Grid_GLM_py_40_sid_80fa_model_python_1578267636222_39_model_7   \n",
      "\n",
      "              logloss  \n",
      "0  0.6405356965885607  \n",
      "1  0.6405445477707639  \n",
      "2  0.6406087355878671  \n",
      "3  0.6406415507786855  \n",
      "4   0.640650641941224  \n",
      "5  0.6406784529092207  \n",
      "6  0.6407189840607583  \n"
     ]
    },
    {
     "data": {
      "text/plain": []
     },
     "execution_count": 51,
     "metadata": {},
     "output_type": "execute_result"
    }
   ],
   "source": [
    "g2"
   ]
  }
 ],
 "metadata": {
  "kernelspec": {
   "display_name": "Python 2",
   "language": "python",
   "name": "python2"
  },
  "language_info": {
   "codemirror_mode": {
    "name": "ipython",
    "version": 2
   },
   "file_extension": ".py",
   "mimetype": "text/x-python",
   "name": "python",
   "nbconvert_exporter": "python",
   "pygments_lexer": "ipython2",
   "version": "2.7.15"
  }
 },
 "nbformat": 4,
 "nbformat_minor": 2
}
